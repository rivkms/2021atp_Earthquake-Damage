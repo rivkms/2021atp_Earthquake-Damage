{
  "nbformat": 4,
  "nbformat_minor": 0,
  "metadata": {
    "colab": {
      "name": "main.ipynb",
      "provenance": [],
      "collapsed_sections": [],
      "include_colab_link": true
    },
    "kernelspec": {
      "display_name": "Python 3",
      "language": "python",
      "name": "python3"
    },
    "language_info": {
      "codemirror_mode": {
        "name": "ipython",
        "version": 3
      },
      "file_extension": ".py",
      "mimetype": "text/x-python",
      "name": "python",
      "nbconvert_exporter": "python",
      "pygments_lexer": "ipython3",
      "version": "3.7.6"
    },
    "accelerator": "TPU"
  },
  "cells": [
    {
      "cell_type": "markdown",
      "metadata": {
        "id": "view-in-github",
        "colab_type": "text"
      },
      "source": [
        "<a href=\"https://colab.research.google.com/github/rivkms/atp_ai/blob/main/main.ipynb\" target=\"_parent\"><img src=\"https://colab.research.google.com/assets/colab-badge.svg\" alt=\"Open In Colab\"/></a>"
      ]
    },
    {
      "cell_type": "code",
      "metadata": {
        "id": "pRQNGuVCEeZ9"
      },
      "source": [
        "import os\n",
        "import shutil\n",
        "if(os.path.isdir(\"atp_ai\")):\n",
        "    shutil.rmtree(\"atp_ai\")"
      ],
      "execution_count": 3,
      "outputs": []
    },
    {
      "cell_type": "code",
      "metadata": {
        "colab": {
          "base_uri": "https://localhost:8080/"
        },
        "id": "Jmz26cOWC2DH",
        "outputId": "d3f9af2d-dad1-4f7a-9106-77ea1f50a7ad"
      },
      "source": [
        "!git clone \"https://github.com/rivkms/atp_ai\""
      ],
      "execution_count": 4,
      "outputs": [
        {
          "output_type": "stream",
          "text": [
            "Cloning into 'atp_ai'...\n",
            "remote: Enumerating objects: 37, done.\u001b[K\n",
            "remote: Counting objects: 100% (37/37), done.\u001b[K\n",
            "remote: Compressing objects: 100% (36/36), done.\u001b[K\n",
            "remote: Total 37 (delta 20), reused 0 (delta 0), pack-reused 0\u001b[K\n",
            "Unpacking objects: 100% (37/37), done.\n"
          ],
          "name": "stdout"
        }
      ]
    },
    {
      "cell_type": "code",
      "metadata": {
        "id": "RI9fKr0_QqJ7"
      },
      "source": [
        "# kaggle.json 파일을 적절한 디렉토리로 이동\n",
        "!mkdir -p ~/.kaggle\n",
        "!cp atp_ai/kaggle.json ~/.kaggle/\n",
        "\n",
        "# Permission Warning 이 일어나지 않도록 함 \n",
        "!chmod 600 ~/.kaggle/kaggle.json"
      ],
      "execution_count": 5,
      "outputs": []
    },
    {
      "cell_type": "code",
      "metadata": {
        "colab": {
          "base_uri": "https://localhost:8080/"
        },
        "id": "Bt6GLD6zQ9z4",
        "outputId": "e461e21a-59d5-407d-f252-78d69e973429"
      },
      "source": [
        "# earthquake-magnitude-damage-and-impact 데이터셋 다운로드\n",
        "!kaggle datasets download -d arashnic/earthquake-magnitude-damage-and-impact"
      ],
      "execution_count": 6,
      "outputs": [
        {
          "output_type": "stream",
          "text": [
            "Downloading earthquake-magnitude-damage-and-impact.zip to /content\n",
            " 96% 68.0M/71.1M [00:00<00:00, 63.6MB/s]\n",
            "100% 71.1M/71.1M [00:00<00:00, 81.2MB/s]\n"
          ],
          "name": "stdout"
        }
      ]
    },
    {
      "cell_type": "code",
      "metadata": {
        "colab": {
          "base_uri": "https://localhost:8080/"
        },
        "id": "GeT_MQGiQ97x",
        "scrolled": true,
        "outputId": "4beaa8db-2d36-48aa-b23c-cfcb1e4d64b2"
      },
      "source": [
        "# zip파일 압축 해제 후 현재 디렉토리의 파일 리스트 보기\n",
        "!unzip earthquake-magnitude-damage-and-impact.zip\n",
        "!ls"
      ],
      "execution_count": 7,
      "outputs": [
        {
          "output_type": "stream",
          "text": [
            "Archive:  earthquake-magnitude-damage-and-impact.zip\n",
            "  inflating: csv_building_damage_assessment.csv  \n",
            "  inflating: csv_building_ownership_and_use.csv  \n",
            "  inflating: csv_building_structure.csv  \n",
            "  inflating: csv_household_demographics.csv  \n",
            "  inflating: csv_household_earthquake_impact.csv  \n",
            "  inflating: csv_household_resources.csv  \n",
            "  inflating: csv_individual_demographics.csv  \n",
            "  inflating: mapping.csv             \n",
            "  inflating: ward_vdcmun_district_name_mapping.csv  \n",
            "atp_ai\t\t\t\t     csv_household_resources.csv\n",
            "csv_building_damage_assessment.csv   csv_individual_demographics.csv\n",
            "csv_building_ownership_and_use.csv   earthquake-magnitude-damage-and-impact.zip\n",
            "csv_building_structure.csv\t     mapping.csv\n",
            "csv_household_demographics.csv\t     sample_data\n",
            "csv_household_earthquake_impact.csv  ward_vdcmun_district_name_mapping.csv\n"
          ],
          "name": "stdout"
        }
      ]
    },
    {
      "cell_type": "code",
      "metadata": {
        "colab": {
          "base_uri": "https://localhost:8080/",
          "height": 299
        },
        "id": "jraU2zzWRFoN",
        "outputId": "72846130-0537-43c4-fb2f-66082a5f9c38"
      },
      "source": [
        "import numpy as np\n",
        "import pandas as pd\n",
        "\n",
        "# csv 파일을 pandas dataframe으로 읽기\n",
        "#data = pd.read_csv('./dataset/csv_building_structure.csv')\n",
        "data = pd.read_csv('/content/csv_building_structure.csv')\n",
        "# 상위 5개 행 출력\n",
        "data.head()"
      ],
      "execution_count": 8,
      "outputs": [
        {
          "output_type": "execute_result",
          "data": {
            "text/html": [
              "<div>\n",
              "<style scoped>\n",
              "    .dataframe tbody tr th:only-of-type {\n",
              "        vertical-align: middle;\n",
              "    }\n",
              "\n",
              "    .dataframe tbody tr th {\n",
              "        vertical-align: top;\n",
              "    }\n",
              "\n",
              "    .dataframe thead th {\n",
              "        text-align: right;\n",
              "    }\n",
              "</style>\n",
              "<table border=\"1\" class=\"dataframe\">\n",
              "  <thead>\n",
              "    <tr style=\"text-align: right;\">\n",
              "      <th></th>\n",
              "      <th>building_id</th>\n",
              "      <th>district_id</th>\n",
              "      <th>vdcmun_id</th>\n",
              "      <th>ward_id</th>\n",
              "      <th>count_floors_pre_eq</th>\n",
              "      <th>count_floors_post_eq</th>\n",
              "      <th>age_building</th>\n",
              "      <th>plinth_area_sq_ft</th>\n",
              "      <th>height_ft_pre_eq</th>\n",
              "      <th>height_ft_post_eq</th>\n",
              "      <th>land_surface_condition</th>\n",
              "      <th>foundation_type</th>\n",
              "      <th>roof_type</th>\n",
              "      <th>ground_floor_type</th>\n",
              "      <th>other_floor_type</th>\n",
              "      <th>position</th>\n",
              "      <th>plan_configuration</th>\n",
              "      <th>has_superstructure_adobe_mud</th>\n",
              "      <th>has_superstructure_mud_mortar_stone</th>\n",
              "      <th>has_superstructure_stone_flag</th>\n",
              "      <th>has_superstructure_cement_mortar_stone</th>\n",
              "      <th>has_superstructure_mud_mortar_brick</th>\n",
              "      <th>has_superstructure_cement_mortar_brick</th>\n",
              "      <th>has_superstructure_timber</th>\n",
              "      <th>has_superstructure_bamboo</th>\n",
              "      <th>has_superstructure_rc_non_engineered</th>\n",
              "      <th>has_superstructure_rc_engineered</th>\n",
              "      <th>has_superstructure_other</th>\n",
              "      <th>condition_post_eq</th>\n",
              "      <th>damage_grade</th>\n",
              "      <th>technical_solution_proposed</th>\n",
              "    </tr>\n",
              "  </thead>\n",
              "  <tbody>\n",
              "    <tr>\n",
              "      <th>0</th>\n",
              "      <td>120101000011</td>\n",
              "      <td>12</td>\n",
              "      <td>1207</td>\n",
              "      <td>120703</td>\n",
              "      <td>1</td>\n",
              "      <td>1</td>\n",
              "      <td>9</td>\n",
              "      <td>288</td>\n",
              "      <td>9</td>\n",
              "      <td>9</td>\n",
              "      <td>Flat</td>\n",
              "      <td>Other</td>\n",
              "      <td>Bamboo/Timber-Light roof</td>\n",
              "      <td>Mud</td>\n",
              "      <td>Not applicable</td>\n",
              "      <td>Not attached</td>\n",
              "      <td>Rectangular</td>\n",
              "      <td>0</td>\n",
              "      <td>1</td>\n",
              "      <td>0</td>\n",
              "      <td>0</td>\n",
              "      <td>0</td>\n",
              "      <td>0</td>\n",
              "      <td>0</td>\n",
              "      <td>1</td>\n",
              "      <td>0</td>\n",
              "      <td>0</td>\n",
              "      <td>0</td>\n",
              "      <td>Damaged-Used in risk</td>\n",
              "      <td>Grade 3</td>\n",
              "      <td>Major repair</td>\n",
              "    </tr>\n",
              "    <tr>\n",
              "      <th>1</th>\n",
              "      <td>120101000021</td>\n",
              "      <td>12</td>\n",
              "      <td>1207</td>\n",
              "      <td>120703</td>\n",
              "      <td>1</td>\n",
              "      <td>1</td>\n",
              "      <td>15</td>\n",
              "      <td>364</td>\n",
              "      <td>9</td>\n",
              "      <td>9</td>\n",
              "      <td>Flat</td>\n",
              "      <td>Other</td>\n",
              "      <td>Bamboo/Timber-Light roof</td>\n",
              "      <td>Mud</td>\n",
              "      <td>Not applicable</td>\n",
              "      <td>Not attached</td>\n",
              "      <td>Rectangular</td>\n",
              "      <td>0</td>\n",
              "      <td>1</td>\n",
              "      <td>0</td>\n",
              "      <td>0</td>\n",
              "      <td>0</td>\n",
              "      <td>0</td>\n",
              "      <td>0</td>\n",
              "      <td>1</td>\n",
              "      <td>0</td>\n",
              "      <td>0</td>\n",
              "      <td>0</td>\n",
              "      <td>Damaged-Repaired and used</td>\n",
              "      <td>Grade 5</td>\n",
              "      <td>Reconstruction</td>\n",
              "    </tr>\n",
              "    <tr>\n",
              "      <th>2</th>\n",
              "      <td>120101000031</td>\n",
              "      <td>12</td>\n",
              "      <td>1207</td>\n",
              "      <td>120703</td>\n",
              "      <td>1</td>\n",
              "      <td>1</td>\n",
              "      <td>20</td>\n",
              "      <td>384</td>\n",
              "      <td>9</td>\n",
              "      <td>9</td>\n",
              "      <td>Flat</td>\n",
              "      <td>Other</td>\n",
              "      <td>Bamboo/Timber-Light roof</td>\n",
              "      <td>Mud</td>\n",
              "      <td>Not applicable</td>\n",
              "      <td>Not attached</td>\n",
              "      <td>Rectangular</td>\n",
              "      <td>0</td>\n",
              "      <td>1</td>\n",
              "      <td>0</td>\n",
              "      <td>0</td>\n",
              "      <td>0</td>\n",
              "      <td>0</td>\n",
              "      <td>0</td>\n",
              "      <td>0</td>\n",
              "      <td>0</td>\n",
              "      <td>0</td>\n",
              "      <td>0</td>\n",
              "      <td>Damaged-Repaired and used</td>\n",
              "      <td>Grade 2</td>\n",
              "      <td>Minor repair</td>\n",
              "    </tr>\n",
              "    <tr>\n",
              "      <th>3</th>\n",
              "      <td>120101000041</td>\n",
              "      <td>12</td>\n",
              "      <td>1207</td>\n",
              "      <td>120703</td>\n",
              "      <td>1</td>\n",
              "      <td>1</td>\n",
              "      <td>20</td>\n",
              "      <td>312</td>\n",
              "      <td>9</td>\n",
              "      <td>9</td>\n",
              "      <td>Flat</td>\n",
              "      <td>Other</td>\n",
              "      <td>Bamboo/Timber-Light roof</td>\n",
              "      <td>Mud</td>\n",
              "      <td>Not applicable</td>\n",
              "      <td>Not attached</td>\n",
              "      <td>Rectangular</td>\n",
              "      <td>0</td>\n",
              "      <td>1</td>\n",
              "      <td>0</td>\n",
              "      <td>0</td>\n",
              "      <td>0</td>\n",
              "      <td>0</td>\n",
              "      <td>0</td>\n",
              "      <td>0</td>\n",
              "      <td>0</td>\n",
              "      <td>0</td>\n",
              "      <td>0</td>\n",
              "      <td>Damaged-Repaired and used</td>\n",
              "      <td>Grade 2</td>\n",
              "      <td>Minor repair</td>\n",
              "    </tr>\n",
              "    <tr>\n",
              "      <th>4</th>\n",
              "      <td>120101000051</td>\n",
              "      <td>12</td>\n",
              "      <td>1207</td>\n",
              "      <td>120703</td>\n",
              "      <td>1</td>\n",
              "      <td>1</td>\n",
              "      <td>30</td>\n",
              "      <td>308</td>\n",
              "      <td>9</td>\n",
              "      <td>9</td>\n",
              "      <td>Flat</td>\n",
              "      <td>Other</td>\n",
              "      <td>Bamboo/Timber-Light roof</td>\n",
              "      <td>Mud</td>\n",
              "      <td>Not applicable</td>\n",
              "      <td>Not attached</td>\n",
              "      <td>Rectangular</td>\n",
              "      <td>0</td>\n",
              "      <td>1</td>\n",
              "      <td>0</td>\n",
              "      <td>0</td>\n",
              "      <td>0</td>\n",
              "      <td>0</td>\n",
              "      <td>0</td>\n",
              "      <td>0</td>\n",
              "      <td>0</td>\n",
              "      <td>0</td>\n",
              "      <td>0</td>\n",
              "      <td>Damaged-Repaired and used</td>\n",
              "      <td>Grade 1</td>\n",
              "      <td>Minor repair</td>\n",
              "    </tr>\n",
              "  </tbody>\n",
              "</table>\n",
              "</div>"
            ],
            "text/plain": [
              "    building_id  district_id  ...  damage_grade  technical_solution_proposed\n",
              "0  120101000011           12  ...       Grade 3                 Major repair\n",
              "1  120101000021           12  ...       Grade 5               Reconstruction\n",
              "2  120101000031           12  ...       Grade 2                 Minor repair\n",
              "3  120101000041           12  ...       Grade 2                 Minor repair\n",
              "4  120101000051           12  ...       Grade 1                 Minor repair\n",
              "\n",
              "[5 rows x 31 columns]"
            ]
          },
          "metadata": {
            "tags": []
          },
          "execution_count": 8
        }
      ]
    },
    {
      "cell_type": "code",
      "metadata": {
        "id": "jva1sAG8TI-x"
      },
      "source": [
        "del1 = ['building_id', 'district_id', 'vdcmun_id', 'ward_id', 'count_floors_pre_eq', 'count_floors_post_eq', 'height_ft_post_eq']\n",
        "del2 = ['roof_type', 'plan_configuration', 'has_superstructure_adobe_mud', 'has_superstructure_mud_mortar_stone', 'has_superstructure_stone_flag']\n",
        "del3 = ['has_superstructure_cement_mortar_stone', 'has_superstructure_mud_mortar_brick', 'has_superstructure_cement_mortar_brick', 'has_superstructure_timber', 'has_superstructure_bamboo']\n",
        "del4 = ['has_superstructure_rc_non_engineered', 'has_superstructure_rc_engineered', 'has_superstructure_other', 'condition_post_eq', 'technical_solution_proposed']"
      ],
      "execution_count": 9,
      "outputs": []
    },
    {
      "cell_type": "code",
      "metadata": {
        "colab": {
          "base_uri": "https://localhost:8080/"
        },
        "id": "cYcawHnFZrjZ",
        "outputId": "52517a2b-4a36-4e55-d632-4c016a876862"
      },
      "source": [
        "data.info()"
      ],
      "execution_count": 10,
      "outputs": [
        {
          "output_type": "stream",
          "text": [
            "<class 'pandas.core.frame.DataFrame'>\n",
            "RangeIndex: 762106 entries, 0 to 762105\n",
            "Data columns (total 31 columns):\n",
            " #   Column                                  Non-Null Count   Dtype \n",
            "---  ------                                  --------------   ----- \n",
            " 0   building_id                             762106 non-null  int64 \n",
            " 1   district_id                             762106 non-null  int64 \n",
            " 2   vdcmun_id                               762106 non-null  int64 \n",
            " 3   ward_id                                 762106 non-null  int64 \n",
            " 4   count_floors_pre_eq                     762106 non-null  int64 \n",
            " 5   count_floors_post_eq                    762106 non-null  int64 \n",
            " 6   age_building                            762106 non-null  int64 \n",
            " 7   plinth_area_sq_ft                       762106 non-null  int64 \n",
            " 8   height_ft_pre_eq                        762106 non-null  int64 \n",
            " 9   height_ft_post_eq                       762106 non-null  int64 \n",
            " 10  land_surface_condition                  762106 non-null  object\n",
            " 11  foundation_type                         762106 non-null  object\n",
            " 12  roof_type                               762106 non-null  object\n",
            " 13  ground_floor_type                       762106 non-null  object\n",
            " 14  other_floor_type                        762106 non-null  object\n",
            " 15  position                                762105 non-null  object\n",
            " 16  plan_configuration                      762105 non-null  object\n",
            " 17  has_superstructure_adobe_mud            762106 non-null  int64 \n",
            " 18  has_superstructure_mud_mortar_stone     762106 non-null  int64 \n",
            " 19  has_superstructure_stone_flag           762106 non-null  int64 \n",
            " 20  has_superstructure_cement_mortar_stone  762106 non-null  int64 \n",
            " 21  has_superstructure_mud_mortar_brick     762106 non-null  int64 \n",
            " 22  has_superstructure_cement_mortar_brick  762106 non-null  int64 \n",
            " 23  has_superstructure_timber               762106 non-null  int64 \n",
            " 24  has_superstructure_bamboo               762106 non-null  int64 \n",
            " 25  has_superstructure_rc_non_engineered    762106 non-null  int64 \n",
            " 26  has_superstructure_rc_engineered        762106 non-null  int64 \n",
            " 27  has_superstructure_other                762106 non-null  int64 \n",
            " 28  condition_post_eq                       762106 non-null  object\n",
            " 29  damage_grade                            762094 non-null  object\n",
            " 30  technical_solution_proposed             762094 non-null  object\n",
            "dtypes: int64(21), object(10)\n",
            "memory usage: 180.2+ MB\n"
          ],
          "name": "stdout"
        }
      ]
    },
    {
      "cell_type": "code",
      "metadata": {
        "colab": {
          "base_uri": "https://localhost:8080/",
          "height": 299
        },
        "id": "55R91zLsaC6H",
        "outputId": "a41867a6-f995-411e-e334-9ad8d1bf6c27"
      },
      "source": [
        "for n in del1:\n",
        "  data.drop(n, axis=1, inplace = True)\n",
        "for n in del2:\n",
        "  data.drop(n, axis=1, inplace = True)\n",
        "for n in del3:\n",
        "  data.drop(n, axis=1, inplace = True)\n",
        "for n in del4:\n",
        "  data.drop(n, axis=1, inplace = True)\n",
        "data.head()"
      ],
      "execution_count": 11,
      "outputs": [
        {
          "output_type": "execute_result",
          "data": {
            "text/html": [
              "<div>\n",
              "<style scoped>\n",
              "    .dataframe tbody tr th:only-of-type {\n",
              "        vertical-align: middle;\n",
              "    }\n",
              "\n",
              "    .dataframe tbody tr th {\n",
              "        vertical-align: top;\n",
              "    }\n",
              "\n",
              "    .dataframe thead th {\n",
              "        text-align: right;\n",
              "    }\n",
              "</style>\n",
              "<table border=\"1\" class=\"dataframe\">\n",
              "  <thead>\n",
              "    <tr style=\"text-align: right;\">\n",
              "      <th></th>\n",
              "      <th>age_building</th>\n",
              "      <th>plinth_area_sq_ft</th>\n",
              "      <th>height_ft_pre_eq</th>\n",
              "      <th>land_surface_condition</th>\n",
              "      <th>foundation_type</th>\n",
              "      <th>ground_floor_type</th>\n",
              "      <th>other_floor_type</th>\n",
              "      <th>position</th>\n",
              "      <th>damage_grade</th>\n",
              "    </tr>\n",
              "  </thead>\n",
              "  <tbody>\n",
              "    <tr>\n",
              "      <th>0</th>\n",
              "      <td>9</td>\n",
              "      <td>288</td>\n",
              "      <td>9</td>\n",
              "      <td>Flat</td>\n",
              "      <td>Other</td>\n",
              "      <td>Mud</td>\n",
              "      <td>Not applicable</td>\n",
              "      <td>Not attached</td>\n",
              "      <td>Grade 3</td>\n",
              "    </tr>\n",
              "    <tr>\n",
              "      <th>1</th>\n",
              "      <td>15</td>\n",
              "      <td>364</td>\n",
              "      <td>9</td>\n",
              "      <td>Flat</td>\n",
              "      <td>Other</td>\n",
              "      <td>Mud</td>\n",
              "      <td>Not applicable</td>\n",
              "      <td>Not attached</td>\n",
              "      <td>Grade 5</td>\n",
              "    </tr>\n",
              "    <tr>\n",
              "      <th>2</th>\n",
              "      <td>20</td>\n",
              "      <td>384</td>\n",
              "      <td>9</td>\n",
              "      <td>Flat</td>\n",
              "      <td>Other</td>\n",
              "      <td>Mud</td>\n",
              "      <td>Not applicable</td>\n",
              "      <td>Not attached</td>\n",
              "      <td>Grade 2</td>\n",
              "    </tr>\n",
              "    <tr>\n",
              "      <th>3</th>\n",
              "      <td>20</td>\n",
              "      <td>312</td>\n",
              "      <td>9</td>\n",
              "      <td>Flat</td>\n",
              "      <td>Other</td>\n",
              "      <td>Mud</td>\n",
              "      <td>Not applicable</td>\n",
              "      <td>Not attached</td>\n",
              "      <td>Grade 2</td>\n",
              "    </tr>\n",
              "    <tr>\n",
              "      <th>4</th>\n",
              "      <td>30</td>\n",
              "      <td>308</td>\n",
              "      <td>9</td>\n",
              "      <td>Flat</td>\n",
              "      <td>Other</td>\n",
              "      <td>Mud</td>\n",
              "      <td>Not applicable</td>\n",
              "      <td>Not attached</td>\n",
              "      <td>Grade 1</td>\n",
              "    </tr>\n",
              "  </tbody>\n",
              "</table>\n",
              "</div>"
            ],
            "text/plain": [
              "   age_building  plinth_area_sq_ft  ...      position damage_grade\n",
              "0             9                288  ...  Not attached      Grade 3\n",
              "1            15                364  ...  Not attached      Grade 5\n",
              "2            20                384  ...  Not attached      Grade 2\n",
              "3            20                312  ...  Not attached      Grade 2\n",
              "4            30                308  ...  Not attached      Grade 1\n",
              "\n",
              "[5 rows x 9 columns]"
            ]
          },
          "metadata": {
            "tags": []
          },
          "execution_count": 11
        }
      ]
    },
    {
      "cell_type": "code",
      "metadata": {
        "colab": {
          "base_uri": "https://localhost:8080/"
        },
        "id": "DBZOYOk-cnKA",
        "outputId": "7bf1bdee-cf7a-424b-f34c-b5752d789ed1"
      },
      "source": [
        "data.info()"
      ],
      "execution_count": 12,
      "outputs": [
        {
          "output_type": "stream",
          "text": [
            "<class 'pandas.core.frame.DataFrame'>\n",
            "RangeIndex: 762106 entries, 0 to 762105\n",
            "Data columns (total 9 columns):\n",
            " #   Column                  Non-Null Count   Dtype \n",
            "---  ------                  --------------   ----- \n",
            " 0   age_building            762106 non-null  int64 \n",
            " 1   plinth_area_sq_ft       762106 non-null  int64 \n",
            " 2   height_ft_pre_eq        762106 non-null  int64 \n",
            " 3   land_surface_condition  762106 non-null  object\n",
            " 4   foundation_type         762106 non-null  object\n",
            " 5   ground_floor_type       762106 non-null  object\n",
            " 6   other_floor_type        762106 non-null  object\n",
            " 7   position                762105 non-null  object\n",
            " 8   damage_grade            762094 non-null  object\n",
            "dtypes: int64(3), object(6)\n",
            "memory usage: 52.3+ MB\n"
          ],
          "name": "stdout"
        }
      ]
    },
    {
      "cell_type": "code",
      "metadata": {
        "colab": {
          "base_uri": "https://localhost:8080/"
        },
        "id": "StgGzu7IeCPa",
        "outputId": "be816414-6a1a-4976-9b45-08851905cd8c"
      },
      "source": [
        "data.isna().sum()"
      ],
      "execution_count": 13,
      "outputs": [
        {
          "output_type": "execute_result",
          "data": {
            "text/plain": [
              "age_building               0\n",
              "plinth_area_sq_ft          0\n",
              "height_ft_pre_eq           0\n",
              "land_surface_condition     0\n",
              "foundation_type            0\n",
              "ground_floor_type          0\n",
              "other_floor_type           0\n",
              "position                   1\n",
              "damage_grade              12\n",
              "dtype: int64"
            ]
          },
          "metadata": {
            "tags": []
          },
          "execution_count": 13
        }
      ]
    },
    {
      "cell_type": "code",
      "metadata": {
        "colab": {
          "base_uri": "https://localhost:8080/"
        },
        "id": "uNEdMTxrekZh",
        "scrolled": true,
        "outputId": "c5ced763-8eb2-4f6d-fa90-e292a9be4ac6"
      },
      "source": [
        "data1 = data.dropna()\n",
        "data1.isna().sum()"
      ],
      "execution_count": 14,
      "outputs": [
        {
          "output_type": "execute_result",
          "data": {
            "text/plain": [
              "age_building              0\n",
              "plinth_area_sq_ft         0\n",
              "height_ft_pre_eq          0\n",
              "land_surface_condition    0\n",
              "foundation_type           0\n",
              "ground_floor_type         0\n",
              "other_floor_type          0\n",
              "position                  0\n",
              "damage_grade              0\n",
              "dtype: int64"
            ]
          },
          "metadata": {
            "tags": []
          },
          "execution_count": 14
        }
      ]
    },
    {
      "cell_type": "code",
      "metadata": {
        "colab": {
          "base_uri": "https://localhost:8080/"
        },
        "id": "QFg1MnSze88B",
        "outputId": "59c188ba-34d4-41d5-d61f-615a050d2ad6"
      },
      "source": [
        "data1.info()"
      ],
      "execution_count": 15,
      "outputs": [
        {
          "output_type": "stream",
          "text": [
            "<class 'pandas.core.frame.DataFrame'>\n",
            "Int64Index: 762094 entries, 0 to 762105\n",
            "Data columns (total 9 columns):\n",
            " #   Column                  Non-Null Count   Dtype \n",
            "---  ------                  --------------   ----- \n",
            " 0   age_building            762094 non-null  int64 \n",
            " 1   plinth_area_sq_ft       762094 non-null  int64 \n",
            " 2   height_ft_pre_eq        762094 non-null  int64 \n",
            " 3   land_surface_condition  762094 non-null  object\n",
            " 4   foundation_type         762094 non-null  object\n",
            " 5   ground_floor_type       762094 non-null  object\n",
            " 6   other_floor_type        762094 non-null  object\n",
            " 7   position                762094 non-null  object\n",
            " 8   damage_grade            762094 non-null  object\n",
            "dtypes: int64(3), object(6)\n",
            "memory usage: 58.1+ MB\n"
          ],
          "name": "stdout"
        }
      ]
    },
    {
      "cell_type": "code",
      "metadata": {
        "id": "SVaMsOsWfU2P"
      },
      "source": [
        "import matplotlib.pyplot as plt\n",
        "import seaborn as sns\n",
        "%matplotlib inline"
      ],
      "execution_count": 16,
      "outputs": []
    },
    {
      "cell_type": "code",
      "metadata": {
        "colab": {
          "base_uri": "https://localhost:8080/",
          "height": 491
        },
        "id": "XUhksprnlATL",
        "outputId": "7f67f8d1-d3e6-43af-8c59-620fe3bb18c6"
      },
      "source": [
        "sns.countplot(data=data, x='age_building')\n",
        "data1.loc[:,'age_building'].value_counts()"
      ],
      "execution_count": 17,
      "outputs": [
        {
          "output_type": "execute_result",
          "data": {
            "text/plain": [
              "15     49983\n",
              "20     46525\n",
              "10     39794\n",
              "25     37063\n",
              "12     36458\n",
              "       ...  \n",
              "138        1\n",
              "146        1\n",
              "136        1\n",
              "144        1\n",
              "148        1\n",
              "Name: age_building, Length: 176, dtype: int64"
            ]
          },
          "metadata": {
            "tags": []
          },
          "execution_count": 17
        },
        {
          "output_type": "display_data",
          "data": {
            "image/png": "[encoded data removed]",
            "text/plain": [
              "<Figure size 432x288 with 1 Axes>"
            ]
          },
          "metadata": {
            "tags": [],
            "needs_background": "light"
          }
        }
      ]
    },
    {
      "cell_type": "code",
      "metadata": {
        "colab": {
          "base_uri": "https://localhost:8080/",
          "height": 367
        },
        "id": "FgbYWfBVkgxY",
        "outputId": "2bffec76-814f-4601-fc33-160907b96260"
      },
      "source": [
        "sns.countplot(data=data, x='posaition')\n",
        "data1.loc[:,'position'].value_counts()"
      ],
      "execution_count": 18,
      "outputs": [
        {
          "output_type": "execute_result",
          "data": {
            "text/plain": [
              "Not attached       604443\n",
              "Attached-1 side    129431\n",
              "Attached-2 side     26910\n",
              "Attached-3 side      1310\n",
              "Name: position, dtype: int64"
            ]
          },
          "metadata": {
            "tags": []
          },
          "execution_count": 18
        },
        {
          "output_type": "display_data",
          "data": {
            "image/png": "[encoded data removed]",
            "text/plain": [
              "<Figure size 432x288 with 1 Axes>"
            ]
          },
          "metadata": {
            "tags": [],
            "needs_background": "light"
          }
        }
      ]
    },
    {
      "cell_type": "code",
      "metadata": {
        "colab": {
          "base_uri": "https://localhost:8080/",
          "height": 386
        },
        "id": "bnmXHlgmkYuB",
        "outputId": "3c36227f-9d58-4018-d17a-f68120ca78f3"
      },
      "source": [
        "sns.countplot(data=data, x='damage_grade')\n",
        "data1.loc[:,'damage_grade'].value_counts()"
      ],
      "execution_count": 19,
      "outputs": [
        {
          "output_type": "execute_result",
          "data": {
            "text/plain": [
              "Grade 5    275766\n",
              "Grade 4    183844\n",
              "Grade 3    136412\n",
              "Grade 2     87257\n",
              "Grade 1     78815\n",
              "Name: damage_grade, dtype: int64"
            ]
          },
          "metadata": {
            "tags": []
          },
          "execution_count": 19
        },
        {
          "output_type": "display_data",
          "data": {
            "image/png": "[encoded data removed]",
            "text/plain": [
              "<Figure size 432x288 with 1 Axes>"
            ]
          },
          "metadata": {
            "tags": [],
            "needs_background": "light"
          }
        }
      ]
    },
    {
      "cell_type": "code",
      "metadata": {
        "id": "hCjnE-J2C2DO",
        "colab": {
          "base_uri": "https://localhost:8080/"
        },
        "outputId": "a378454b-d4ef-4ce1-8e8b-1cbd6a75ae9c"
      },
      "source": [
        "data1['damage_grade']"
      ],
      "execution_count": 20,
      "outputs": [
        {
          "output_type": "execute_result",
          "data": {
            "text/plain": [
              "0         Grade 3\n",
              "1         Grade 5\n",
              "2         Grade 2\n",
              "3         Grade 2\n",
              "4         Grade 1\n",
              "           ...   \n",
              "762101    Grade 5\n",
              "762102    Grade 5\n",
              "762103    Grade 5\n",
              "762104    Grade 5\n",
              "762105    Grade 5\n",
              "Name: damage_grade, Length: 762094, dtype: object"
            ]
          },
          "metadata": {
            "tags": []
          },
          "execution_count": 20
        }
      ]
    },
    {
      "cell_type": "code",
      "metadata": {
        "id": "tykw5D9zC2DO",
        "colab": {
          "base_uri": "https://localhost:8080/",
          "height": 195
        },
        "outputId": "fc82e14c-a635-414c-e707-4eb9c004dc32"
      },
      "source": [
        "# data2=data1['damage_grade'].replace({'Grade 1':1, 'Grade 2':2,'Grade 3':3,'Grade 4':4,'Grade 5':5,}, inplace=True)\n",
        "data2=data1.replace({'Grade 1':1, 'Grade 2':2,'Grade 3':3,'Grade 4':4,'Grade 5':5,}, inplace=False)\n",
        "data2.head()"
      ],
      "execution_count": 50,
      "outputs": [
        {
          "output_type": "execute_result",
          "data": {
            "text/html": [
              "<div>\n",
              "<style scoped>\n",
              "    .dataframe tbody tr th:only-of-type {\n",
              "        vertical-align: middle;\n",
              "    }\n",
              "\n",
              "    .dataframe tbody tr th {\n",
              "        vertical-align: top;\n",
              "    }\n",
              "\n",
              "    .dataframe thead th {\n",
              "        text-align: right;\n",
              "    }\n",
              "</style>\n",
              "<table border=\"1\" class=\"dataframe\">\n",
              "  <thead>\n",
              "    <tr style=\"text-align: right;\">\n",
              "      <th></th>\n",
              "      <th>age_building</th>\n",
              "      <th>plinth_area_sq_ft</th>\n",
              "      <th>height_ft_pre_eq</th>\n",
              "      <th>land_surface_condition</th>\n",
              "      <th>foundation_type</th>\n",
              "      <th>ground_floor_type</th>\n",
              "      <th>other_floor_type</th>\n",
              "      <th>position</th>\n",
              "      <th>damage_grade</th>\n",
              "    </tr>\n",
              "  </thead>\n",
              "  <tbody>\n",
              "    <tr>\n",
              "      <th>0</th>\n",
              "      <td>9</td>\n",
              "      <td>288</td>\n",
              "      <td>9</td>\n",
              "      <td>Flat</td>\n",
              "      <td>Other</td>\n",
              "      <td>Mud</td>\n",
              "      <td>Not applicable</td>\n",
              "      <td>Not attached</td>\n",
              "      <td>3</td>\n",
              "    </tr>\n",
              "    <tr>\n",
              "      <th>1</th>\n",
              "      <td>15</td>\n",
              "      <td>364</td>\n",
              "      <td>9</td>\n",
              "      <td>Flat</td>\n",
              "      <td>Other</td>\n",
              "      <td>Mud</td>\n",
              "      <td>Not applicable</td>\n",
              "      <td>Not attached</td>\n",
              "      <td>5</td>\n",
              "    </tr>\n",
              "    <tr>\n",
              "      <th>2</th>\n",
              "      <td>20</td>\n",
              "      <td>384</td>\n",
              "      <td>9</td>\n",
              "      <td>Flat</td>\n",
              "      <td>Other</td>\n",
              "      <td>Mud</td>\n",
              "      <td>Not applicable</td>\n",
              "      <td>Not attached</td>\n",
              "      <td>2</td>\n",
              "    </tr>\n",
              "    <tr>\n",
              "      <th>3</th>\n",
              "      <td>20</td>\n",
              "      <td>312</td>\n",
              "      <td>9</td>\n",
              "      <td>Flat</td>\n",
              "      <td>Other</td>\n",
              "      <td>Mud</td>\n",
              "      <td>Not applicable</td>\n",
              "      <td>Not attached</td>\n",
              "      <td>2</td>\n",
              "    </tr>\n",
              "    <tr>\n",
              "      <th>4</th>\n",
              "      <td>30</td>\n",
              "      <td>308</td>\n",
              "      <td>9</td>\n",
              "      <td>Flat</td>\n",
              "      <td>Other</td>\n",
              "      <td>Mud</td>\n",
              "      <td>Not applicable</td>\n",
              "      <td>Not attached</td>\n",
              "      <td>1</td>\n",
              "    </tr>\n",
              "  </tbody>\n",
              "</table>\n",
              "</div>"
            ],
            "text/plain": [
              "   age_building  plinth_area_sq_ft  ...      position damage_grade\n",
              "0             9                288  ...  Not attached            3\n",
              "1            15                364  ...  Not attached            5\n",
              "2            20                384  ...  Not attached            2\n",
              "3            20                312  ...  Not attached            2\n",
              "4            30                308  ...  Not attached            1\n",
              "\n",
              "[5 rows x 9 columns]"
            ]
          },
          "metadata": {
            "tags": []
          },
          "execution_count": 50
        }
      ]
    },
    {
      "cell_type": "code",
      "metadata": {
        "id": "FlGJqUQNC2DO",
        "colab": {
          "base_uri": "https://localhost:8080/"
        },
        "outputId": "e6ce3392-5120-46ad-f6c4-8aa3d2ae661d"
      },
      "source": [
        "data2[\"land_surface_condition\"].value_counts()"
      ],
      "execution_count": 22,
      "outputs": [
        {
          "output_type": "execute_result",
          "data": {
            "text/plain": [
              "Flat              631663\n",
              "Moderate slope    105640\n",
              "Steep slope        24791\n",
              "Name: land_surface_condition, dtype: int64"
            ]
          },
          "metadata": {
            "tags": []
          },
          "execution_count": 22
        }
      ]
    },
    {
      "cell_type": "code",
      "metadata": {
        "id": "ZgkhgSE2C2DO",
        "colab": {
          "base_uri": "https://localhost:8080/"
        },
        "outputId": "1a1e0848-d1bc-4118-badb-c15b128d0023"
      },
      "source": [
        "data2[\"foundation_type\"].value_counts()"
      ],
      "execution_count": 23,
      "outputs": [
        {
          "output_type": "execute_result",
          "data": {
            "text/plain": [
              "Mud mortar-Stone/Brick    628705\n",
              "Bamboo/Timber              57472\n",
              "Cement-Stone/Brick         39245\n",
              "RC                         32120\n",
              "Other                       4552\n",
              "Name: foundation_type, dtype: int64"
            ]
          },
          "metadata": {
            "tags": []
          },
          "execution_count": 23
        }
      ]
    },
    {
      "cell_type": "code",
      "metadata": {
        "id": "lzA1wt1AC2DP",
        "colab": {
          "base_uri": "https://localhost:8080/"
        },
        "outputId": "feda829a-b2db-4acb-b62e-45d0b6527a2f"
      },
      "source": [
        "data2[\"ground_floor_type\"].value_counts()"
      ],
      "execution_count": 24,
      "outputs": [
        {
          "output_type": "execute_result",
          "data": {
            "text/plain": [
              "Mud            618205\n",
              "RC              73149\n",
              "Brick/Stone     66093\n",
              "Timber           3594\n",
              "Other            1053\n",
              "Name: ground_floor_type, dtype: int64"
            ]
          },
          "metadata": {
            "tags": []
          },
          "execution_count": 24
        }
      ]
    },
    {
      "cell_type": "code",
      "metadata": {
        "id": "IgD7dYuoC2DP",
        "colab": {
          "base_uri": "https://localhost:8080/"
        },
        "outputId": "53d2eba8-0bfe-41e0-8eee-0a07c740585b"
      },
      "source": [
        "data2[\"other_floor_type\"].value_counts()"
      ],
      "execution_count": 25,
      "outputs": [
        {
          "output_type": "execute_result",
          "data": {
            "text/plain": [
              "TImber/Bamboo-Mud    486907\n",
              "Timber-Planck        123624\n",
              "Not applicable       118821\n",
              "RCC/RB/RBC            32742\n",
              "Name: other_floor_type, dtype: int64"
            ]
          },
          "metadata": {
            "tags": []
          },
          "execution_count": 25
        }
      ]
    },
    {
      "cell_type": "code",
      "metadata": {
        "id": "h8OQuHMhC2DP",
        "colab": {
          "base_uri": "https://localhost:8080/"
        },
        "outputId": "3485ad2d-9c0f-46d7-831b-b0f1f5a9b1e8"
      },
      "source": [
        "data2[\"position\"].value_counts()"
      ],
      "execution_count": 26,
      "outputs": [
        {
          "output_type": "execute_result",
          "data": {
            "text/plain": [
              "Not attached       604443\n",
              "Attached-1 side    129431\n",
              "Attached-2 side     26910\n",
              "Attached-3 side      1310\n",
              "Name: position, dtype: int64"
            ]
          },
          "metadata": {
            "tags": []
          },
          "execution_count": 26
        }
      ]
    },
    {
      "cell_type": "code",
      "metadata": {
        "id": "qEBQ1EWYC2DP",
        "colab": {
          "base_uri": "https://localhost:8080/"
        },
        "outputId": "e21d4455-9d6f-441a-b9fa-3d5a8010eaa4"
      },
      "source": [
        "data2[\"land_surface_condition\"].describe()"
      ],
      "execution_count": 27,
      "outputs": [
        {
          "output_type": "execute_result",
          "data": {
            "text/plain": [
              "count     762094\n",
              "unique         3\n",
              "top         Flat\n",
              "freq      631663\n",
              "Name: land_surface_condition, dtype: object"
            ]
          },
          "metadata": {
            "tags": []
          },
          "execution_count": 27
        }
      ]
    },
    {
      "cell_type": "code",
      "metadata": {
        "id": "y9TtNrQ3C2DP",
        "colab": {
          "base_uri": "https://localhost:8080/",
          "height": 232
        },
        "outputId": "0a5d25ab-e9db-40df-ef70-0d01f3ffc762"
      },
      "source": [
        "data3 = pd.get_dummies(data2, columns=[\"land_surface_condition\", \"foundation_type\", \"ground_floor_type\", \"other_floor_type\", \"position\"])\n",
        "data3.head()"
      ],
      "execution_count": 28,
      "outputs": [
        {
          "output_type": "execute_result",
          "data": {
            "text/html": [
              "<div>\n",
              "<style scoped>\n",
              "    .dataframe tbody tr th:only-of-type {\n",
              "        vertical-align: middle;\n",
              "    }\n",
              "\n",
              "    .dataframe tbody tr th {\n",
              "        vertical-align: top;\n",
              "    }\n",
              "\n",
              "    .dataframe thead th {\n",
              "        text-align: right;\n",
              "    }\n",
              "</style>\n",
              "<table border=\"1\" class=\"dataframe\">\n",
              "  <thead>\n",
              "    <tr style=\"text-align: right;\">\n",
              "      <th></th>\n",
              "      <th>age_building</th>\n",
              "      <th>plinth_area_sq_ft</th>\n",
              "      <th>height_ft_pre_eq</th>\n",
              "      <th>damage_grade</th>\n",
              "      <th>land_surface_condition_Flat</th>\n",
              "      <th>land_surface_condition_Moderate slope</th>\n",
              "      <th>land_surface_condition_Steep slope</th>\n",
              "      <th>foundation_type_Bamboo/Timber</th>\n",
              "      <th>foundation_type_Cement-Stone/Brick</th>\n",
              "      <th>foundation_type_Mud mortar-Stone/Brick</th>\n",
              "      <th>foundation_type_Other</th>\n",
              "      <th>foundation_type_RC</th>\n",
              "      <th>ground_floor_type_Brick/Stone</th>\n",
              "      <th>ground_floor_type_Mud</th>\n",
              "      <th>ground_floor_type_Other</th>\n",
              "      <th>ground_floor_type_RC</th>\n",
              "      <th>ground_floor_type_Timber</th>\n",
              "      <th>other_floor_type_Not applicable</th>\n",
              "      <th>other_floor_type_RCC/RB/RBC</th>\n",
              "      <th>other_floor_type_TImber/Bamboo-Mud</th>\n",
              "      <th>other_floor_type_Timber-Planck</th>\n",
              "      <th>position_Attached-1 side</th>\n",
              "      <th>position_Attached-2 side</th>\n",
              "      <th>position_Attached-3 side</th>\n",
              "      <th>position_Not attached</th>\n",
              "    </tr>\n",
              "  </thead>\n",
              "  <tbody>\n",
              "    <tr>\n",
              "      <th>0</th>\n",
              "      <td>9</td>\n",
              "      <td>288</td>\n",
              "      <td>9</td>\n",
              "      <td>3</td>\n",
              "      <td>1</td>\n",
              "      <td>0</td>\n",
              "      <td>0</td>\n",
              "      <td>0</td>\n",
              "      <td>0</td>\n",
              "      <td>0</td>\n",
              "      <td>1</td>\n",
              "      <td>0</td>\n",
              "      <td>0</td>\n",
              "      <td>1</td>\n",
              "      <td>0</td>\n",
              "      <td>0</td>\n",
              "      <td>0</td>\n",
              "      <td>1</td>\n",
              "      <td>0</td>\n",
              "      <td>0</td>\n",
              "      <td>0</td>\n",
              "      <td>0</td>\n",
              "      <td>0</td>\n",
              "      <td>0</td>\n",
              "      <td>1</td>\n",
              "    </tr>\n",
              "    <tr>\n",
              "      <th>1</th>\n",
              "      <td>15</td>\n",
              "      <td>364</td>\n",
              "      <td>9</td>\n",
              "      <td>5</td>\n",
              "      <td>1</td>\n",
              "      <td>0</td>\n",
              "      <td>0</td>\n",
              "      <td>0</td>\n",
              "      <td>0</td>\n",
              "      <td>0</td>\n",
              "      <td>1</td>\n",
              "      <td>0</td>\n",
              "      <td>0</td>\n",
              "      <td>1</td>\n",
              "      <td>0</td>\n",
              "      <td>0</td>\n",
              "      <td>0</td>\n",
              "      <td>1</td>\n",
              "      <td>0</td>\n",
              "      <td>0</td>\n",
              "      <td>0</td>\n",
              "      <td>0</td>\n",
              "      <td>0</td>\n",
              "      <td>0</td>\n",
              "      <td>1</td>\n",
              "    </tr>\n",
              "    <tr>\n",
              "      <th>2</th>\n",
              "      <td>20</td>\n",
              "      <td>384</td>\n",
              "      <td>9</td>\n",
              "      <td>2</td>\n",
              "      <td>1</td>\n",
              "      <td>0</td>\n",
              "      <td>0</td>\n",
              "      <td>0</td>\n",
              "      <td>0</td>\n",
              "      <td>0</td>\n",
              "      <td>1</td>\n",
              "      <td>0</td>\n",
              "      <td>0</td>\n",
              "      <td>1</td>\n",
              "      <td>0</td>\n",
              "      <td>0</td>\n",
              "      <td>0</td>\n",
              "      <td>1</td>\n",
              "      <td>0</td>\n",
              "      <td>0</td>\n",
              "      <td>0</td>\n",
              "      <td>0</td>\n",
              "      <td>0</td>\n",
              "      <td>0</td>\n",
              "      <td>1</td>\n",
              "    </tr>\n",
              "    <tr>\n",
              "      <th>3</th>\n",
              "      <td>20</td>\n",
              "      <td>312</td>\n",
              "      <td>9</td>\n",
              "      <td>2</td>\n",
              "      <td>1</td>\n",
              "      <td>0</td>\n",
              "      <td>0</td>\n",
              "      <td>0</td>\n",
              "      <td>0</td>\n",
              "      <td>0</td>\n",
              "      <td>1</td>\n",
              "      <td>0</td>\n",
              "      <td>0</td>\n",
              "      <td>1</td>\n",
              "      <td>0</td>\n",
              "      <td>0</td>\n",
              "      <td>0</td>\n",
              "      <td>1</td>\n",
              "      <td>0</td>\n",
              "      <td>0</td>\n",
              "      <td>0</td>\n",
              "      <td>0</td>\n",
              "      <td>0</td>\n",
              "      <td>0</td>\n",
              "      <td>1</td>\n",
              "    </tr>\n",
              "    <tr>\n",
              "      <th>4</th>\n",
              "      <td>30</td>\n",
              "      <td>308</td>\n",
              "      <td>9</td>\n",
              "      <td>1</td>\n",
              "      <td>1</td>\n",
              "      <td>0</td>\n",
              "      <td>0</td>\n",
              "      <td>0</td>\n",
              "      <td>0</td>\n",
              "      <td>0</td>\n",
              "      <td>1</td>\n",
              "      <td>0</td>\n",
              "      <td>0</td>\n",
              "      <td>1</td>\n",
              "      <td>0</td>\n",
              "      <td>0</td>\n",
              "      <td>0</td>\n",
              "      <td>1</td>\n",
              "      <td>0</td>\n",
              "      <td>0</td>\n",
              "      <td>0</td>\n",
              "      <td>0</td>\n",
              "      <td>0</td>\n",
              "      <td>0</td>\n",
              "      <td>1</td>\n",
              "    </tr>\n",
              "  </tbody>\n",
              "</table>\n",
              "</div>"
            ],
            "text/plain": [
              "   age_building  ...  position_Not attached\n",
              "0             9  ...                      1\n",
              "1            15  ...                      1\n",
              "2            20  ...                      1\n",
              "3            20  ...                      1\n",
              "4            30  ...                      1\n",
              "\n",
              "[5 rows x 25 columns]"
            ]
          },
          "metadata": {
            "tags": []
          },
          "execution_count": 28
        }
      ]
    },
    {
      "cell_type": "code",
      "metadata": {
        "id": "E9QnbRPTC2DQ"
      },
      "source": [
        "#회귀 방법 이용 인공지능"
      ],
      "execution_count": null,
      "outputs": []
    },
    {
      "cell_type": "code",
      "metadata": {
        "id": "XFeyvj7yC2DQ"
      },
      "source": [
        "from sklearn.model_selection import train_test_split\n",
        "from sklearn.linear_model import LinearRegression\n",
        "\n",
        "y_target =data3['damage_grade']\n",
        "x_feature = data3.drop(['damage_grade'],axis=1,inplace=False)\n",
        "\n",
        "x_train, x_test, y_train, y_test= train_test_split(x_feature, y_target,test_size=0.3, random_state=0)\n",
        "\n",
        "lr_reg = LinearRegression()\n",
        "lr_reg.fit(x_train,y_train)\n",
        "pred = lr_reg.predict(x_test)"
      ],
      "execution_count": 29,
      "outputs": []
    },
    {
      "cell_type": "code",
      "metadata": {
        "scrolled": true,
        "id": "FhHlLgnFC2DQ",
        "colab": {
          "base_uri": "https://localhost:8080/"
        },
        "outputId": "03038584-a703-45c9-d8e2-56fda02fbd45"
      },
      "source": [
        "from sklearn.metrics import mean_squared_error, mean_absolute_error\n",
        "# MSE, RMSE, MAE 계산\n",
        "\n",
        "def model_evaluate(y, pred):\n",
        "    MSE_val = mean_squared_error(y, pred)\n",
        "    RMSE_val = np.sqrt(MSE_val)\n",
        "    MAE_val = mean_absolute_error(y, pred)\n",
        "\n",
        "    print('MSE: {0:.3f}, RMSE: {1:.3F}, MAE:{2:.3F}'.format(MSE_val,RMSE_val, MAE_val))\n",
        "\n",
        "model_evaluate(y_test,pred)"
      ],
      "execution_count": 30,
      "outputs": [
        {
          "output_type": "stream",
          "text": [
            "MSE: 1.311, RMSE: 1.145, MAE:0.931\n"
          ],
          "name": "stdout"
        }
      ]
    },
    {
      "cell_type": "code",
      "metadata": {
        "id": "GXS3hP4_D4ap"
      },
      "source": [
        "# 필요한 라이브러리 호출\n",
        "import numpy as np\n",
        "import pandas as pd\n",
        "seed = 7\n",
        "np.random.seed(seed)\n",
        "\n",
        "from tensorflow import keras\n",
        "import matplotlib.pyplot as plt\n",
        "%matplotlib inline\n",
        "import seaborn as sns"
      ],
      "execution_count": null,
      "outputs": []
    },
    {
      "cell_type": "code",
      "metadata": {
        "colab": {
          "base_uri": "https://localhost:8080/",
          "height": 232
        },
        "id": "1szVQLE6E7uW",
        "outputId": "8a35728f-5f06-4e0e-d0e7-27cfffc434bd"
      },
      "source": [
        "data2.head()"
      ],
      "execution_count": 49,
      "outputs": [
        {
          "output_type": "execute_result",
          "data": {
            "text/html": [
              "<div>\n",
              "<style scoped>\n",
              "    .dataframe tbody tr th:only-of-type {\n",
              "        vertical-align: middle;\n",
              "    }\n",
              "\n",
              "    .dataframe tbody tr th {\n",
              "        vertical-align: top;\n",
              "    }\n",
              "\n",
              "    .dataframe thead th {\n",
              "        text-align: right;\n",
              "    }\n",
              "</style>\n",
              "<table border=\"1\" class=\"dataframe\">\n",
              "  <thead>\n",
              "    <tr style=\"text-align: right;\">\n",
              "      <th></th>\n",
              "      <th>age_building</th>\n",
              "      <th>plinth_area_sq_ft</th>\n",
              "      <th>height_ft_pre_eq</th>\n",
              "      <th>land_surface_condition</th>\n",
              "      <th>foundation_type</th>\n",
              "      <th>ground_floor_type</th>\n",
              "      <th>other_floor_type</th>\n",
              "      <th>damage_grade</th>\n",
              "      <th>Attached-1 side</th>\n",
              "      <th>Attached-2 side</th>\n",
              "      <th>Attached-3 side</th>\n",
              "      <th>Not attached</th>\n",
              "    </tr>\n",
              "  </thead>\n",
              "  <tbody>\n",
              "    <tr>\n",
              "      <th>0</th>\n",
              "      <td>9</td>\n",
              "      <td>288</td>\n",
              "      <td>9</td>\n",
              "      <td>Flat</td>\n",
              "      <td>Other</td>\n",
              "      <td>Mud</td>\n",
              "      <td>Not applicable</td>\n",
              "      <td>Grade 3</td>\n",
              "      <td>0</td>\n",
              "      <td>0</td>\n",
              "      <td>0</td>\n",
              "      <td>1</td>\n",
              "    </tr>\n",
              "    <tr>\n",
              "      <th>1</th>\n",
              "      <td>15</td>\n",
              "      <td>364</td>\n",
              "      <td>9</td>\n",
              "      <td>Flat</td>\n",
              "      <td>Other</td>\n",
              "      <td>Mud</td>\n",
              "      <td>Not applicable</td>\n",
              "      <td>Grade 5</td>\n",
              "      <td>0</td>\n",
              "      <td>0</td>\n",
              "      <td>0</td>\n",
              "      <td>1</td>\n",
              "    </tr>\n",
              "    <tr>\n",
              "      <th>2</th>\n",
              "      <td>20</td>\n",
              "      <td>384</td>\n",
              "      <td>9</td>\n",
              "      <td>Flat</td>\n",
              "      <td>Other</td>\n",
              "      <td>Mud</td>\n",
              "      <td>Not applicable</td>\n",
              "      <td>Grade 2</td>\n",
              "      <td>0</td>\n",
              "      <td>0</td>\n",
              "      <td>0</td>\n",
              "      <td>1</td>\n",
              "    </tr>\n",
              "    <tr>\n",
              "      <th>3</th>\n",
              "      <td>20</td>\n",
              "      <td>312</td>\n",
              "      <td>9</td>\n",
              "      <td>Flat</td>\n",
              "      <td>Other</td>\n",
              "      <td>Mud</td>\n",
              "      <td>Not applicable</td>\n",
              "      <td>Grade 2</td>\n",
              "      <td>0</td>\n",
              "      <td>0</td>\n",
              "      <td>0</td>\n",
              "      <td>1</td>\n",
              "    </tr>\n",
              "    <tr>\n",
              "      <th>4</th>\n",
              "      <td>30</td>\n",
              "      <td>308</td>\n",
              "      <td>9</td>\n",
              "      <td>Flat</td>\n",
              "      <td>Other</td>\n",
              "      <td>Mud</td>\n",
              "      <td>Not applicable</td>\n",
              "      <td>Grade 1</td>\n",
              "      <td>0</td>\n",
              "      <td>0</td>\n",
              "      <td>0</td>\n",
              "      <td>1</td>\n",
              "    </tr>\n",
              "  </tbody>\n",
              "</table>\n",
              "</div>"
            ],
            "text/plain": [
              "   age_building  plinth_area_sq_ft  ...  Attached-3 side Not attached\n",
              "0             9                288  ...                0            1\n",
              "1            15                364  ...                0            1\n",
              "2            20                384  ...                0            1\n",
              "3            20                312  ...                0            1\n",
              "4            30                308  ...                0            1\n",
              "\n",
              "[5 rows x 12 columns]"
            ]
          },
          "metadata": {
            "tags": []
          },
          "execution_count": 49
        }
      ]
    },
    {
      "cell_type": "code",
      "metadata": {
        "colab": {
          "base_uri": "https://localhost:8080/"
        },
        "id": "FcwmwmtTFPju",
        "outputId": "55b4962c-f820-4d46-96f0-94844cc4d8dc"
      },
      "source": [
        "data2['land_surface_condition'].unique()"
      ],
      "execution_count": 42,
      "outputs": [
        {
          "output_type": "execute_result",
          "data": {
            "text/plain": [
              "array(['Flat', 'Moderate slope', 'Steep slope'], dtype=object)"
            ]
          },
          "metadata": {
            "tags": []
          },
          "execution_count": 42
        }
      ]
    },
    {
      "cell_type": "code",
      "metadata": {
        "colab": {
          "base_uri": "https://localhost:8080/"
        },
        "id": "rUY4lpeZF194",
        "outputId": "748e0953-66d5-4523-8005-466666d8dd46"
      },
      "source": [
        "data2['position'].unique()"
      ],
      "execution_count": 43,
      "outputs": [
        {
          "output_type": "execute_result",
          "data": {
            "text/plain": [
              "array(['Not attached', 'Attached-1 side', 'Attached-2 side',\n",
              "       'Attached-3 side'], dtype=object)"
            ]
          },
          "metadata": {
            "tags": []
          },
          "execution_count": 43
        }
      ]
    },
    {
      "cell_type": "code",
      "metadata": {
        "colab": {
          "base_uri": "https://localhost:8080/"
        },
        "id": "HIszHXD0JPdo",
        "outputId": "a254eb04-789c-449c-d6e0-aaa9cce6bc53"
      },
      "source": [
        "data2['other_floor_type'].unique()"
      ],
      "execution_count": 44,
      "outputs": [
        {
          "output_type": "execute_result",
          "data": {
            "text/plain": [
              "array(['Not applicable', 'TImber/Bamboo-Mud', 'Timber-Planck',\n",
              "       'RCC/RB/RBC'], dtype=object)"
            ]
          },
          "metadata": {
            "tags": []
          },
          "execution_count": 44
        }
      ]
    },
    {
      "cell_type": "code",
      "metadata": {
        "colab": {
          "base_uri": "https://localhost:8080/",
          "height": 343
        },
        "id": "XfjgxmmwFUn0",
        "outputId": "d02f1e6f-2138-46e8-abff-c962fcd639f8"
      },
      "source": [
        "land_surface_condition_dummies = pd.get_dummies(data2['land_surface_condition'])\n",
        "land_surface_condition_dummies.head(10)\n",
        "foundation_type_dummies = pd.get_dummies(data2['foundation_type'])\n",
        "foundation_type_dummies.head(10)\n",
        "ground_floor_type_dummies = pd.get_dummies(data2['ground_floor_type'])\n",
        "ground_floor_type_dummies.head(10)\n",
        "other_floor_type_dummies = pd.get_dummies(data2['other_floor_type'])\n",
        "other_floor_type_dummies.head(10)\n",
        "position_dummies = pd.get_dummies(data2['position'])\n",
        "position_dummies.head(10)"
      ],
      "execution_count": 55,
      "outputs": [
        {
          "output_type": "execute_result",
          "data": {
            "text/html": [
              "<div>\n",
              "<style scoped>\n",
              "    .dataframe tbody tr th:only-of-type {\n",
              "        vertical-align: middle;\n",
              "    }\n",
              "\n",
              "    .dataframe tbody tr th {\n",
              "        vertical-align: top;\n",
              "    }\n",
              "\n",
              "    .dataframe thead th {\n",
              "        text-align: right;\n",
              "    }\n",
              "</style>\n",
              "<table border=\"1\" class=\"dataframe\">\n",
              "  <thead>\n",
              "    <tr style=\"text-align: right;\">\n",
              "      <th></th>\n",
              "      <th>Attached-1 side</th>\n",
              "      <th>Attached-2 side</th>\n",
              "      <th>Attached-3 side</th>\n",
              "      <th>Not attached</th>\n",
              "    </tr>\n",
              "  </thead>\n",
              "  <tbody>\n",
              "    <tr>\n",
              "      <th>0</th>\n",
              "      <td>0</td>\n",
              "      <td>0</td>\n",
              "      <td>0</td>\n",
              "      <td>1</td>\n",
              "    </tr>\n",
              "    <tr>\n",
              "      <th>1</th>\n",
              "      <td>0</td>\n",
              "      <td>0</td>\n",
              "      <td>0</td>\n",
              "      <td>1</td>\n",
              "    </tr>\n",
              "    <tr>\n",
              "      <th>2</th>\n",
              "      <td>0</td>\n",
              "      <td>0</td>\n",
              "      <td>0</td>\n",
              "      <td>1</td>\n",
              "    </tr>\n",
              "    <tr>\n",
              "      <th>3</th>\n",
              "      <td>0</td>\n",
              "      <td>0</td>\n",
              "      <td>0</td>\n",
              "      <td>1</td>\n",
              "    </tr>\n",
              "    <tr>\n",
              "      <th>4</th>\n",
              "      <td>0</td>\n",
              "      <td>0</td>\n",
              "      <td>0</td>\n",
              "      <td>1</td>\n",
              "    </tr>\n",
              "    <tr>\n",
              "      <th>5</th>\n",
              "      <td>0</td>\n",
              "      <td>0</td>\n",
              "      <td>0</td>\n",
              "      <td>1</td>\n",
              "    </tr>\n",
              "    <tr>\n",
              "      <th>6</th>\n",
              "      <td>0</td>\n",
              "      <td>0</td>\n",
              "      <td>0</td>\n",
              "      <td>1</td>\n",
              "    </tr>\n",
              "    <tr>\n",
              "      <th>7</th>\n",
              "      <td>0</td>\n",
              "      <td>0</td>\n",
              "      <td>0</td>\n",
              "      <td>1</td>\n",
              "    </tr>\n",
              "    <tr>\n",
              "      <th>8</th>\n",
              "      <td>0</td>\n",
              "      <td>0</td>\n",
              "      <td>0</td>\n",
              "      <td>1</td>\n",
              "    </tr>\n",
              "    <tr>\n",
              "      <th>9</th>\n",
              "      <td>0</td>\n",
              "      <td>0</td>\n",
              "      <td>0</td>\n",
              "      <td>1</td>\n",
              "    </tr>\n",
              "  </tbody>\n",
              "</table>\n",
              "</div>"
            ],
            "text/plain": [
              "   Attached-1 side  Attached-2 side  Attached-3 side  Not attached\n",
              "0                0                0                0             1\n",
              "1                0                0                0             1\n",
              "2                0                0                0             1\n",
              "3                0                0                0             1\n",
              "4                0                0                0             1\n",
              "5                0                0                0             1\n",
              "6                0                0                0             1\n",
              "7                0                0                0             1\n",
              "8                0                0                0             1\n",
              "9                0                0                0             1"
            ]
          },
          "metadata": {
            "tags": []
          },
          "execution_count": 55
        }
      ]
    },
    {
      "cell_type": "code",
      "metadata": {
        "colab": {
          "base_uri": "https://localhost:8080/",
          "height": 195
        },
        "id": "kl3grREYLeVr",
        "outputId": "4fd7cf91-ebc6-401c-a346-230eb55dea86"
      },
      "source": [
        "data2.head()"
      ],
      "execution_count": 52,
      "outputs": [
        {
          "output_type": "execute_result",
          "data": {
            "text/html": [
              "<div>\n",
              "<style scoped>\n",
              "    .dataframe tbody tr th:only-of-type {\n",
              "        vertical-align: middle;\n",
              "    }\n",
              "\n",
              "    .dataframe tbody tr th {\n",
              "        vertical-align: top;\n",
              "    }\n",
              "\n",
              "    .dataframe thead th {\n",
              "        text-align: right;\n",
              "    }\n",
              "</style>\n",
              "<table border=\"1\" class=\"dataframe\">\n",
              "  <thead>\n",
              "    <tr style=\"text-align: right;\">\n",
              "      <th></th>\n",
              "      <th>age_building</th>\n",
              "      <th>plinth_area_sq_ft</th>\n",
              "      <th>height_ft_pre_eq</th>\n",
              "      <th>land_surface_condition</th>\n",
              "      <th>foundation_type</th>\n",
              "      <th>ground_floor_type</th>\n",
              "      <th>other_floor_type</th>\n",
              "      <th>position</th>\n",
              "      <th>damage_grade</th>\n",
              "    </tr>\n",
              "  </thead>\n",
              "  <tbody>\n",
              "    <tr>\n",
              "      <th>0</th>\n",
              "      <td>9</td>\n",
              "      <td>288</td>\n",
              "      <td>9</td>\n",
              "      <td>Flat</td>\n",
              "      <td>Other</td>\n",
              "      <td>Mud</td>\n",
              "      <td>Not applicable</td>\n",
              "      <td>Not attached</td>\n",
              "      <td>3</td>\n",
              "    </tr>\n",
              "    <tr>\n",
              "      <th>1</th>\n",
              "      <td>15</td>\n",
              "      <td>364</td>\n",
              "      <td>9</td>\n",
              "      <td>Flat</td>\n",
              "      <td>Other</td>\n",
              "      <td>Mud</td>\n",
              "      <td>Not applicable</td>\n",
              "      <td>Not attached</td>\n",
              "      <td>5</td>\n",
              "    </tr>\n",
              "    <tr>\n",
              "      <th>2</th>\n",
              "      <td>20</td>\n",
              "      <td>384</td>\n",
              "      <td>9</td>\n",
              "      <td>Flat</td>\n",
              "      <td>Other</td>\n",
              "      <td>Mud</td>\n",
              "      <td>Not applicable</td>\n",
              "      <td>Not attached</td>\n",
              "      <td>2</td>\n",
              "    </tr>\n",
              "    <tr>\n",
              "      <th>3</th>\n",
              "      <td>20</td>\n",
              "      <td>312</td>\n",
              "      <td>9</td>\n",
              "      <td>Flat</td>\n",
              "      <td>Other</td>\n",
              "      <td>Mud</td>\n",
              "      <td>Not applicable</td>\n",
              "      <td>Not attached</td>\n",
              "      <td>2</td>\n",
              "    </tr>\n",
              "    <tr>\n",
              "      <th>4</th>\n",
              "      <td>30</td>\n",
              "      <td>308</td>\n",
              "      <td>9</td>\n",
              "      <td>Flat</td>\n",
              "      <td>Other</td>\n",
              "      <td>Mud</td>\n",
              "      <td>Not applicable</td>\n",
              "      <td>Not attached</td>\n",
              "      <td>1</td>\n",
              "    </tr>\n",
              "  </tbody>\n",
              "</table>\n",
              "</div>"
            ],
            "text/plain": [
              "   age_building  plinth_area_sq_ft  ...      position damage_grade\n",
              "0             9                288  ...  Not attached            3\n",
              "1            15                364  ...  Not attached            5\n",
              "2            20                384  ...  Not attached            2\n",
              "3            20                312  ...  Not attached            2\n",
              "4            30                308  ...  Not attached            1\n",
              "\n",
              "[5 rows x 9 columns]"
            ]
          },
          "metadata": {
            "tags": []
          },
          "execution_count": 52
        }
      ]
    },
    {
      "cell_type": "code",
      "metadata": {
        "colab": {
          "base_uri": "https://localhost:8080/",
          "height": 195
        },
        "id": "SUhkPTMSLtb6",
        "outputId": "cb2d8ed4-db03-4a17-f0da-fee6e9dad7f1"
      },
      "source": [
        "# data2=data1['damage_grade'].replace({'Grade 1':1, 'Grade 2':2,'Grade 3':3,'Grade 4':4,'Grade 5':5,}, inplace=True)\n",
        "data2=data1.replace({'Grade 1':1, 'Grade 2':2,'Grade 3':3,'Grade 4':4,'Grade 5':5,}, inplace=False)\n",
        "data2.head()"
      ],
      "execution_count": 54,
      "outputs": [
        {
          "output_type": "execute_result",
          "data": {
            "text/html": [
              "<div>\n",
              "<style scoped>\n",
              "    .dataframe tbody tr th:only-of-type {\n",
              "        vertical-align: middle;\n",
              "    }\n",
              "\n",
              "    .dataframe tbody tr th {\n",
              "        vertical-align: top;\n",
              "    }\n",
              "\n",
              "    .dataframe thead th {\n",
              "        text-align: right;\n",
              "    }\n",
              "</style>\n",
              "<table border=\"1\" class=\"dataframe\">\n",
              "  <thead>\n",
              "    <tr style=\"text-align: right;\">\n",
              "      <th></th>\n",
              "      <th>age_building</th>\n",
              "      <th>plinth_area_sq_ft</th>\n",
              "      <th>height_ft_pre_eq</th>\n",
              "      <th>land_surface_condition</th>\n",
              "      <th>foundation_type</th>\n",
              "      <th>ground_floor_type</th>\n",
              "      <th>other_floor_type</th>\n",
              "      <th>position</th>\n",
              "      <th>damage_grade</th>\n",
              "    </tr>\n",
              "  </thead>\n",
              "  <tbody>\n",
              "    <tr>\n",
              "      <th>0</th>\n",
              "      <td>9</td>\n",
              "      <td>288</td>\n",
              "      <td>9</td>\n",
              "      <td>Flat</td>\n",
              "      <td>Other</td>\n",
              "      <td>Mud</td>\n",
              "      <td>Not applicable</td>\n",
              "      <td>Not attached</td>\n",
              "      <td>3</td>\n",
              "    </tr>\n",
              "    <tr>\n",
              "      <th>1</th>\n",
              "      <td>15</td>\n",
              "      <td>364</td>\n",
              "      <td>9</td>\n",
              "      <td>Flat</td>\n",
              "      <td>Other</td>\n",
              "      <td>Mud</td>\n",
              "      <td>Not applicable</td>\n",
              "      <td>Not attached</td>\n",
              "      <td>5</td>\n",
              "    </tr>\n",
              "    <tr>\n",
              "      <th>2</th>\n",
              "      <td>20</td>\n",
              "      <td>384</td>\n",
              "      <td>9</td>\n",
              "      <td>Flat</td>\n",
              "      <td>Other</td>\n",
              "      <td>Mud</td>\n",
              "      <td>Not applicable</td>\n",
              "      <td>Not attached</td>\n",
              "      <td>2</td>\n",
              "    </tr>\n",
              "    <tr>\n",
              "      <th>3</th>\n",
              "      <td>20</td>\n",
              "      <td>312</td>\n",
              "      <td>9</td>\n",
              "      <td>Flat</td>\n",
              "      <td>Other</td>\n",
              "      <td>Mud</td>\n",
              "      <td>Not applicable</td>\n",
              "      <td>Not attached</td>\n",
              "      <td>2</td>\n",
              "    </tr>\n",
              "    <tr>\n",
              "      <th>4</th>\n",
              "      <td>30</td>\n",
              "      <td>308</td>\n",
              "      <td>9</td>\n",
              "      <td>Flat</td>\n",
              "      <td>Other</td>\n",
              "      <td>Mud</td>\n",
              "      <td>Not applicable</td>\n",
              "      <td>Not attached</td>\n",
              "      <td>1</td>\n",
              "    </tr>\n",
              "  </tbody>\n",
              "</table>\n",
              "</div>"
            ],
            "text/plain": [
              "   age_building  plinth_area_sq_ft  ...      position damage_grade\n",
              "0             9                288  ...  Not attached            3\n",
              "1            15                364  ...  Not attached            5\n",
              "2            20                384  ...  Not attached            2\n",
              "3            20                312  ...  Not attached            2\n",
              "4            30                308  ...  Not attached            1\n",
              "\n",
              "[5 rows x 9 columns]"
            ]
          },
          "metadata": {
            "tags": []
          },
          "execution_count": 54
        }
      ]
    },
    {
      "cell_type": "code",
      "metadata": {
        "colab": {
          "base_uri": "https://localhost:8080/",
          "height": 232
        },
        "id": "l24G47rXFlf7",
        "outputId": "7ed5e949-a0c2-4991-e6f6-1bf78e89d8fa"
      },
      "source": [
        "# insurance_data에 region_dummies 결합 및 기존 region 열 삭제\n",
        "data2 = pd.concat([data2, land_surface_condition_dummies], axis = 1)\n",
        "data2.drop(['land_surface_condition'], axis = 1, inplace = True)\n",
        "data2 = pd.concat([data2, foundation_type_dummies], axis = 1)\n",
        "data2.drop(['foundation_type'], axis = 1, inplace = True)\n",
        "data2 = pd.concat([data2, ground_floor_type_dummies], axis = 1)\n",
        "data2.drop(['ground_floor_type'], axis = 1, inplace = True)\n",
        "data2 = pd.concat([data2, other_floor_type_dummies], axis = 1)\n",
        "data2.drop(['other_floor_type'], axis = 1, inplace = True)\n",
        "data2 = pd.concat([data2, position_dummies], axis = 1)\n",
        "data2.drop(['position'], axis = 1, inplace = True)\n",
        "data2.head()"
      ],
      "execution_count": 56,
      "outputs": [
        {
          "output_type": "execute_result",
          "data": {
            "text/html": [
              "<div>\n",
              "<style scoped>\n",
              "    .dataframe tbody tr th:only-of-type {\n",
              "        vertical-align: middle;\n",
              "    }\n",
              "\n",
              "    .dataframe tbody tr th {\n",
              "        vertical-align: top;\n",
              "    }\n",
              "\n",
              "    .dataframe thead th {\n",
              "        text-align: right;\n",
              "    }\n",
              "</style>\n",
              "<table border=\"1\" class=\"dataframe\">\n",
              "  <thead>\n",
              "    <tr style=\"text-align: right;\">\n",
              "      <th></th>\n",
              "      <th>age_building</th>\n",
              "      <th>plinth_area_sq_ft</th>\n",
              "      <th>height_ft_pre_eq</th>\n",
              "      <th>damage_grade</th>\n",
              "      <th>Flat</th>\n",
              "      <th>Moderate slope</th>\n",
              "      <th>Steep slope</th>\n",
              "      <th>Bamboo/Timber</th>\n",
              "      <th>Cement-Stone/Brick</th>\n",
              "      <th>Mud mortar-Stone/Brick</th>\n",
              "      <th>Other</th>\n",
              "      <th>RC</th>\n",
              "      <th>Brick/Stone</th>\n",
              "      <th>Mud</th>\n",
              "      <th>Other</th>\n",
              "      <th>RC</th>\n",
              "      <th>Timber</th>\n",
              "      <th>Not applicable</th>\n",
              "      <th>RCC/RB/RBC</th>\n",
              "      <th>TImber/Bamboo-Mud</th>\n",
              "      <th>Timber-Planck</th>\n",
              "      <th>Attached-1 side</th>\n",
              "      <th>Attached-2 side</th>\n",
              "      <th>Attached-3 side</th>\n",
              "      <th>Not attached</th>\n",
              "    </tr>\n",
              "  </thead>\n",
              "  <tbody>\n",
              "    <tr>\n",
              "      <th>0</th>\n",
              "      <td>9</td>\n",
              "      <td>288</td>\n",
              "      <td>9</td>\n",
              "      <td>3</td>\n",
              "      <td>1</td>\n",
              "      <td>0</td>\n",
              "      <td>0</td>\n",
              "      <td>0</td>\n",
              "      <td>0</td>\n",
              "      <td>0</td>\n",
              "      <td>1</td>\n",
              "      <td>0</td>\n",
              "      <td>0</td>\n",
              "      <td>1</td>\n",
              "      <td>0</td>\n",
              "      <td>0</td>\n",
              "      <td>0</td>\n",
              "      <td>1</td>\n",
              "      <td>0</td>\n",
              "      <td>0</td>\n",
              "      <td>0</td>\n",
              "      <td>0</td>\n",
              "      <td>0</td>\n",
              "      <td>0</td>\n",
              "      <td>1</td>\n",
              "    </tr>\n",
              "    <tr>\n",
              "      <th>1</th>\n",
              "      <td>15</td>\n",
              "      <td>364</td>\n",
              "      <td>9</td>\n",
              "      <td>5</td>\n",
              "      <td>1</td>\n",
              "      <td>0</td>\n",
              "      <td>0</td>\n",
              "      <td>0</td>\n",
              "      <td>0</td>\n",
              "      <td>0</td>\n",
              "      <td>1</td>\n",
              "      <td>0</td>\n",
              "      <td>0</td>\n",
              "      <td>1</td>\n",
              "      <td>0</td>\n",
              "      <td>0</td>\n",
              "      <td>0</td>\n",
              "      <td>1</td>\n",
              "      <td>0</td>\n",
              "      <td>0</td>\n",
              "      <td>0</td>\n",
              "      <td>0</td>\n",
              "      <td>0</td>\n",
              "      <td>0</td>\n",
              "      <td>1</td>\n",
              "    </tr>\n",
              "    <tr>\n",
              "      <th>2</th>\n",
              "      <td>20</td>\n",
              "      <td>384</td>\n",
              "      <td>9</td>\n",
              "      <td>2</td>\n",
              "      <td>1</td>\n",
              "      <td>0</td>\n",
              "      <td>0</td>\n",
              "      <td>0</td>\n",
              "      <td>0</td>\n",
              "      <td>0</td>\n",
              "      <td>1</td>\n",
              "      <td>0</td>\n",
              "      <td>0</td>\n",
              "      <td>1</td>\n",
              "      <td>0</td>\n",
              "      <td>0</td>\n",
              "      <td>0</td>\n",
              "      <td>1</td>\n",
              "      <td>0</td>\n",
              "      <td>0</td>\n",
              "      <td>0</td>\n",
              "      <td>0</td>\n",
              "      <td>0</td>\n",
              "      <td>0</td>\n",
              "      <td>1</td>\n",
              "    </tr>\n",
              "    <tr>\n",
              "      <th>3</th>\n",
              "      <td>20</td>\n",
              "      <td>312</td>\n",
              "      <td>9</td>\n",
              "      <td>2</td>\n",
              "      <td>1</td>\n",
              "      <td>0</td>\n",
              "      <td>0</td>\n",
              "      <td>0</td>\n",
              "      <td>0</td>\n",
              "      <td>0</td>\n",
              "      <td>1</td>\n",
              "      <td>0</td>\n",
              "      <td>0</td>\n",
              "      <td>1</td>\n",
              "      <td>0</td>\n",
              "      <td>0</td>\n",
              "      <td>0</td>\n",
              "      <td>1</td>\n",
              "      <td>0</td>\n",
              "      <td>0</td>\n",
              "      <td>0</td>\n",
              "      <td>0</td>\n",
              "      <td>0</td>\n",
              "      <td>0</td>\n",
              "      <td>1</td>\n",
              "    </tr>\n",
              "    <tr>\n",
              "      <th>4</th>\n",
              "      <td>30</td>\n",
              "      <td>308</td>\n",
              "      <td>9</td>\n",
              "      <td>1</td>\n",
              "      <td>1</td>\n",
              "      <td>0</td>\n",
              "      <td>0</td>\n",
              "      <td>0</td>\n",
              "      <td>0</td>\n",
              "      <td>0</td>\n",
              "      <td>1</td>\n",
              "      <td>0</td>\n",
              "      <td>0</td>\n",
              "      <td>1</td>\n",
              "      <td>0</td>\n",
              "      <td>0</td>\n",
              "      <td>0</td>\n",
              "      <td>1</td>\n",
              "      <td>0</td>\n",
              "      <td>0</td>\n",
              "      <td>0</td>\n",
              "      <td>0</td>\n",
              "      <td>0</td>\n",
              "      <td>0</td>\n",
              "      <td>1</td>\n",
              "    </tr>\n",
              "  </tbody>\n",
              "</table>\n",
              "</div>"
            ],
            "text/plain": [
              "   age_building  plinth_area_sq_ft  ...  Attached-3 side  Not attached\n",
              "0             9                288  ...                0             1\n",
              "1            15                364  ...                0             1\n",
              "2            20                384  ...                0             1\n",
              "3            20                312  ...                0             1\n",
              "4            30                308  ...                0             1\n",
              "\n",
              "[5 rows x 25 columns]"
            ]
          },
          "metadata": {
            "tags": []
          },
          "execution_count": 56
        }
      ]
    },
    {
      "cell_type": "code",
      "metadata": {
        "colab": {
          "base_uri": "https://localhost:8080/",
          "height": 321
        },
        "id": "qlSm0gCyL3Ux",
        "outputId": "34bd3db6-0a2f-4431-acf9-7784ec8eacc6"
      },
      "source": [
        "data2.describe()"
      ],
      "execution_count": 57,
      "outputs": [
        {
          "output_type": "execute_result",
          "data": {
            "text/html": [
              "<div>\n",
              "<style scoped>\n",
              "    .dataframe tbody tr th:only-of-type {\n",
              "        vertical-align: middle;\n",
              "    }\n",
              "\n",
              "    .dataframe tbody tr th {\n",
              "        vertical-align: top;\n",
              "    }\n",
              "\n",
              "    .dataframe thead th {\n",
              "        text-align: right;\n",
              "    }\n",
              "</style>\n",
              "<table border=\"1\" class=\"dataframe\">\n",
              "  <thead>\n",
              "    <tr style=\"text-align: right;\">\n",
              "      <th></th>\n",
              "      <th>age_building</th>\n",
              "      <th>plinth_area_sq_ft</th>\n",
              "      <th>height_ft_pre_eq</th>\n",
              "      <th>damage_grade</th>\n",
              "      <th>Flat</th>\n",
              "      <th>Moderate slope</th>\n",
              "      <th>Steep slope</th>\n",
              "      <th>Bamboo/Timber</th>\n",
              "      <th>Cement-Stone/Brick</th>\n",
              "      <th>Mud mortar-Stone/Brick</th>\n",
              "      <th>Other</th>\n",
              "      <th>RC</th>\n",
              "      <th>Brick/Stone</th>\n",
              "      <th>Mud</th>\n",
              "      <th>Other</th>\n",
              "      <th>RC</th>\n",
              "      <th>Timber</th>\n",
              "      <th>Not applicable</th>\n",
              "      <th>RCC/RB/RBC</th>\n",
              "      <th>TImber/Bamboo-Mud</th>\n",
              "      <th>Timber-Planck</th>\n",
              "      <th>Attached-1 side</th>\n",
              "      <th>Attached-2 side</th>\n",
              "      <th>Attached-3 side</th>\n",
              "      <th>Not attached</th>\n",
              "    </tr>\n",
              "  </thead>\n",
              "  <tbody>\n",
              "    <tr>\n",
              "      <th>count</th>\n",
              "      <td>762094.000000</td>\n",
              "      <td>762094.000000</td>\n",
              "      <td>762094.000000</td>\n",
              "      <td>762094.000000</td>\n",
              "      <td>762094.000000</td>\n",
              "      <td>762094.000000</td>\n",
              "      <td>762094.000000</td>\n",
              "      <td>762094.000000</td>\n",
              "      <td>762094.000000</td>\n",
              "      <td>762094.000000</td>\n",
              "      <td>762094.000000</td>\n",
              "      <td>762094.000000</td>\n",
              "      <td>762094.000000</td>\n",
              "      <td>762094.000000</td>\n",
              "      <td>762094.000000</td>\n",
              "      <td>762094.000000</td>\n",
              "      <td>762094.000000</td>\n",
              "      <td>762094.000000</td>\n",
              "      <td>762094.000000</td>\n",
              "      <td>762094.000000</td>\n",
              "      <td>762094.000000</td>\n",
              "      <td>762094.000000</td>\n",
              "      <td>762094.000000</td>\n",
              "      <td>762094.000000</td>\n",
              "      <td>762094.000000</td>\n",
              "    </tr>\n",
              "    <tr>\n",
              "      <th>mean</th>\n",
              "      <td>24.325031</td>\n",
              "      <td>406.673668</td>\n",
              "      <td>16.049424</td>\n",
              "      <td>3.643607</td>\n",
              "      <td>0.828852</td>\n",
              "      <td>0.138618</td>\n",
              "      <td>0.032530</td>\n",
              "      <td>0.075413</td>\n",
              "      <td>0.051496</td>\n",
              "      <td>0.824970</td>\n",
              "      <td>0.005973</td>\n",
              "      <td>0.042147</td>\n",
              "      <td>0.086726</td>\n",
              "      <td>0.811193</td>\n",
              "      <td>0.001382</td>\n",
              "      <td>0.095984</td>\n",
              "      <td>0.004716</td>\n",
              "      <td>0.155914</td>\n",
              "      <td>0.042963</td>\n",
              "      <td>0.638907</td>\n",
              "      <td>0.162216</td>\n",
              "      <td>0.169836</td>\n",
              "      <td>0.035311</td>\n",
              "      <td>0.001719</td>\n",
              "      <td>0.793134</td>\n",
              "    </tr>\n",
              "    <tr>\n",
              "      <th>std</th>\n",
              "      <td>65.034555</td>\n",
              "      <td>226.780437</td>\n",
              "      <td>5.493900</td>\n",
              "      <td>1.342606</td>\n",
              "      <td>0.376639</td>\n",
              "      <td>0.345548</td>\n",
              "      <td>0.177403</td>\n",
              "      <td>0.264057</td>\n",
              "      <td>0.221008</td>\n",
              "      <td>0.379993</td>\n",
              "      <td>0.077054</td>\n",
              "      <td>0.200925</td>\n",
              "      <td>0.281433</td>\n",
              "      <td>0.391356</td>\n",
              "      <td>0.037146</td>\n",
              "      <td>0.294570</td>\n",
              "      <td>0.068511</td>\n",
              "      <td>0.362774</td>\n",
              "      <td>0.202774</td>\n",
              "      <td>0.480318</td>\n",
              "      <td>0.368649</td>\n",
              "      <td>0.375489</td>\n",
              "      <td>0.184564</td>\n",
              "      <td>0.041425</td>\n",
              "      <td>0.405059</td>\n",
              "    </tr>\n",
              "    <tr>\n",
              "      <th>min</th>\n",
              "      <td>0.000000</td>\n",
              "      <td>70.000000</td>\n",
              "      <td>6.000000</td>\n",
              "      <td>1.000000</td>\n",
              "      <td>0.000000</td>\n",
              "      <td>0.000000</td>\n",
              "      <td>0.000000</td>\n",
              "      <td>0.000000</td>\n",
              "      <td>0.000000</td>\n",
              "      <td>0.000000</td>\n",
              "      <td>0.000000</td>\n",
              "      <td>0.000000</td>\n",
              "      <td>0.000000</td>\n",
              "      <td>0.000000</td>\n",
              "      <td>0.000000</td>\n",
              "      <td>0.000000</td>\n",
              "      <td>0.000000</td>\n",
              "      <td>0.000000</td>\n",
              "      <td>0.000000</td>\n",
              "      <td>0.000000</td>\n",
              "      <td>0.000000</td>\n",
              "      <td>0.000000</td>\n",
              "      <td>0.000000</td>\n",
              "      <td>0.000000</td>\n",
              "      <td>0.000000</td>\n",
              "    </tr>\n",
              "    <tr>\n",
              "      <th>25%</th>\n",
              "      <td>9.000000</td>\n",
              "      <td>280.000000</td>\n",
              "      <td>12.000000</td>\n",
              "      <td>3.000000</td>\n",
              "      <td>1.000000</td>\n",
              "      <td>0.000000</td>\n",
              "      <td>0.000000</td>\n",
              "      <td>0.000000</td>\n",
              "      <td>0.000000</td>\n",
              "      <td>1.000000</td>\n",
              "      <td>0.000000</td>\n",
              "      <td>0.000000</td>\n",
              "      <td>0.000000</td>\n",
              "      <td>1.000000</td>\n",
              "      <td>0.000000</td>\n",
              "      <td>0.000000</td>\n",
              "      <td>0.000000</td>\n",
              "      <td>0.000000</td>\n",
              "      <td>0.000000</td>\n",
              "      <td>0.000000</td>\n",
              "      <td>0.000000</td>\n",
              "      <td>0.000000</td>\n",
              "      <td>0.000000</td>\n",
              "      <td>0.000000</td>\n",
              "      <td>1.000000</td>\n",
              "    </tr>\n",
              "    <tr>\n",
              "      <th>50%</th>\n",
              "      <td>16.000000</td>\n",
              "      <td>358.000000</td>\n",
              "      <td>16.000000</td>\n",
              "      <td>4.000000</td>\n",
              "      <td>1.000000</td>\n",
              "      <td>0.000000</td>\n",
              "      <td>0.000000</td>\n",
              "      <td>0.000000</td>\n",
              "      <td>0.000000</td>\n",
              "      <td>1.000000</td>\n",
              "      <td>0.000000</td>\n",
              "      <td>0.000000</td>\n",
              "      <td>0.000000</td>\n",
              "      <td>1.000000</td>\n",
              "      <td>0.000000</td>\n",
              "      <td>0.000000</td>\n",
              "      <td>0.000000</td>\n",
              "      <td>0.000000</td>\n",
              "      <td>0.000000</td>\n",
              "      <td>1.000000</td>\n",
              "      <td>0.000000</td>\n",
              "      <td>0.000000</td>\n",
              "      <td>0.000000</td>\n",
              "      <td>0.000000</td>\n",
              "      <td>1.000000</td>\n",
              "    </tr>\n",
              "    <tr>\n",
              "      <th>75%</th>\n",
              "      <td>27.000000</td>\n",
              "      <td>470.000000</td>\n",
              "      <td>18.000000</td>\n",
              "      <td>5.000000</td>\n",
              "      <td>1.000000</td>\n",
              "      <td>0.000000</td>\n",
              "      <td>0.000000</td>\n",
              "      <td>0.000000</td>\n",
              "      <td>0.000000</td>\n",
              "      <td>1.000000</td>\n",
              "      <td>0.000000</td>\n",
              "      <td>0.000000</td>\n",
              "      <td>0.000000</td>\n",
              "      <td>1.000000</td>\n",
              "      <td>0.000000</td>\n",
              "      <td>0.000000</td>\n",
              "      <td>0.000000</td>\n",
              "      <td>0.000000</td>\n",
              "      <td>0.000000</td>\n",
              "      <td>1.000000</td>\n",
              "      <td>0.000000</td>\n",
              "      <td>0.000000</td>\n",
              "      <td>0.000000</td>\n",
              "      <td>0.000000</td>\n",
              "      <td>1.000000</td>\n",
              "    </tr>\n",
              "    <tr>\n",
              "      <th>max</th>\n",
              "      <td>999.000000</td>\n",
              "      <td>5000.000000</td>\n",
              "      <td>99.000000</td>\n",
              "      <td>5.000000</td>\n",
              "      <td>1.000000</td>\n",
              "      <td>1.000000</td>\n",
              "      <td>1.000000</td>\n",
              "      <td>1.000000</td>\n",
              "      <td>1.000000</td>\n",
              "      <td>1.000000</td>\n",
              "      <td>1.000000</td>\n",
              "      <td>1.000000</td>\n",
              "      <td>1.000000</td>\n",
              "      <td>1.000000</td>\n",
              "      <td>1.000000</td>\n",
              "      <td>1.000000</td>\n",
              "      <td>1.000000</td>\n",
              "      <td>1.000000</td>\n",
              "      <td>1.000000</td>\n",
              "      <td>1.000000</td>\n",
              "      <td>1.000000</td>\n",
              "      <td>1.000000</td>\n",
              "      <td>1.000000</td>\n",
              "      <td>1.000000</td>\n",
              "      <td>1.000000</td>\n",
              "    </tr>\n",
              "  </tbody>\n",
              "</table>\n",
              "</div>"
            ],
            "text/plain": [
              "        age_building  plinth_area_sq_ft  ...  Attached-3 side   Not attached\n",
              "count  762094.000000      762094.000000  ...    762094.000000  762094.000000\n",
              "mean       24.325031         406.673668  ...         0.001719       0.793134\n",
              "std        65.034555         226.780437  ...         0.041425       0.405059\n",
              "min         0.000000          70.000000  ...         0.000000       0.000000\n",
              "25%         9.000000         280.000000  ...         0.000000       1.000000\n",
              "50%        16.000000         358.000000  ...         0.000000       1.000000\n",
              "75%        27.000000         470.000000  ...         0.000000       1.000000\n",
              "max       999.000000        5000.000000  ...         1.000000       1.000000\n",
              "\n",
              "[8 rows x 25 columns]"
            ]
          },
          "metadata": {
            "tags": []
          },
          "execution_count": 57
        }
      ]
    },
    {
      "cell_type": "code",
      "metadata": {
        "colab": {
          "base_uri": "https://localhost:8080/",
          "height": 903
        },
        "id": "15t2iLAhL8ir",
        "outputId": "f5041b61-0081-48a6-874e-90d01a6da03e"
      },
      "source": [
        "plt.figure(figsize=(15,15))\n",
        "p = sns.heatmap(data2.corr(),cmap=\"coolwarm\",annot=True, square =True)"
      ],
      "execution_count": 60,
      "outputs": [
        {
          "output_type": "display_data",
          "data": {
            "image/png": "[encoded data removed]",
            "text/plain": [
              "<Figure size 1080x1080 with 2 Axes>"
            ]
          },
          "metadata": {
            "tags": [],
            "needs_background": "light"
          }
        }
      ]
    },
    {
      "cell_type": "code",
      "metadata": {
        "colab": {
          "base_uri": "https://localhost:8080/"
        },
        "id": "KefGAnnXMeez",
        "outputId": "2cabe1e8-49fb-4777-be5a-f33e5541d8bf"
      },
      "source": [
        "x = data2.drop(['damage_grade'], axis=1)\n",
        "y = data2.iloc[:, 3]\n",
        "\n",
        "x = np.array(x).astype('float32')\n",
        "y = np.array(y).astype('float32')\n"
      ],
      "execution_count": 67,
      "outputs": [
        {
          "output_type": "stream",
          "text": [
            "[[  9. 288.   9. ...   0.   0.   1.]\n",
            " [ 15. 364.   9. ...   0.   0.   1.]\n",
            " [ 20. 384.   9. ...   0.   0.   1.]\n",
            " ...\n",
            " [ 35. 342.  18. ...   0.   0.   1.]\n",
            " [ 19. 306.  18. ...   0.   0.   1.]\n",
            " [ 12. 840.  18. ...   0.   0.   1.]] [3. 5. 2. ... 5. 5. 5.]\n"
          ],
          "name": "stdout"
        }
      ]
    },
    {
      "cell_type": "code",
      "metadata": {
        "colab": {
          "base_uri": "https://localhost:8080/"
        },
        "id": "LJKU8GQ0Msgy",
        "outputId": "cd172696-1b1a-4c9d-a1ae-cfb11a271b3b"
      },
      "source": [
        "from sklearn.preprocessing import StandardScaler\n",
        "\n",
        "scaler_x = StandardScaler()\n",
        "x_scale = scaler_x.fit_transform(x)\n",
        "\n",
        "scaler_y = StandardScaler()\n",
        "y_scale = scaler_x.fit_transform(y.reshape(-1,1))"
      ],
      "execution_count": 66,
      "outputs": [
        {
          "output_type": "stream",
          "text": [
            "StandardScaler(copy=True, with_mean=True, with_std=True) StandardScaler(copy=True, with_mean=True, with_std=True)\n"
          ],
          "name": "stdout"
        }
      ]
    },
    {
      "cell_type": "code",
      "metadata": {
        "id": "Zb6Mfo-DMuFh"
      },
      "source": [
        "from sklearn.model_selection import train_test_split\n",
        "x_train, x_test, y_train, y_test = train_test_split(x_scale,y_scale,test_size = 0.2,random_state = 42)"
      ],
      "execution_count": 64,
      "outputs": []
    },
    {
      "cell_type": "code",
      "metadata": {
        "id": "Bq8v0W8MMwf6"
      },
      "source": [
        "from tensorflow.keras.layers import Dense, Activation, Dropout, BatchNormalization\n",
        "from tensorflow.keras.models import Sequential\n",
        "from tensorflow.keras.optimizers import Adam"
      ],
      "execution_count": 65,
      "outputs": []
    },
    {
      "cell_type": "code",
      "metadata": {
        "colab": {
          "base_uri": "https://localhost:8080/"
        },
        "id": "cF3UbrESMx8O",
        "outputId": "b09740e1-640d-43bb-aa68-062297470bd7"
      },
      "source": [
        "# 모델 정의\n",
        "model = Sequential()\n",
        "model.add(Dense(50,input_dim=24))\n",
        "model.add(Activation('relu'))\n",
        "\n",
        "model.add(Dense(180))\n",
        "model.add(Activation('relu'))\n",
        "model.add(Dropout(0.3))\n",
        "\n",
        "model.add(Dense(180))\n",
        "model.add(Activation('relu'))\n",
        "model.add(Dropout(0.3))\n",
        "\n",
        "model.add(Dense(50))\n",
        "model.add(Activation('linear'))\n",
        "model.add(Dropout(0.3))\n",
        "\n",
        "model.add(Dense(1))\n",
        "# 모델 컴파일\n",
        "model.compile(loss = 'mse',optimizer = 'adam')\n",
        "\n",
        "# 모델 요약\n",
        "model.summary()"
      ],
      "execution_count": 68,
      "outputs": [
        {
          "output_type": "stream",
          "text": [
            "Model: \"sequential_1\"\n",
            "_________________________________________________________________\n",
            "Layer (type)                 Output Shape              Param #   \n",
            "=================================================================\n",
            "dense_3 (Dense)              (None, 50)                1250      \n",
            "_________________________________________________________________\n",
            "activation (Activation)      (None, 50)                0         \n",
            "_________________________________________________________________\n",
            "dense_4 (Dense)              (None, 180)               9180      \n",
            "_________________________________________________________________\n",
            "activation_1 (Activation)    (None, 180)               0         \n",
            "_________________________________________________________________\n",
            "dropout (Dropout)            (None, 180)               0         \n",
            "_________________________________________________________________\n",
            "dense_5 (Dense)              (None, 180)               32580     \n",
            "_________________________________________________________________\n",
            "activation_2 (Activation)    (None, 180)               0         \n",
            "_________________________________________________________________\n",
            "dropout_1 (Dropout)          (None, 180)               0         \n",
            "_________________________________________________________________\n",
            "dense_6 (Dense)              (None, 50)                9050      \n",
            "_________________________________________________________________\n",
            "activation_3 (Activation)    (None, 50)                0         \n",
            "_________________________________________________________________\n",
            "dropout_2 (Dropout)          (None, 50)                0         \n",
            "_________________________________________________________________\n",
            "dense_7 (Dense)              (None, 1)                 51        \n",
            "=================================================================\n",
            "Total params: 52,111\n",
            "Trainable params: 52,111\n",
            "Non-trainable params: 0\n",
            "_________________________________________________________________\n"
          ],
          "name": "stdout"
        }
      ]
    },
    {
      "cell_type": "code",
      "metadata": {
        "colab": {
          "base_uri": "https://localhost:8080/"
        },
        "id": "HF3GJCwsNQ3N",
        "outputId": "c6d07d3e-9731-4af7-f1cf-a3c3b241f504"
      },
      "source": [
        "# 모델 학습\n",
        "hist = model.fit(x_train, y_train, epochs= 50, batch_size = 20, validation_split= 0.2)"
      ],
      "execution_count": 69,
      "outputs": [
        {
          "output_type": "stream",
          "text": [
            "Epoch 1/50\n",
            "24387/24387 [==============================] - 65s 3ms/step - loss: 0.7275 - val_loss: 0.7084\n",
            "Epoch 2/50\n",
            "24387/24387 [==============================] - 64s 3ms/step - loss: 0.7166 - val_loss: 0.7000\n",
            "Epoch 3/50\n",
            "24387/24387 [==============================] - 62s 3ms/step - loss: 0.7154 - val_loss: 0.7056\n",
            "Epoch 4/50\n",
            "24387/24387 [==============================] - 61s 2ms/step - loss: 0.7143 - val_loss: 0.7035\n",
            "Epoch 5/50\n",
            "24387/24387 [==============================] - 62s 3ms/step - loss: 0.7134 - val_loss: 0.7000\n",
            "Epoch 6/50\n",
            "24387/24387 [==============================] - 61s 3ms/step - loss: 0.7135 - val_loss: 0.7271\n",
            "Epoch 7/50\n",
            "24387/24387 [==============================] - 61s 2ms/step - loss: 0.7137 - val_loss: 0.7200\n",
            "Epoch 8/50\n",
            "24387/24387 [==============================] - 61s 3ms/step - loss: 0.7131 - val_loss: 0.7022\n",
            "Epoch 9/50\n",
            "24387/24387 [==============================] - 61s 3ms/step - loss: 0.7129 - val_loss: 0.7010\n",
            "Epoch 10/50\n",
            "24387/24387 [==============================] - 62s 3ms/step - loss: 0.7128 - val_loss: 0.7011\n",
            "Epoch 11/50\n",
            "24387/24387 [==============================] - 60s 2ms/step - loss: 0.7126 - val_loss: 0.6996\n",
            "Epoch 12/50\n",
            "24387/24387 [==============================] - 61s 3ms/step - loss: 0.7127 - val_loss: 0.6993\n",
            "Epoch 13/50\n",
            "24387/24387 [==============================] - 61s 3ms/step - loss: 0.7121 - val_loss: 0.7082\n",
            "Epoch 14/50\n",
            "24387/24387 [==============================] - 61s 2ms/step - loss: 0.7126 - val_loss: 0.7018\n",
            "Epoch 15/50\n",
            "24387/24387 [==============================] - 63s 3ms/step - loss: 0.7129 - val_loss: 0.6993\n",
            "Epoch 16/50\n",
            "24387/24387 [==============================] - 61s 3ms/step - loss: 0.7126 - val_loss: 0.7011\n",
            "Epoch 17/50\n",
            "24387/24387 [==============================] - 64s 3ms/step - loss: 0.7128 - val_loss: 0.7117\n",
            "Epoch 18/50\n",
            "24387/24387 [==============================] - 65s 3ms/step - loss: 0.7117 - val_loss: 0.6981\n",
            "Epoch 19/50\n",
            "24387/24387 [==============================] - 64s 3ms/step - loss: 0.7112 - val_loss: 0.7089\n",
            "Epoch 20/50\n",
            "24387/24387 [==============================] - 66s 3ms/step - loss: 0.7114 - val_loss: 0.6991\n",
            "Epoch 21/50\n",
            "24387/24387 [==============================] - 62s 3ms/step - loss: 0.7109 - val_loss: 0.7066\n",
            "Epoch 22/50\n",
            "24387/24387 [==============================] - 64s 3ms/step - loss: 0.7116 - val_loss: 0.7064\n",
            "Epoch 23/50\n",
            "24387/24387 [==============================] - 62s 3ms/step - loss: 0.7116 - val_loss: 0.7122\n",
            "Epoch 24/50\n",
            "24387/24387 [==============================] - 63s 3ms/step - loss: 0.7115 - val_loss: 0.7010\n",
            "Epoch 25/50\n",
            "24387/24387 [==============================] - 62s 3ms/step - loss: 0.7121 - val_loss: 0.7096\n",
            "Epoch 26/50\n",
            "24387/24387 [==============================] - 62s 3ms/step - loss: 0.7114 - val_loss: 0.7017\n",
            "Epoch 27/50\n",
            "24387/24387 [==============================] - 60s 2ms/step - loss: 0.7119 - val_loss: 0.7007\n",
            "Epoch 28/50\n",
            "24387/24387 [==============================] - 60s 2ms/step - loss: 0.7119 - val_loss: 0.6988\n",
            "Epoch 29/50\n",
            "24387/24387 [==============================] - 60s 2ms/step - loss: 0.7114 - val_loss: 0.6986\n",
            "Epoch 30/50\n",
            "24387/24387 [==============================] - 60s 2ms/step - loss: 0.7119 - val_loss: 0.6976\n",
            "Epoch 31/50\n",
            "24387/24387 [==============================] - 59s 2ms/step - loss: 0.7117 - val_loss: 0.6977\n",
            "Epoch 32/50\n",
            "24387/24387 [==============================] - 60s 2ms/step - loss: 0.7126 - val_loss: 0.7020\n",
            "Epoch 33/50\n",
            "24387/24387 [==============================] - 60s 2ms/step - loss: 0.7122 - val_loss: 0.7129\n",
            "Epoch 34/50\n",
            "24387/24387 [==============================] - 59s 2ms/step - loss: 0.7115 - val_loss: 0.7012\n",
            "Epoch 35/50\n",
            "24387/24387 [==============================] - 58s 2ms/step - loss: 0.7121 - val_loss: 0.6993\n",
            "Epoch 36/50\n",
            "24387/24387 [==============================] - 59s 2ms/step - loss: 0.7118 - val_loss: 0.6983\n",
            "Epoch 37/50\n",
            "24387/24387 [==============================] - 58s 2ms/step - loss: 0.7115 - val_loss: 0.7071\n",
            "Epoch 38/50\n",
            "24387/24387 [==============================] - 59s 2ms/step - loss: 0.7116 - val_loss: 0.7000\n",
            "Epoch 39/50\n",
            "24387/24387 [==============================] - 58s 2ms/step - loss: 0.7116 - val_loss: 0.6972\n",
            "Epoch 40/50\n",
            "24387/24387 [==============================] - 59s 2ms/step - loss: 0.7117 - val_loss: 0.7075\n",
            "Epoch 41/50\n",
            "24387/24387 [==============================] - 59s 2ms/step - loss: 0.7123 - val_loss: 0.7054\n",
            "Epoch 42/50\n",
            "24387/24387 [==============================] - 59s 2ms/step - loss: 0.7122 - val_loss: 0.6996\n",
            "Epoch 43/50\n",
            "24387/24387 [==============================] - 59s 2ms/step - loss: 0.7116 - val_loss: 0.7098\n",
            "Epoch 44/50\n",
            "24387/24387 [==============================] - 58s 2ms/step - loss: 0.7118 - val_loss: 0.7014\n",
            "Epoch 45/50\n",
            "24387/24387 [==============================] - 59s 2ms/step - loss: 0.7112 - val_loss: 0.7042\n",
            "Epoch 46/50\n",
            "24387/24387 [==============================] - 59s 2ms/step - loss: 0.7114 - val_loss: 0.6982\n",
            "Epoch 47/50\n",
            "24387/24387 [==============================] - 59s 2ms/step - loss: 0.7115 - val_loss: 0.7003\n",
            "Epoch 48/50\n",
            "24387/24387 [==============================] - 59s 2ms/step - loss: 0.7129 - val_loss: 0.7022\n",
            "Epoch 49/50\n",
            "24387/24387 [==============================] - 59s 2ms/step - loss: 0.7113 - val_loss: 0.6989\n",
            "Epoch 50/50\n",
            "24387/24387 [==============================] - 59s 2ms/step - loss: 0.7109 - val_loss: 0.6994\n"
          ],
          "name": "stdout"
        }
      ]
    },
    {
      "cell_type": "code",
      "metadata": {
        "id": "Uq4rBeNfNU7-"
      },
      "source": [
        "# 학습 결과 그래프 출력\n",
        "def modelplot(history, data, val_data):\n",
        "  plt.plot(history.history[data])\n",
        "  plt.plot(history.history[val_data])\n",
        "  plt.title('Model'+ data)\n",
        "  plt.ylabel(data)\n",
        "  plt.xlabel('epoch')\n",
        "  plt.legend(['train', 'test'])\n",
        "  plt.show()"
      ],
      "execution_count": 70,
      "outputs": []
    },
    {
      "cell_type": "code",
      "metadata": {
        "colab": {
          "base_uri": "https://localhost:8080/",
          "height": 295
        },
        "id": "oJQniUQ8NV3u",
        "outputId": "3c204944-3a74-4b51-c893-a9ef45567502"
      },
      "source": [
        "# 학습 데이터 손실, 테스트 데이터 손실 출력\n",
        "modelplot(hist, 'loss', 'val_loss')"
      ],
      "execution_count": 71,
      "outputs": [
        {
          "output_type": "display_data",
          "data": {
            "image/png": "[encoded data removed]",
            "text/plain": [
              "<Figure size 432x288 with 1 Axes>"
            ]
          },
          "metadata": {
            "tags": [],
            "needs_background": "light"
          }
        }
      ]
    },
    {
      "cell_type": "code",
      "metadata": {
        "colab": {
          "base_uri": "https://localhost:8080/",
          "height": 386
        },
        "id": "8rcrt_QJNYLk",
        "outputId": "789524a9-d9d8-4b15-d195-8a8c3fd0a0b0"
      },
      "source": [
        "# 테스트 데이터를 모델에 대입하여 RMSE, MSE, MAE 출력\n",
        "y_pred = model.predict(x_test)\n",
        "\n",
        "y_pred_orig = scaler_y.inverse_transform(y_pred)\n",
        "y_test_orig = scaler_y.inverse_transform(y_test)\n",
        "\n",
        "from sklearn.metrics import mean_squared_error, mean_absolute_error\n",
        "\n",
        "RMSE = float(format(np.sqrt(mean_squared_error(y_test_orig, y_pred_orig)),'.3f'))\n",
        "MSE = mean_squared_error(y_test_orig, y_pred_orig)\n",
        "MAE = mean_absolute_error(y_test_orig, y_pred_orig)\n",
        "\n",
        "print('RMSE =',RMSE, \n",
        "      '\\nMSE =',MSE, \n",
        "      '\\nMAE =',MAE)"
      ],
      "execution_count": 72,
      "outputs": [
        {
          "output_type": "error",
          "ename": "NotFittedError",
          "evalue": "ignored",
          "traceback": [
            "\u001b[0;31m---------------------------------------------------------------------------\u001b[0m",
            "\u001b[0;31mNotFittedError\u001b[0m                            Traceback (most recent call last)",
            "\u001b[0;32m<ipython-input-72-07c5af408746>\u001b[0m in \u001b[0;36m<module>\u001b[0;34m()\u001b[0m\n\u001b[1;32m      2\u001b[0m \u001b[0my_pred\u001b[0m \u001b[0;34m=\u001b[0m \u001b[0mmodel\u001b[0m\u001b[0;34m.\u001b[0m\u001b[0mpredict\u001b[0m\u001b[0;34m(\u001b[0m\u001b[0mx_test\u001b[0m\u001b[0;34m)\u001b[0m\u001b[0;34m\u001b[0m\u001b[0;34m\u001b[0m\u001b[0m\n\u001b[1;32m      3\u001b[0m \u001b[0;34m\u001b[0m\u001b[0m\n\u001b[0;32m----> 4\u001b[0;31m \u001b[0my_pred_orig\u001b[0m \u001b[0;34m=\u001b[0m \u001b[0mscaler_y\u001b[0m\u001b[0;34m.\u001b[0m\u001b[0minverse_transform\u001b[0m\u001b[0;34m(\u001b[0m\u001b[0my_pred\u001b[0m\u001b[0;34m)\u001b[0m\u001b[0;34m\u001b[0m\u001b[0;34m\u001b[0m\u001b[0m\n\u001b[0m\u001b[1;32m      5\u001b[0m \u001b[0my_test_orig\u001b[0m \u001b[0;34m=\u001b[0m \u001b[0mscaler_y\u001b[0m\u001b[0;34m.\u001b[0m\u001b[0minverse_transform\u001b[0m\u001b[0;34m(\u001b[0m\u001b[0my_test\u001b[0m\u001b[0;34m)\u001b[0m\u001b[0;34m\u001b[0m\u001b[0;34m\u001b[0m\u001b[0m\n\u001b[1;32m      6\u001b[0m \u001b[0;34m\u001b[0m\u001b[0m\n",
            "\u001b[0;32m/usr/local/lib/python3.7/dist-packages/sklearn/preprocessing/_data.py\u001b[0m in \u001b[0;36minverse_transform\u001b[0;34m(self, X, copy)\u001b[0m\n\u001b[1;32m    824\u001b[0m             \u001b[0mTransformed\u001b[0m \u001b[0marray\u001b[0m\u001b[0;34m.\u001b[0m\u001b[0;34m\u001b[0m\u001b[0;34m\u001b[0m\u001b[0m\n\u001b[1;32m    825\u001b[0m         \"\"\"\n\u001b[0;32m--> 826\u001b[0;31m         \u001b[0mcheck_is_fitted\u001b[0m\u001b[0;34m(\u001b[0m\u001b[0mself\u001b[0m\u001b[0;34m)\u001b[0m\u001b[0;34m\u001b[0m\u001b[0;34m\u001b[0m\u001b[0m\n\u001b[0m\u001b[1;32m    827\u001b[0m \u001b[0;34m\u001b[0m\u001b[0m\n\u001b[1;32m    828\u001b[0m         \u001b[0mcopy\u001b[0m \u001b[0;34m=\u001b[0m \u001b[0mcopy\u001b[0m \u001b[0;32mif\u001b[0m \u001b[0mcopy\u001b[0m \u001b[0;32mis\u001b[0m \u001b[0;32mnot\u001b[0m \u001b[0;32mNone\u001b[0m \u001b[0;32melse\u001b[0m \u001b[0mself\u001b[0m\u001b[0;34m.\u001b[0m\u001b[0mcopy\u001b[0m\u001b[0;34m\u001b[0m\u001b[0;34m\u001b[0m\u001b[0m\n",
            "\u001b[0;32m/usr/local/lib/python3.7/dist-packages/sklearn/utils/validation.py\u001b[0m in \u001b[0;36mcheck_is_fitted\u001b[0;34m(estimator, attributes, msg, all_or_any)\u001b[0m\n\u001b[1;32m    965\u001b[0m \u001b[0;34m\u001b[0m\u001b[0m\n\u001b[1;32m    966\u001b[0m     \u001b[0;32mif\u001b[0m \u001b[0;32mnot\u001b[0m \u001b[0mattrs\u001b[0m\u001b[0;34m:\u001b[0m\u001b[0;34m\u001b[0m\u001b[0;34m\u001b[0m\u001b[0m\n\u001b[0;32m--> 967\u001b[0;31m         \u001b[0;32mraise\u001b[0m \u001b[0mNotFittedError\u001b[0m\u001b[0;34m(\u001b[0m\u001b[0mmsg\u001b[0m \u001b[0;34m%\u001b[0m \u001b[0;34m{\u001b[0m\u001b[0;34m'name'\u001b[0m\u001b[0;34m:\u001b[0m \u001b[0mtype\u001b[0m\u001b[0;34m(\u001b[0m\u001b[0mestimator\u001b[0m\u001b[0;34m)\u001b[0m\u001b[0;34m.\u001b[0m\u001b[0m__name__\u001b[0m\u001b[0;34m}\u001b[0m\u001b[0;34m)\u001b[0m\u001b[0;34m\u001b[0m\u001b[0;34m\u001b[0m\u001b[0m\n\u001b[0m\u001b[1;32m    968\u001b[0m \u001b[0;34m\u001b[0m\u001b[0m\n\u001b[1;32m    969\u001b[0m \u001b[0;34m\u001b[0m\u001b[0m\n",
            "\u001b[0;31mNotFittedError\u001b[0m: This StandardScaler instance is not fitted yet. Call 'fit' with appropriate arguments before using this estimator."
          ]
        }
      ]
    },
    {
      "cell_type": "markdown",
      "metadata": {
        "id": "fYC3tXLE4v94"
      },
      "source": [
        "## 6.머신러닝 모델과 비교\n",
        "- 머신러닝 모델로는 RandomForestRegressor를 사용\n",
        "- GridSearch(그리드서치)\n",
        "  - 관심 있는 매개변수들을 대상으로 가능한 모든 조합을 시도하여 최적의 매개변수를 찾는 방법\n",
        "  - 매개변수를 튜닝하여 일반화 성능을 개선해줌"
      ]
    },
    {
      "cell_type": "code",
      "metadata": {
        "id": "1E2tnwAgoiyV"
      },
      "source": [
        "from sklearn.model_selection import GridSearchCV\n",
        "from sklearn.ensemble import RandomForestRegressor\n",
        "\n",
        "# 파라미터 그리드 생성 \n",
        "param_grid = {\n",
        "    'bootstrap': [True],              # 학습셋 중 무작위로 중복 허용하여 데이터 선택\n",
        "    'max_depth': [4, 5, 6, 7],        # 트리 최대 깊이\n",
        "    'max_features': [2, 3, 4],        # 트리 학습에 사용할 최대 피처 수\n",
        "    'min_samples_leaf': [2, 3, 4],    # 최소 샘플 리프 수\n",
        "    'min_samples_split': [3, 4, 5],   # 최소 분할 샘플 수\n",
        "    'n_estimators': [10, 30, 50, 100] # 생성할 트리의 개수\n",
        "}\n",
        "\n",
        "# 베이스 모델 정의\n",
        "rf = \n",
        "\n",
        "# 그리드 서치 모델 인스턴스화\n",
        "grid_search_rf = GridSearchCV(estimator = rf, param_grid = param_grid, \n",
        "                          cv = 5, n_jobs = -1, verbose = 4)"
      ],
      "execution_count": null,
      "outputs": []
    },
    {
      "cell_type": "code",
      "metadata": {
        "id": "8VP5CjaMoDSW"
      },
      "source": [
        "# 그리드 서치 모델 학습\n",
        "\n",
        "\n",
        "# 최적 파라미터 출력\n"
      ],
      "execution_count": null,
      "outputs": []
    },
    {
      "cell_type": "code",
      "metadata": {
        "id": "xICqC98joDK7"
      },
      "source": [
        "# 테스트 데이터를 모델에 대입하여 RMSE, MSE, MAE 출력\n",
        "y_pred = grid_search_rf.predict(x_test)\n",
        "\n",
        "y_pred_orig = scaler_y.inverse_transform(y_pred)\n",
        "y_test_orig = scaler_y.inverse_transform(y_test)\n",
        "\n",
        "RMSE = float(format(np.sqrt(mean_squared_error(y_test_orig, y_pred_orig)),'.3f'))\n",
        "MSE = mean_squared_error(y_test_orig, y_pred_orig)\n",
        "MAE = mean_absolute_error(y_test_orig, y_pred_orig)\n",
        "\n",
        "print('RMSE =',RMSE, \n",
        "      '\\nMSE =',MSE, \n",
        "      '\\nMAE =',MAE)"
      ],
      "execution_count": null,
      "outputs": []
    },
    {
      "cell_type": "code",
      "metadata": {
        "id": "Xdf1msv95cuD"
      },
      "source": [
        ""
      ],
      "execution_count": null,
      "outputs": []
    }
  ]
}