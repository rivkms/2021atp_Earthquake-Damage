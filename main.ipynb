{
  "nbformat": 4,
  "nbformat_minor": 0,
  "metadata": {
    "accelerator": "TPU",
    "colab": {
      "name": "main.ipynb",
      "provenance": [],
      "collapsed_sections": [],
      "include_colab_link": true
    },
    "kernelspec": {
      "display_name": "Python 3",
      "language": "python",
      "name": "python3"
    },
    "language_info": {
      "codemirror_mode": {
        "name": "ipython",
        "version": 3
      },
      "file_extension": ".py",
      "mimetype": "text/x-python",
      "name": "python",
      "nbconvert_exporter": "python",
      "pygments_lexer": "ipython3",
      "version": "3.7.6"
    }
  },
  "cells": [
    {
      "cell_type": "markdown",
      "metadata": {
        "id": "view-in-github",
        "colab_type": "text"
      },
      "source": [
        "<a href=\"https://colab.research.google.com/github/rivkms/atp_ai/blob/main/main.ipynb\" target=\"_parent\"><img src=\"https://colab.research.google.com/assets/colab-badge.svg\" alt=\"Open In Colab\"/></a>"
      ]
    },
    {
      "cell_type": "code",
      "metadata": {
        "id": "nx3oOqhf4JAu"
      },
      "source": [
        "#github에서 프로젝트 파일 가져오기"
      ],
      "execution_count": null,
      "outputs": []
    },
    {
      "cell_type": "code",
      "metadata": {
        "id": "pRQNGuVCEeZ9"
      },
      "source": [
        "import os\n",
        "import shutil\n",
        "if(os.path.isdir(\"atp_ai\")):\n",
        "    shutil.rmtree(\"atp_ai\")"
      ],
      "execution_count": 51,
      "outputs": []
    },
    {
      "cell_type": "code",
      "metadata": {
        "colab": {
          "base_uri": "https://localhost:8080/"
        },
        "id": "Jmz26cOWC2DH",
        "outputId": "60195db8-9c38-44db-fdf2-02bce19a3b0e"
      },
      "source": [
        "!git clone \"https://github.com/rivkms/atp_ai\""
      ],
      "execution_count": 52,
      "outputs": [
        {
          "output_type": "stream",
          "text": [
            "Cloning into 'atp_ai'...\n",
            "remote: Enumerating objects: 68, done.\u001b[K\n",
            "remote: Counting objects: 100% (68/68), done.\u001b[K\n",
            "remote: Compressing objects: 100% (67/67), done.\u001b[K\n",
            "remote: Total 68 (delta 35), reused 0 (delta 0), pack-reused 0\u001b[K\n",
            "Unpacking objects: 100% (68/68), done.\n"
          ],
          "name": "stdout"
        }
      ]
    },
    {
      "cell_type": "code",
      "metadata": {
        "id": "RI9fKr0_QqJ7"
      },
      "source": [
        "# kaggle.json 파일을 적절한 디렉토리로 이동\n",
        "!mkdir -p ~/.kaggle\n",
        "!cp atp_ai/kaggle.json ~/.kaggle/\n",
        "\n",
        "# Permission Warning 이 일어나지 않도록 함 \n",
        "!chmod 600 ~/.kaggle/kaggle.json"
      ],
      "execution_count": 53,
      "outputs": []
    },
    {
      "cell_type": "code",
      "metadata": {
        "colab": {
          "base_uri": "https://localhost:8080/"
        },
        "id": "Bt6GLD6zQ9z4",
        "outputId": "bad538b6-5a82-43bb-9cb7-846ee512a72f"
      },
      "source": [
        "# earthquake-magnitude-damage-and-impact 데이터셋 다운로드\n",
        "!kaggle datasets download -d arashnic/earthquake-magnitude-damage-and-impact"
      ],
      "execution_count": 54,
      "outputs": [
        {
          "output_type": "stream",
          "text": [
            "earthquake-magnitude-damage-and-impact.zip: Skipping, found more recently modified local copy (use --force to force download)\n"
          ],
          "name": "stdout"
        }
      ]
    },
    {
      "cell_type": "code",
      "metadata": {
        "colab": {
          "base_uri": "https://localhost:8080/"
        },
        "id": "GeT_MQGiQ97x",
        "scrolled": true,
        "outputId": "4b47af3f-b3b3-4503-be92-239117bd1337"
      },
      "source": [
        "# zip파일 압축 해제 후 현재 디렉토리의 파일 리스트 보기\n",
        "!unzip earthquake-magnitude-damage-and-impact.zip\n",
        "!ls"
      ],
      "execution_count": 55,
      "outputs": [
        {
          "output_type": "stream",
          "text": [
            "Archive:  earthquake-magnitude-damage-and-impact.zip\n",
            "replace csv_building_damage_assessment.csv? [y]es, [n]o, [A]ll, [N]one, [r]ename: y\n",
            "  inflating: csv_building_damage_assessment.csv  y\n",
            "y\n",
            "y\n",
            "y\n",
            "y\n",
            "\n",
            "replace csv_building_ownership_and_use.csv? [y]es, [n]o, [A]ll, [N]one, [r]ename:   inflating: csv_building_ownership_and_use.csv  y\n",
            "y\n",
            "\n",
            "replace csv_building_structure.csv? [y]es, [n]o, [A]ll, [N]one, [r]ename:   inflating: csv_building_structure.csv  y\n",
            "y\n",
            "y\n",
            "\n",
            "replace csv_household_demographics.csv? [y]es, [n]o, [A]ll, [N]one, [r]ename:   inflating: csv_household_demographics.csv  \n",
            "replace csv_household_earthquake_impact.csv? [y]es, [n]o, [A]ll, [N]one, [r]ename:   inflating: csv_household_earthquake_impact.csv  \n",
            "replace csv_household_resources.csv? [y]es, [n]o, [A]ll, [N]one, [r]ename:   inflating: csv_household_resources.csv  \n",
            "replace csv_individual_demographics.csv? [y]es, [n]o, [A]ll, [N]one, [r]ename:   inflating: csv_individual_demographics.csv  \n",
            "replace mapping.csv? [y]es, [n]o, [A]ll, [N]one, [r]ename:   inflating: mapping.csv             \n",
            "replace ward_vdcmun_district_name_mapping.csv? [y]es, [n]o, [A]ll, [N]one, [r]ename:   inflating: ward_vdcmun_district_name_mapping.csv  \n",
            "atp_ai\t\t\t\t     csv_household_resources.csv\n",
            "csv_building_damage_assessment.csv   csv_individual_demographics.csv\n",
            "csv_building_ownership_and_use.csv   earthquake-magnitude-damage-and-impact.zip\n",
            "csv_building_structure.csv\t     mapping.csv\n",
            "csv_household_demographics.csv\t     sample_data\n",
            "csv_household_earthquake_impact.csv  ward_vdcmun_district_name_mapping.csv\n"
          ],
          "name": "stdout"
        }
      ]
    },
    {
      "cell_type": "code",
      "metadata": {
        "id": "4oyiOB4X4JA6"
      },
      "source": [
        "#데이터 불러오기"
      ],
      "execution_count": 56,
      "outputs": []
    },
    {
      "cell_type": "code",
      "metadata": {
        "colab": {
          "base_uri": "https://localhost:8080/",
          "height": 309
        },
        "id": "jraU2zzWRFoN",
        "outputId": "8927310f-9aba-441d-eef3-635a26ac97cb"
      },
      "source": [
        "import numpy as np\n",
        "import pandas as pd\n",
        "\n",
        "# csv 파일을 pandas dataframe으로 읽기\n",
        "#data = pd.read_csv('./dataset/csv_building_structure.csv')\n",
        "data = pd.read_csv('/content/csv_building_structure.csv')\n",
        "# 상위 5개 행 출력\n",
        "data.head()"
      ],
      "execution_count": 57,
      "outputs": [
        {
          "output_type": "execute_result",
          "data": {
            "text/html": [
              "<div>\n",
              "<style scoped>\n",
              "    .dataframe tbody tr th:only-of-type {\n",
              "        vertical-align: middle;\n",
              "    }\n",
              "\n",
              "    .dataframe tbody tr th {\n",
              "        vertical-align: top;\n",
              "    }\n",
              "\n",
              "    .dataframe thead th {\n",
              "        text-align: right;\n",
              "    }\n",
              "</style>\n",
              "<table border=\"1\" class=\"dataframe\">\n",
              "  <thead>\n",
              "    <tr style=\"text-align: right;\">\n",
              "      <th></th>\n",
              "      <th>building_id</th>\n",
              "      <th>district_id</th>\n",
              "      <th>vdcmun_id</th>\n",
              "      <th>ward_id</th>\n",
              "      <th>count_floors_pre_eq</th>\n",
              "      <th>count_floors_post_eq</th>\n",
              "      <th>age_building</th>\n",
              "      <th>plinth_area_sq_ft</th>\n",
              "      <th>height_ft_pre_eq</th>\n",
              "      <th>height_ft_post_eq</th>\n",
              "      <th>land_surface_condition</th>\n",
              "      <th>foundation_type</th>\n",
              "      <th>roof_type</th>\n",
              "      <th>ground_floor_type</th>\n",
              "      <th>other_floor_type</th>\n",
              "      <th>position</th>\n",
              "      <th>plan_configuration</th>\n",
              "      <th>has_superstructure_adobe_mud</th>\n",
              "      <th>has_superstructure_mud_mortar_stone</th>\n",
              "      <th>has_superstructure_stone_flag</th>\n",
              "      <th>has_superstructure_cement_mortar_stone</th>\n",
              "      <th>has_superstructure_mud_mortar_brick</th>\n",
              "      <th>has_superstructure_cement_mortar_brick</th>\n",
              "      <th>has_superstructure_timber</th>\n",
              "      <th>has_superstructure_bamboo</th>\n",
              "      <th>has_superstructure_rc_non_engineered</th>\n",
              "      <th>has_superstructure_rc_engineered</th>\n",
              "      <th>has_superstructure_other</th>\n",
              "      <th>condition_post_eq</th>\n",
              "      <th>damage_grade</th>\n",
              "      <th>technical_solution_proposed</th>\n",
              "    </tr>\n",
              "  </thead>\n",
              "  <tbody>\n",
              "    <tr>\n",
              "      <th>0</th>\n",
              "      <td>120101000011</td>\n",
              "      <td>12</td>\n",
              "      <td>1207</td>\n",
              "      <td>120703</td>\n",
              "      <td>1</td>\n",
              "      <td>1</td>\n",
              "      <td>9</td>\n",
              "      <td>288</td>\n",
              "      <td>9</td>\n",
              "      <td>9</td>\n",
              "      <td>Flat</td>\n",
              "      <td>Other</td>\n",
              "      <td>Bamboo/Timber-Light roof</td>\n",
              "      <td>Mud</td>\n",
              "      <td>Not applicable</td>\n",
              "      <td>Not attached</td>\n",
              "      <td>Rectangular</td>\n",
              "      <td>0</td>\n",
              "      <td>1</td>\n",
              "      <td>0</td>\n",
              "      <td>0</td>\n",
              "      <td>0</td>\n",
              "      <td>0</td>\n",
              "      <td>0</td>\n",
              "      <td>1</td>\n",
              "      <td>0</td>\n",
              "      <td>0</td>\n",
              "      <td>0</td>\n",
              "      <td>Damaged-Used in risk</td>\n",
              "      <td>Grade 3</td>\n",
              "      <td>Major repair</td>\n",
              "    </tr>\n",
              "    <tr>\n",
              "      <th>1</th>\n",
              "      <td>120101000021</td>\n",
              "      <td>12</td>\n",
              "      <td>1207</td>\n",
              "      <td>120703</td>\n",
              "      <td>1</td>\n",
              "      <td>1</td>\n",
              "      <td>15</td>\n",
              "      <td>364</td>\n",
              "      <td>9</td>\n",
              "      <td>9</td>\n",
              "      <td>Flat</td>\n",
              "      <td>Other</td>\n",
              "      <td>Bamboo/Timber-Light roof</td>\n",
              "      <td>Mud</td>\n",
              "      <td>Not applicable</td>\n",
              "      <td>Not attached</td>\n",
              "      <td>Rectangular</td>\n",
              "      <td>0</td>\n",
              "      <td>1</td>\n",
              "      <td>0</td>\n",
              "      <td>0</td>\n",
              "      <td>0</td>\n",
              "      <td>0</td>\n",
              "      <td>0</td>\n",
              "      <td>1</td>\n",
              "      <td>0</td>\n",
              "      <td>0</td>\n",
              "      <td>0</td>\n",
              "      <td>Damaged-Repaired and used</td>\n",
              "      <td>Grade 5</td>\n",
              "      <td>Reconstruction</td>\n",
              "    </tr>\n",
              "    <tr>\n",
              "      <th>2</th>\n",
              "      <td>120101000031</td>\n",
              "      <td>12</td>\n",
              "      <td>1207</td>\n",
              "      <td>120703</td>\n",
              "      <td>1</td>\n",
              "      <td>1</td>\n",
              "      <td>20</td>\n",
              "      <td>384</td>\n",
              "      <td>9</td>\n",
              "      <td>9</td>\n",
              "      <td>Flat</td>\n",
              "      <td>Other</td>\n",
              "      <td>Bamboo/Timber-Light roof</td>\n",
              "      <td>Mud</td>\n",
              "      <td>Not applicable</td>\n",
              "      <td>Not attached</td>\n",
              "      <td>Rectangular</td>\n",
              "      <td>0</td>\n",
              "      <td>1</td>\n",
              "      <td>0</td>\n",
              "      <td>0</td>\n",
              "      <td>0</td>\n",
              "      <td>0</td>\n",
              "      <td>0</td>\n",
              "      <td>0</td>\n",
              "      <td>0</td>\n",
              "      <td>0</td>\n",
              "      <td>0</td>\n",
              "      <td>Damaged-Repaired and used</td>\n",
              "      <td>Grade 2</td>\n",
              "      <td>Minor repair</td>\n",
              "    </tr>\n",
              "    <tr>\n",
              "      <th>3</th>\n",
              "      <td>120101000041</td>\n",
              "      <td>12</td>\n",
              "      <td>1207</td>\n",
              "      <td>120703</td>\n",
              "      <td>1</td>\n",
              "      <td>1</td>\n",
              "      <td>20</td>\n",
              "      <td>312</td>\n",
              "      <td>9</td>\n",
              "      <td>9</td>\n",
              "      <td>Flat</td>\n",
              "      <td>Other</td>\n",
              "      <td>Bamboo/Timber-Light roof</td>\n",
              "      <td>Mud</td>\n",
              "      <td>Not applicable</td>\n",
              "      <td>Not attached</td>\n",
              "      <td>Rectangular</td>\n",
              "      <td>0</td>\n",
              "      <td>1</td>\n",
              "      <td>0</td>\n",
              "      <td>0</td>\n",
              "      <td>0</td>\n",
              "      <td>0</td>\n",
              "      <td>0</td>\n",
              "      <td>0</td>\n",
              "      <td>0</td>\n",
              "      <td>0</td>\n",
              "      <td>0</td>\n",
              "      <td>Damaged-Repaired and used</td>\n",
              "      <td>Grade 2</td>\n",
              "      <td>Minor repair</td>\n",
              "    </tr>\n",
              "    <tr>\n",
              "      <th>4</th>\n",
              "      <td>120101000051</td>\n",
              "      <td>12</td>\n",
              "      <td>1207</td>\n",
              "      <td>120703</td>\n",
              "      <td>1</td>\n",
              "      <td>1</td>\n",
              "      <td>30</td>\n",
              "      <td>308</td>\n",
              "      <td>9</td>\n",
              "      <td>9</td>\n",
              "      <td>Flat</td>\n",
              "      <td>Other</td>\n",
              "      <td>Bamboo/Timber-Light roof</td>\n",
              "      <td>Mud</td>\n",
              "      <td>Not applicable</td>\n",
              "      <td>Not attached</td>\n",
              "      <td>Rectangular</td>\n",
              "      <td>0</td>\n",
              "      <td>1</td>\n",
              "      <td>0</td>\n",
              "      <td>0</td>\n",
              "      <td>0</td>\n",
              "      <td>0</td>\n",
              "      <td>0</td>\n",
              "      <td>0</td>\n",
              "      <td>0</td>\n",
              "      <td>0</td>\n",
              "      <td>0</td>\n",
              "      <td>Damaged-Repaired and used</td>\n",
              "      <td>Grade 1</td>\n",
              "      <td>Minor repair</td>\n",
              "    </tr>\n",
              "  </tbody>\n",
              "</table>\n",
              "</div>"
            ],
            "text/plain": [
              "    building_id  district_id  ...  damage_grade  technical_solution_proposed\n",
              "0  120101000011           12  ...       Grade 3                 Major repair\n",
              "1  120101000021           12  ...       Grade 5               Reconstruction\n",
              "2  120101000031           12  ...       Grade 2                 Minor repair\n",
              "3  120101000041           12  ...       Grade 2                 Minor repair\n",
              "4  120101000051           12  ...       Grade 1                 Minor repair\n",
              "\n",
              "[5 rows x 31 columns]"
            ]
          },
          "metadata": {
            "tags": []
          },
          "execution_count": 57
        }
      ]
    },
    {
      "cell_type": "code",
      "metadata": {
        "id": "NQ-OTqL64JA9"
      },
      "source": [
        "#데이터 전처리 시작"
      ],
      "execution_count": null,
      "outputs": []
    },
    {
      "cell_type": "code",
      "metadata": {
        "id": "jva1sAG8TI-x"
      },
      "source": [
        "del1 = ['building_id', 'district_id', 'vdcmun_id', 'ward_id', 'count_floors_pre_eq', 'count_floors_post_eq', 'height_ft_post_eq']\n",
        "del2 = ['roof_type', 'plan_configuration', 'has_superstructure_adobe_mud', 'has_superstructure_mud_mortar_stone', 'has_superstructure_stone_flag']\n",
        "del3 = ['has_superstructure_cement_mortar_stone', 'has_superstructure_mud_mortar_brick', 'has_superstructure_cement_mortar_brick', 'has_superstructure_timber', 'has_superstructure_bamboo']\n",
        "del4 = ['has_superstructure_rc_non_engineered', 'has_superstructure_rc_engineered', 'has_superstructure_other', 'condition_post_eq', 'technical_solution_proposed']"
      ],
      "execution_count": 58,
      "outputs": []
    },
    {
      "cell_type": "code",
      "metadata": {
        "colab": {
          "base_uri": "https://localhost:8080/"
        },
        "id": "cYcawHnFZrjZ",
        "outputId": "e1b6be7b-86eb-4232-e56e-ccaf1385daeb"
      },
      "source": [
        "data.info()"
      ],
      "execution_count": 59,
      "outputs": [
        {
          "output_type": "stream",
          "text": [
            "<class 'pandas.core.frame.DataFrame'>\n",
            "RangeIndex: 762106 entries, 0 to 762105\n",
            "Data columns (total 31 columns):\n",
            " #   Column                                  Non-Null Count   Dtype \n",
            "---  ------                                  --------------   ----- \n",
            " 0   building_id                             762106 non-null  int64 \n",
            " 1   district_id                             762106 non-null  int64 \n",
            " 2   vdcmun_id                               762106 non-null  int64 \n",
            " 3   ward_id                                 762106 non-null  int64 \n",
            " 4   count_floors_pre_eq                     762106 non-null  int64 \n",
            " 5   count_floors_post_eq                    762106 non-null  int64 \n",
            " 6   age_building                            762106 non-null  int64 \n",
            " 7   plinth_area_sq_ft                       762106 non-null  int64 \n",
            " 8   height_ft_pre_eq                        762106 non-null  int64 \n",
            " 9   height_ft_post_eq                       762106 non-null  int64 \n",
            " 10  land_surface_condition                  762106 non-null  object\n",
            " 11  foundation_type                         762106 non-null  object\n",
            " 12  roof_type                               762106 non-null  object\n",
            " 13  ground_floor_type                       762106 non-null  object\n",
            " 14  other_floor_type                        762106 non-null  object\n",
            " 15  position                                762105 non-null  object\n",
            " 16  plan_configuration                      762105 non-null  object\n",
            " 17  has_superstructure_adobe_mud            762106 non-null  int64 \n",
            " 18  has_superstructure_mud_mortar_stone     762106 non-null  int64 \n",
            " 19  has_superstructure_stone_flag           762106 non-null  int64 \n",
            " 20  has_superstructure_cement_mortar_stone  762106 non-null  int64 \n",
            " 21  has_superstructure_mud_mortar_brick     762106 non-null  int64 \n",
            " 22  has_superstructure_cement_mortar_brick  762106 non-null  int64 \n",
            " 23  has_superstructure_timber               762106 non-null  int64 \n",
            " 24  has_superstructure_bamboo               762106 non-null  int64 \n",
            " 25  has_superstructure_rc_non_engineered    762106 non-null  int64 \n",
            " 26  has_superstructure_rc_engineered        762106 non-null  int64 \n",
            " 27  has_superstructure_other                762106 non-null  int64 \n",
            " 28  condition_post_eq                       762106 non-null  object\n",
            " 29  damage_grade                            762094 non-null  object\n",
            " 30  technical_solution_proposed             762094 non-null  object\n",
            "dtypes: int64(21), object(10)\n",
            "memory usage: 180.2+ MB\n"
          ],
          "name": "stdout"
        }
      ]
    },
    {
      "cell_type": "code",
      "metadata": {
        "colab": {
          "base_uri": "https://localhost:8080/",
          "height": 204
        },
        "id": "55R91zLsaC6H",
        "outputId": "754e0976-e45d-427a-9bd0-d6c081ba9449"
      },
      "source": [
        "for n in del1:\n",
        "  data.drop(n, axis=1, inplace = True)\n",
        "for n in del2:\n",
        "  data.drop(n, axis=1, inplace = True)\n",
        "for n in del3:\n",
        "  data.drop(n, axis=1, inplace = True)\n",
        "for n in del4:\n",
        "  data.drop(n, axis=1, inplace = True)\n",
        "data.head()"
      ],
      "execution_count": 60,
      "outputs": [
        {
          "output_type": "execute_result",
          "data": {
            "text/html": [
              "<div>\n",
              "<style scoped>\n",
              "    .dataframe tbody tr th:only-of-type {\n",
              "        vertical-align: middle;\n",
              "    }\n",
              "\n",
              "    .dataframe tbody tr th {\n",
              "        vertical-align: top;\n",
              "    }\n",
              "\n",
              "    .dataframe thead th {\n",
              "        text-align: right;\n",
              "    }\n",
              "</style>\n",
              "<table border=\"1\" class=\"dataframe\">\n",
              "  <thead>\n",
              "    <tr style=\"text-align: right;\">\n",
              "      <th></th>\n",
              "      <th>age_building</th>\n",
              "      <th>plinth_area_sq_ft</th>\n",
              "      <th>height_ft_pre_eq</th>\n",
              "      <th>land_surface_condition</th>\n",
              "      <th>foundation_type</th>\n",
              "      <th>ground_floor_type</th>\n",
              "      <th>other_floor_type</th>\n",
              "      <th>position</th>\n",
              "      <th>damage_grade</th>\n",
              "    </tr>\n",
              "  </thead>\n",
              "  <tbody>\n",
              "    <tr>\n",
              "      <th>0</th>\n",
              "      <td>9</td>\n",
              "      <td>288</td>\n",
              "      <td>9</td>\n",
              "      <td>Flat</td>\n",
              "      <td>Other</td>\n",
              "      <td>Mud</td>\n",
              "      <td>Not applicable</td>\n",
              "      <td>Not attached</td>\n",
              "      <td>Grade 3</td>\n",
              "    </tr>\n",
              "    <tr>\n",
              "      <th>1</th>\n",
              "      <td>15</td>\n",
              "      <td>364</td>\n",
              "      <td>9</td>\n",
              "      <td>Flat</td>\n",
              "      <td>Other</td>\n",
              "      <td>Mud</td>\n",
              "      <td>Not applicable</td>\n",
              "      <td>Not attached</td>\n",
              "      <td>Grade 5</td>\n",
              "    </tr>\n",
              "    <tr>\n",
              "      <th>2</th>\n",
              "      <td>20</td>\n",
              "      <td>384</td>\n",
              "      <td>9</td>\n",
              "      <td>Flat</td>\n",
              "      <td>Other</td>\n",
              "      <td>Mud</td>\n",
              "      <td>Not applicable</td>\n",
              "      <td>Not attached</td>\n",
              "      <td>Grade 2</td>\n",
              "    </tr>\n",
              "    <tr>\n",
              "      <th>3</th>\n",
              "      <td>20</td>\n",
              "      <td>312</td>\n",
              "      <td>9</td>\n",
              "      <td>Flat</td>\n",
              "      <td>Other</td>\n",
              "      <td>Mud</td>\n",
              "      <td>Not applicable</td>\n",
              "      <td>Not attached</td>\n",
              "      <td>Grade 2</td>\n",
              "    </tr>\n",
              "    <tr>\n",
              "      <th>4</th>\n",
              "      <td>30</td>\n",
              "      <td>308</td>\n",
              "      <td>9</td>\n",
              "      <td>Flat</td>\n",
              "      <td>Other</td>\n",
              "      <td>Mud</td>\n",
              "      <td>Not applicable</td>\n",
              "      <td>Not attached</td>\n",
              "      <td>Grade 1</td>\n",
              "    </tr>\n",
              "  </tbody>\n",
              "</table>\n",
              "</div>"
            ],
            "text/plain": [
              "   age_building  plinth_area_sq_ft  ...      position damage_grade\n",
              "0             9                288  ...  Not attached      Grade 3\n",
              "1            15                364  ...  Not attached      Grade 5\n",
              "2            20                384  ...  Not attached      Grade 2\n",
              "3            20                312  ...  Not attached      Grade 2\n",
              "4            30                308  ...  Not attached      Grade 1\n",
              "\n",
              "[5 rows x 9 columns]"
            ]
          },
          "metadata": {
            "tags": []
          },
          "execution_count": 60
        }
      ]
    },
    {
      "cell_type": "code",
      "metadata": {
        "colab": {
          "base_uri": "https://localhost:8080/"
        },
        "id": "DBZOYOk-cnKA",
        "outputId": "af1cbc80-1f5e-49c7-f453-7ed91a2fedac"
      },
      "source": [
        "data.info()"
      ],
      "execution_count": 61,
      "outputs": [
        {
          "output_type": "stream",
          "text": [
            "<class 'pandas.core.frame.DataFrame'>\n",
            "RangeIndex: 762106 entries, 0 to 762105\n",
            "Data columns (total 9 columns):\n",
            " #   Column                  Non-Null Count   Dtype \n",
            "---  ------                  --------------   ----- \n",
            " 0   age_building            762106 non-null  int64 \n",
            " 1   plinth_area_sq_ft       762106 non-null  int64 \n",
            " 2   height_ft_pre_eq        762106 non-null  int64 \n",
            " 3   land_surface_condition  762106 non-null  object\n",
            " 4   foundation_type         762106 non-null  object\n",
            " 5   ground_floor_type       762106 non-null  object\n",
            " 6   other_floor_type        762106 non-null  object\n",
            " 7   position                762105 non-null  object\n",
            " 8   damage_grade            762094 non-null  object\n",
            "dtypes: int64(3), object(6)\n",
            "memory usage: 52.3+ MB\n"
          ],
          "name": "stdout"
        }
      ]
    },
    {
      "cell_type": "code",
      "metadata": {
        "colab": {
          "base_uri": "https://localhost:8080/"
        },
        "id": "StgGzu7IeCPa",
        "outputId": "48624789-9ebc-429b-d11c-12837d70ca39"
      },
      "source": [
        "data.isna().sum()"
      ],
      "execution_count": 62,
      "outputs": [
        {
          "output_type": "execute_result",
          "data": {
            "text/plain": [
              "age_building               0\n",
              "plinth_area_sq_ft          0\n",
              "height_ft_pre_eq           0\n",
              "land_surface_condition     0\n",
              "foundation_type            0\n",
              "ground_floor_type          0\n",
              "other_floor_type           0\n",
              "position                   1\n",
              "damage_grade              12\n",
              "dtype: int64"
            ]
          },
          "metadata": {
            "tags": []
          },
          "execution_count": 62
        }
      ]
    },
    {
      "cell_type": "code",
      "metadata": {
        "colab": {
          "base_uri": "https://localhost:8080/"
        },
        "id": "uNEdMTxrekZh",
        "scrolled": true,
        "outputId": "3c599d09-1e66-4aed-b18f-56da4780397c"
      },
      "source": [
        "data1 = data.dropna()\n",
        "data1.isna().sum()"
      ],
      "execution_count": 63,
      "outputs": [
        {
          "output_type": "execute_result",
          "data": {
            "text/plain": [
              "age_building              0\n",
              "plinth_area_sq_ft         0\n",
              "height_ft_pre_eq          0\n",
              "land_surface_condition    0\n",
              "foundation_type           0\n",
              "ground_floor_type         0\n",
              "other_floor_type          0\n",
              "position                  0\n",
              "damage_grade              0\n",
              "dtype: int64"
            ]
          },
          "metadata": {
            "tags": []
          },
          "execution_count": 63
        }
      ]
    },
    {
      "cell_type": "code",
      "metadata": {
        "colab": {
          "base_uri": "https://localhost:8080/"
        },
        "id": "QFg1MnSze88B",
        "outputId": "b3d5ca29-7bea-436e-95fd-76fce67ecbe4"
      },
      "source": [
        "data1.info()"
      ],
      "execution_count": 64,
      "outputs": [
        {
          "output_type": "stream",
          "text": [
            "<class 'pandas.core.frame.DataFrame'>\n",
            "Int64Index: 762094 entries, 0 to 762105\n",
            "Data columns (total 9 columns):\n",
            " #   Column                  Non-Null Count   Dtype \n",
            "---  ------                  --------------   ----- \n",
            " 0   age_building            762094 non-null  int64 \n",
            " 1   plinth_area_sq_ft       762094 non-null  int64 \n",
            " 2   height_ft_pre_eq        762094 non-null  int64 \n",
            " 3   land_surface_condition  762094 non-null  object\n",
            " 4   foundation_type         762094 non-null  object\n",
            " 5   ground_floor_type       762094 non-null  object\n",
            " 6   other_floor_type        762094 non-null  object\n",
            " 7   position                762094 non-null  object\n",
            " 8   damage_grade            762094 non-null  object\n",
            "dtypes: int64(3), object(6)\n",
            "memory usage: 58.1+ MB\n"
          ],
          "name": "stdout"
        }
      ]
    },
    {
      "cell_type": "code",
      "metadata": {
        "id": "SVaMsOsWfU2P"
      },
      "source": [
        "import matplotlib.pyplot as plt\n",
        "import seaborn as sns\n",
        "%matplotlib inline"
      ],
      "execution_count": 65,
      "outputs": []
    },
    {
      "cell_type": "code",
      "metadata": {
        "colab": {
          "base_uri": "https://localhost:8080/",
          "height": 496
        },
        "id": "XUhksprnlATL",
        "outputId": "6ca9decc-81de-4e4b-a650-47fa5610a79e"
      },
      "source": [
        "sns.countplot(data=data, x='age_building')\n",
        "data1.loc[:,'age_building'].value_counts()"
      ],
      "execution_count": 66,
      "outputs": [
        {
          "output_type": "execute_result",
          "data": {
            "text/plain": [
              "15     49983\n",
              "20     46525\n",
              "10     39794\n",
              "25     37063\n",
              "12     36458\n",
              "       ...  \n",
              "138        1\n",
              "146        1\n",
              "136        1\n",
              "144        1\n",
              "148        1\n",
              "Name: age_building, Length: 176, dtype: int64"
            ]
          },
          "metadata": {
            "tags": []
          },
          "execution_count": 66
        },
        {
          "output_type": "display_data",
          "data": {
            "image/png": "[encoded data removed]",
            "text/plain": [
              "<Figure size 432x288 with 1 Axes>"
            ]
          },
          "metadata": {
            "tags": [],
            "needs_background": "light"
          }
        }
      ]
    },
    {
      "cell_type": "code",
      "metadata": {
        "colab": {
          "base_uri": "https://localhost:8080/",
          "height": 369
        },
        "id": "FgbYWfBVkgxY",
        "outputId": "b4bc7729-5137-4fd9-b67a-ec9635ce14c0"
      },
      "source": [
        "sns.countplot(data=data, x='position')\n",
        "data1.loc[:,'position'].value_counts()"
      ],
      "execution_count": 67,
      "outputs": [
        {
          "output_type": "execute_result",
          "data": {
            "text/plain": [
              "Not attached       604443\n",
              "Attached-1 side    129431\n",
              "Attached-2 side     26910\n",
              "Attached-3 side      1310\n",
              "Name: position, dtype: int64"
            ]
          },
          "metadata": {
            "tags": []
          },
          "execution_count": 67
        },
        {
          "output_type": "display_data",
          "data": {
            "image/png": "[encoded data removed]",
            "text/plain": [
              "<Figure size 432x288 with 1 Axes>"
            ]
          },
          "metadata": {
            "tags": [],
            "needs_background": "light"
          }
        }
      ]
    },
    {
      "cell_type": "code",
      "metadata": {
        "colab": {
          "base_uri": "https://localhost:8080/",
          "height": 388
        },
        "id": "bnmXHlgmkYuB",
        "outputId": "3bb890d6-3d67-42ec-c808-5b7f54449bc3"
      },
      "source": [
        "sns.countplot(data=data, x='damage_grade')\n",
        "data1.loc[:,'damage_grade'].value_counts()"
      ],
      "execution_count": 68,
      "outputs": [
        {
          "output_type": "execute_result",
          "data": {
            "text/plain": [
              "Grade 5    275766\n",
              "Grade 4    183844\n",
              "Grade 3    136412\n",
              "Grade 2     87257\n",
              "Grade 1     78815\n",
              "Name: damage_grade, dtype: int64"
            ]
          },
          "metadata": {
            "tags": []
          },
          "execution_count": 68
        },
        {
          "output_type": "display_data",
          "data": {
            "image/png": "[encoded data removed]",
            "text/plain": [
              "<Figure size 432x288 with 1 Axes>"
            ]
          },
          "metadata": {
            "tags": [],
            "needs_background": "light"
          }
        }
      ]
    },
    {
      "cell_type": "code",
      "metadata": {
        "colab": {
          "base_uri": "https://localhost:8080/"
        },
        "id": "hCjnE-J2C2DO",
        "outputId": "b38a20cf-331c-4382-e942-05678394ffb4"
      },
      "source": [
        "data1['damage_grade']"
      ],
      "execution_count": 69,
      "outputs": [
        {
          "output_type": "execute_result",
          "data": {
            "text/plain": [
              "0         Grade 3\n",
              "1         Grade 5\n",
              "2         Grade 2\n",
              "3         Grade 2\n",
              "4         Grade 1\n",
              "           ...   \n",
              "762101    Grade 5\n",
              "762102    Grade 5\n",
              "762103    Grade 5\n",
              "762104    Grade 5\n",
              "762105    Grade 5\n",
              "Name: damage_grade, Length: 762094, dtype: object"
            ]
          },
          "metadata": {
            "tags": []
          },
          "execution_count": 69
        }
      ]
    },
    {
      "cell_type": "code",
      "metadata": {
        "colab": {
          "base_uri": "https://localhost:8080/",
          "height": 204
        },
        "id": "tykw5D9zC2DO",
        "outputId": "1e1d9f69-70de-401f-e0e2-c343a2d7f91d"
      },
      "source": [
        "# data2=data1['damage_grade'].replace({'Grade 1':1, 'Grade 2':2,'Grade 3':3,'Grade 4':4,'Grade 5':5,}, inplace=True)\n",
        "data2=data1.replace({'Grade 1':1, 'Grade 2':2,'Grade 3':3,'Grade 4':4,'Grade 5':5,}, inplace=False)\n",
        "data2.head()"
      ],
      "execution_count": 70,
      "outputs": [
        {
          "output_type": "execute_result",
          "data": {
            "text/html": [
              "<div>\n",
              "<style scoped>\n",
              "    .dataframe tbody tr th:only-of-type {\n",
              "        vertical-align: middle;\n",
              "    }\n",
              "\n",
              "    .dataframe tbody tr th {\n",
              "        vertical-align: top;\n",
              "    }\n",
              "\n",
              "    .dataframe thead th {\n",
              "        text-align: right;\n",
              "    }\n",
              "</style>\n",
              "<table border=\"1\" class=\"dataframe\">\n",
              "  <thead>\n",
              "    <tr style=\"text-align: right;\">\n",
              "      <th></th>\n",
              "      <th>age_building</th>\n",
              "      <th>plinth_area_sq_ft</th>\n",
              "      <th>height_ft_pre_eq</th>\n",
              "      <th>land_surface_condition</th>\n",
              "      <th>foundation_type</th>\n",
              "      <th>ground_floor_type</th>\n",
              "      <th>other_floor_type</th>\n",
              "      <th>position</th>\n",
              "      <th>damage_grade</th>\n",
              "    </tr>\n",
              "  </thead>\n",
              "  <tbody>\n",
              "    <tr>\n",
              "      <th>0</th>\n",
              "      <td>9</td>\n",
              "      <td>288</td>\n",
              "      <td>9</td>\n",
              "      <td>Flat</td>\n",
              "      <td>Other</td>\n",
              "      <td>Mud</td>\n",
              "      <td>Not applicable</td>\n",
              "      <td>Not attached</td>\n",
              "      <td>3</td>\n",
              "    </tr>\n",
              "    <tr>\n",
              "      <th>1</th>\n",
              "      <td>15</td>\n",
              "      <td>364</td>\n",
              "      <td>9</td>\n",
              "      <td>Flat</td>\n",
              "      <td>Other</td>\n",
              "      <td>Mud</td>\n",
              "      <td>Not applicable</td>\n",
              "      <td>Not attached</td>\n",
              "      <td>5</td>\n",
              "    </tr>\n",
              "    <tr>\n",
              "      <th>2</th>\n",
              "      <td>20</td>\n",
              "      <td>384</td>\n",
              "      <td>9</td>\n",
              "      <td>Flat</td>\n",
              "      <td>Other</td>\n",
              "      <td>Mud</td>\n",
              "      <td>Not applicable</td>\n",
              "      <td>Not attached</td>\n",
              "      <td>2</td>\n",
              "    </tr>\n",
              "    <tr>\n",
              "      <th>3</th>\n",
              "      <td>20</td>\n",
              "      <td>312</td>\n",
              "      <td>9</td>\n",
              "      <td>Flat</td>\n",
              "      <td>Other</td>\n",
              "      <td>Mud</td>\n",
              "      <td>Not applicable</td>\n",
              "      <td>Not attached</td>\n",
              "      <td>2</td>\n",
              "    </tr>\n",
              "    <tr>\n",
              "      <th>4</th>\n",
              "      <td>30</td>\n",
              "      <td>308</td>\n",
              "      <td>9</td>\n",
              "      <td>Flat</td>\n",
              "      <td>Other</td>\n",
              "      <td>Mud</td>\n",
              "      <td>Not applicable</td>\n",
              "      <td>Not attached</td>\n",
              "      <td>1</td>\n",
              "    </tr>\n",
              "  </tbody>\n",
              "</table>\n",
              "</div>"
            ],
            "text/plain": [
              "   age_building  plinth_area_sq_ft  ...      position damage_grade\n",
              "0             9                288  ...  Not attached            3\n",
              "1            15                364  ...  Not attached            5\n",
              "2            20                384  ...  Not attached            2\n",
              "3            20                312  ...  Not attached            2\n",
              "4            30                308  ...  Not attached            1\n",
              "\n",
              "[5 rows x 9 columns]"
            ]
          },
          "metadata": {
            "tags": []
          },
          "execution_count": 70
        }
      ]
    },
    {
      "cell_type": "code",
      "metadata": {
        "colab": {
          "base_uri": "https://localhost:8080/"
        },
        "id": "rUY4lpeZF194",
        "scrolled": true,
        "outputId": "2765306c-01ec-4597-fecc-7329887ff288"
      },
      "source": [
        "data2['position'].unique()"
      ],
      "execution_count": 71,
      "outputs": [
        {
          "output_type": "execute_result",
          "data": {
            "text/plain": [
              "array(['Not attached', 'Attached-1 side', 'Attached-2 side',\n",
              "       'Attached-3 side'], dtype=object)"
            ]
          },
          "metadata": {
            "tags": []
          },
          "execution_count": 71
        }
      ]
    },
    {
      "cell_type": "code",
      "metadata": {
        "id": "BcmEQr2g4JBI",
        "colab": {
          "base_uri": "https://localhost:8080/",
          "height": 204
        },
        "outputId": "f85a89e3-2867-4dfd-a1e5-c3fb89e767fb"
      },
      "source": [
        "# data2=data1['damage_grade'].replace({'Grade 1':1, 'Grade 2':2,'Grade 3':3,'Grade 4':4,'Grade 5':5,}, inplace=True)\n",
        "data2=data2.replace({\"Attached-1 side\":1, \"Attached-2 side\":2, \"Attached-3 side\":3, \"Not attached\":0, }, inplace=False)\n",
        "\n",
        "data2.head()"
      ],
      "execution_count": 72,
      "outputs": [
        {
          "output_type": "execute_result",
          "data": {
            "text/html": [
              "<div>\n",
              "<style scoped>\n",
              "    .dataframe tbody tr th:only-of-type {\n",
              "        vertical-align: middle;\n",
              "    }\n",
              "\n",
              "    .dataframe tbody tr th {\n",
              "        vertical-align: top;\n",
              "    }\n",
              "\n",
              "    .dataframe thead th {\n",
              "        text-align: right;\n",
              "    }\n",
              "</style>\n",
              "<table border=\"1\" class=\"dataframe\">\n",
              "  <thead>\n",
              "    <tr style=\"text-align: right;\">\n",
              "      <th></th>\n",
              "      <th>age_building</th>\n",
              "      <th>plinth_area_sq_ft</th>\n",
              "      <th>height_ft_pre_eq</th>\n",
              "      <th>land_surface_condition</th>\n",
              "      <th>foundation_type</th>\n",
              "      <th>ground_floor_type</th>\n",
              "      <th>other_floor_type</th>\n",
              "      <th>position</th>\n",
              "      <th>damage_grade</th>\n",
              "    </tr>\n",
              "  </thead>\n",
              "  <tbody>\n",
              "    <tr>\n",
              "      <th>0</th>\n",
              "      <td>9</td>\n",
              "      <td>288</td>\n",
              "      <td>9</td>\n",
              "      <td>Flat</td>\n",
              "      <td>Other</td>\n",
              "      <td>Mud</td>\n",
              "      <td>Not applicable</td>\n",
              "      <td>0</td>\n",
              "      <td>3</td>\n",
              "    </tr>\n",
              "    <tr>\n",
              "      <th>1</th>\n",
              "      <td>15</td>\n",
              "      <td>364</td>\n",
              "      <td>9</td>\n",
              "      <td>Flat</td>\n",
              "      <td>Other</td>\n",
              "      <td>Mud</td>\n",
              "      <td>Not applicable</td>\n",
              "      <td>0</td>\n",
              "      <td>5</td>\n",
              "    </tr>\n",
              "    <tr>\n",
              "      <th>2</th>\n",
              "      <td>20</td>\n",
              "      <td>384</td>\n",
              "      <td>9</td>\n",
              "      <td>Flat</td>\n",
              "      <td>Other</td>\n",
              "      <td>Mud</td>\n",
              "      <td>Not applicable</td>\n",
              "      <td>0</td>\n",
              "      <td>2</td>\n",
              "    </tr>\n",
              "    <tr>\n",
              "      <th>3</th>\n",
              "      <td>20</td>\n",
              "      <td>312</td>\n",
              "      <td>9</td>\n",
              "      <td>Flat</td>\n",
              "      <td>Other</td>\n",
              "      <td>Mud</td>\n",
              "      <td>Not applicable</td>\n",
              "      <td>0</td>\n",
              "      <td>2</td>\n",
              "    </tr>\n",
              "    <tr>\n",
              "      <th>4</th>\n",
              "      <td>30</td>\n",
              "      <td>308</td>\n",
              "      <td>9</td>\n",
              "      <td>Flat</td>\n",
              "      <td>Other</td>\n",
              "      <td>Mud</td>\n",
              "      <td>Not applicable</td>\n",
              "      <td>0</td>\n",
              "      <td>1</td>\n",
              "    </tr>\n",
              "  </tbody>\n",
              "</table>\n",
              "</div>"
            ],
            "text/plain": [
              "   age_building  plinth_area_sq_ft  ...  position damage_grade\n",
              "0             9                288  ...         0            3\n",
              "1            15                364  ...         0            5\n",
              "2            20                384  ...         0            2\n",
              "3            20                312  ...         0            2\n",
              "4            30                308  ...         0            1\n",
              "\n",
              "[5 rows x 9 columns]"
            ]
          },
          "metadata": {
            "tags": []
          },
          "execution_count": 72
        }
      ]
    },
    {
      "cell_type": "code",
      "metadata": {
        "colab": {
          "base_uri": "https://localhost:8080/"
        },
        "id": "FlGJqUQNC2DO",
        "outputId": "89e1cf8d-b3ed-483f-fa26-b73298f63da9"
      },
      "source": [
        "data2[\"land_surface_condition\"].value_counts()"
      ],
      "execution_count": 73,
      "outputs": [
        {
          "output_type": "execute_result",
          "data": {
            "text/plain": [
              "Flat              631663\n",
              "Moderate slope    105640\n",
              "Steep slope        24791\n",
              "Name: land_surface_condition, dtype: int64"
            ]
          },
          "metadata": {
            "tags": []
          },
          "execution_count": 73
        }
      ]
    },
    {
      "cell_type": "code",
      "metadata": {
        "colab": {
          "base_uri": "https://localhost:8080/"
        },
        "id": "FcwmwmtTFPju",
        "outputId": "55e66000-a0d4-462a-9430-e109b30baa49"
      },
      "source": [
        "data2['land_surface_condition'].unique()"
      ],
      "execution_count": 74,
      "outputs": [
        {
          "output_type": "execute_result",
          "data": {
            "text/plain": [
              "array(['Flat', 'Moderate slope', 'Steep slope'], dtype=object)"
            ]
          },
          "metadata": {
            "tags": []
          },
          "execution_count": 74
        }
      ]
    },
    {
      "cell_type": "code",
      "metadata": {
        "colab": {
          "base_uri": "https://localhost:8080/"
        },
        "id": "qEBQ1EWYC2DP",
        "outputId": "18d231fc-89b3-45e9-d720-0abff3764475"
      },
      "source": [
        "data2[\"land_surface_condition\"].describe()"
      ],
      "execution_count": 75,
      "outputs": [
        {
          "output_type": "execute_result",
          "data": {
            "text/plain": [
              "count     762094\n",
              "unique         3\n",
              "top         Flat\n",
              "freq      631663\n",
              "Name: land_surface_condition, dtype: object"
            ]
          },
          "metadata": {
            "tags": []
          },
          "execution_count": 75
        }
      ]
    },
    {
      "cell_type": "code",
      "metadata": {
        "colab": {
          "base_uri": "https://localhost:8080/"
        },
        "id": "ZgkhgSE2C2DO",
        "outputId": "3e3e21b0-1ab7-4870-bd34-d336e3bdcd22"
      },
      "source": [
        "data2[\"foundation_type\"].value_counts()"
      ],
      "execution_count": 76,
      "outputs": [
        {
          "output_type": "execute_result",
          "data": {
            "text/plain": [
              "Mud mortar-Stone/Brick    628705\n",
              "Bamboo/Timber              57472\n",
              "Cement-Stone/Brick         39245\n",
              "RC                         32120\n",
              "Other                       4552\n",
              "Name: foundation_type, dtype: int64"
            ]
          },
          "metadata": {
            "tags": []
          },
          "execution_count": 76
        }
      ]
    },
    {
      "cell_type": "code",
      "metadata": {
        "colab": {
          "base_uri": "https://localhost:8080/"
        },
        "id": "lzA1wt1AC2DP",
        "outputId": "2f3d3eaa-d36d-41df-b34a-6ecb195c6fa4"
      },
      "source": [
        "data2[\"ground_floor_type\"].value_counts()"
      ],
      "execution_count": 77,
      "outputs": [
        {
          "output_type": "execute_result",
          "data": {
            "text/plain": [
              "Mud            618205\n",
              "RC              73149\n",
              "Brick/Stone     66093\n",
              "Timber           3594\n",
              "Other            1053\n",
              "Name: ground_floor_type, dtype: int64"
            ]
          },
          "metadata": {
            "tags": []
          },
          "execution_count": 77
        }
      ]
    },
    {
      "cell_type": "code",
      "metadata": {
        "colab": {
          "base_uri": "https://localhost:8080/"
        },
        "id": "IgD7dYuoC2DP",
        "outputId": "265f17bd-7f8b-40ef-fd33-06ecf0cc975b"
      },
      "source": [
        "data2[\"other_floor_type\"].value_counts()"
      ],
      "execution_count": 78,
      "outputs": [
        {
          "output_type": "execute_result",
          "data": {
            "text/plain": [
              "TImber/Bamboo-Mud    486907\n",
              "Timber-Planck        123624\n",
              "Not applicable       118821\n",
              "RCC/RB/RBC            32742\n",
              "Name: other_floor_type, dtype: int64"
            ]
          },
          "metadata": {
            "tags": []
          },
          "execution_count": 78
        }
      ]
    },
    {
      "cell_type": "code",
      "metadata": {
        "colab": {
          "base_uri": "https://localhost:8080/"
        },
        "id": "HIszHXD0JPdo",
        "outputId": "4be783db-a5dd-4d15-ca16-ff04806e4f4e"
      },
      "source": [
        "data2['other_floor_type'].unique()"
      ],
      "execution_count": 79,
      "outputs": [
        {
          "output_type": "execute_result",
          "data": {
            "text/plain": [
              "array(['Not applicable', 'TImber/Bamboo-Mud', 'Timber-Planck',\n",
              "       'RCC/RB/RBC'], dtype=object)"
            ]
          },
          "metadata": {
            "tags": []
          },
          "execution_count": 79
        }
      ]
    },
    {
      "cell_type": "code",
      "metadata": {
        "colab": {
          "base_uri": "https://localhost:8080/",
          "height": 396
        },
        "id": "y9TtNrQ3C2DP",
        "outputId": "fcbcf230-7f9b-4719-ae72-f289571a0669"
      },
      "source": [
        "data3 = pd.get_dummies(data2, columns=[\"land_surface_condition\", \"foundation_type\", \"ground_floor_type\", \"other_floor_type\"])\n",
        "data3.head(10)"
      ],
      "execution_count": 80,
      "outputs": [
        {
          "output_type": "execute_result",
          "data": {
            "text/html": [
              "<div>\n",
              "<style scoped>\n",
              "    .dataframe tbody tr th:only-of-type {\n",
              "        vertical-align: middle;\n",
              "    }\n",
              "\n",
              "    .dataframe tbody tr th {\n",
              "        vertical-align: top;\n",
              "    }\n",
              "\n",
              "    .dataframe thead th {\n",
              "        text-align: right;\n",
              "    }\n",
              "</style>\n",
              "<table border=\"1\" class=\"dataframe\">\n",
              "  <thead>\n",
              "    <tr style=\"text-align: right;\">\n",
              "      <th></th>\n",
              "      <th>age_building</th>\n",
              "      <th>plinth_area_sq_ft</th>\n",
              "      <th>height_ft_pre_eq</th>\n",
              "      <th>position</th>\n",
              "      <th>damage_grade</th>\n",
              "      <th>land_surface_condition_Flat</th>\n",
              "      <th>land_surface_condition_Moderate slope</th>\n",
              "      <th>land_surface_condition_Steep slope</th>\n",
              "      <th>foundation_type_Bamboo/Timber</th>\n",
              "      <th>foundation_type_Cement-Stone/Brick</th>\n",
              "      <th>foundation_type_Mud mortar-Stone/Brick</th>\n",
              "      <th>foundation_type_Other</th>\n",
              "      <th>foundation_type_RC</th>\n",
              "      <th>ground_floor_type_Brick/Stone</th>\n",
              "      <th>ground_floor_type_Mud</th>\n",
              "      <th>ground_floor_type_Other</th>\n",
              "      <th>ground_floor_type_RC</th>\n",
              "      <th>ground_floor_type_Timber</th>\n",
              "      <th>other_floor_type_Not applicable</th>\n",
              "      <th>other_floor_type_RCC/RB/RBC</th>\n",
              "      <th>other_floor_type_TImber/Bamboo-Mud</th>\n",
              "      <th>other_floor_type_Timber-Planck</th>\n",
              "    </tr>\n",
              "  </thead>\n",
              "  <tbody>\n",
              "    <tr>\n",
              "      <th>0</th>\n",
              "      <td>9</td>\n",
              "      <td>288</td>\n",
              "      <td>9</td>\n",
              "      <td>0</td>\n",
              "      <td>3</td>\n",
              "      <td>1</td>\n",
              "      <td>0</td>\n",
              "      <td>0</td>\n",
              "      <td>0</td>\n",
              "      <td>0</td>\n",
              "      <td>0</td>\n",
              "      <td>1</td>\n",
              "      <td>0</td>\n",
              "      <td>0</td>\n",
              "      <td>1</td>\n",
              "      <td>0</td>\n",
              "      <td>0</td>\n",
              "      <td>0</td>\n",
              "      <td>1</td>\n",
              "      <td>0</td>\n",
              "      <td>0</td>\n",
              "      <td>0</td>\n",
              "    </tr>\n",
              "    <tr>\n",
              "      <th>1</th>\n",
              "      <td>15</td>\n",
              "      <td>364</td>\n",
              "      <td>9</td>\n",
              "      <td>0</td>\n",
              "      <td>5</td>\n",
              "      <td>1</td>\n",
              "      <td>0</td>\n",
              "      <td>0</td>\n",
              "      <td>0</td>\n",
              "      <td>0</td>\n",
              "      <td>0</td>\n",
              "      <td>1</td>\n",
              "      <td>0</td>\n",
              "      <td>0</td>\n",
              "      <td>1</td>\n",
              "      <td>0</td>\n",
              "      <td>0</td>\n",
              "      <td>0</td>\n",
              "      <td>1</td>\n",
              "      <td>0</td>\n",
              "      <td>0</td>\n",
              "      <td>0</td>\n",
              "    </tr>\n",
              "    <tr>\n",
              "      <th>2</th>\n",
              "      <td>20</td>\n",
              "      <td>384</td>\n",
              "      <td>9</td>\n",
              "      <td>0</td>\n",
              "      <td>2</td>\n",
              "      <td>1</td>\n",
              "      <td>0</td>\n",
              "      <td>0</td>\n",
              "      <td>0</td>\n",
              "      <td>0</td>\n",
              "      <td>0</td>\n",
              "      <td>1</td>\n",
              "      <td>0</td>\n",
              "      <td>0</td>\n",
              "      <td>1</td>\n",
              "      <td>0</td>\n",
              "      <td>0</td>\n",
              "      <td>0</td>\n",
              "      <td>1</td>\n",
              "      <td>0</td>\n",
              "      <td>0</td>\n",
              "      <td>0</td>\n",
              "    </tr>\n",
              "    <tr>\n",
              "      <th>3</th>\n",
              "      <td>20</td>\n",
              "      <td>312</td>\n",
              "      <td>9</td>\n",
              "      <td>0</td>\n",
              "      <td>2</td>\n",
              "      <td>1</td>\n",
              "      <td>0</td>\n",
              "      <td>0</td>\n",
              "      <td>0</td>\n",
              "      <td>0</td>\n",
              "      <td>0</td>\n",
              "      <td>1</td>\n",
              "      <td>0</td>\n",
              "      <td>0</td>\n",
              "      <td>1</td>\n",
              "      <td>0</td>\n",
              "      <td>0</td>\n",
              "      <td>0</td>\n",
              "      <td>1</td>\n",
              "      <td>0</td>\n",
              "      <td>0</td>\n",
              "      <td>0</td>\n",
              "    </tr>\n",
              "    <tr>\n",
              "      <th>4</th>\n",
              "      <td>30</td>\n",
              "      <td>308</td>\n",
              "      <td>9</td>\n",
              "      <td>0</td>\n",
              "      <td>1</td>\n",
              "      <td>1</td>\n",
              "      <td>0</td>\n",
              "      <td>0</td>\n",
              "      <td>0</td>\n",
              "      <td>0</td>\n",
              "      <td>0</td>\n",
              "      <td>1</td>\n",
              "      <td>0</td>\n",
              "      <td>0</td>\n",
              "      <td>1</td>\n",
              "      <td>0</td>\n",
              "      <td>0</td>\n",
              "      <td>0</td>\n",
              "      <td>1</td>\n",
              "      <td>0</td>\n",
              "      <td>0</td>\n",
              "      <td>0</td>\n",
              "    </tr>\n",
              "    <tr>\n",
              "      <th>5</th>\n",
              "      <td>18</td>\n",
              "      <td>216</td>\n",
              "      <td>9</td>\n",
              "      <td>0</td>\n",
              "      <td>2</td>\n",
              "      <td>1</td>\n",
              "      <td>0</td>\n",
              "      <td>0</td>\n",
              "      <td>0</td>\n",
              "      <td>0</td>\n",
              "      <td>0</td>\n",
              "      <td>1</td>\n",
              "      <td>0</td>\n",
              "      <td>0</td>\n",
              "      <td>1</td>\n",
              "      <td>0</td>\n",
              "      <td>0</td>\n",
              "      <td>0</td>\n",
              "      <td>1</td>\n",
              "      <td>0</td>\n",
              "      <td>0</td>\n",
              "      <td>0</td>\n",
              "    </tr>\n",
              "    <tr>\n",
              "      <th>6</th>\n",
              "      <td>13</td>\n",
              "      <td>234</td>\n",
              "      <td>9</td>\n",
              "      <td>0</td>\n",
              "      <td>5</td>\n",
              "      <td>1</td>\n",
              "      <td>0</td>\n",
              "      <td>0</td>\n",
              "      <td>0</td>\n",
              "      <td>0</td>\n",
              "      <td>0</td>\n",
              "      <td>1</td>\n",
              "      <td>0</td>\n",
              "      <td>0</td>\n",
              "      <td>1</td>\n",
              "      <td>0</td>\n",
              "      <td>0</td>\n",
              "      <td>0</td>\n",
              "      <td>1</td>\n",
              "      <td>0</td>\n",
              "      <td>0</td>\n",
              "      <td>0</td>\n",
              "    </tr>\n",
              "    <tr>\n",
              "      <th>7</th>\n",
              "      <td>8</td>\n",
              "      <td>280</td>\n",
              "      <td>9</td>\n",
              "      <td>0</td>\n",
              "      <td>2</td>\n",
              "      <td>1</td>\n",
              "      <td>0</td>\n",
              "      <td>0</td>\n",
              "      <td>0</td>\n",
              "      <td>0</td>\n",
              "      <td>0</td>\n",
              "      <td>1</td>\n",
              "      <td>0</td>\n",
              "      <td>0</td>\n",
              "      <td>1</td>\n",
              "      <td>0</td>\n",
              "      <td>0</td>\n",
              "      <td>0</td>\n",
              "      <td>1</td>\n",
              "      <td>0</td>\n",
              "      <td>0</td>\n",
              "      <td>0</td>\n",
              "    </tr>\n",
              "    <tr>\n",
              "      <th>8</th>\n",
              "      <td>22</td>\n",
              "      <td>268</td>\n",
              "      <td>9</td>\n",
              "      <td>0</td>\n",
              "      <td>3</td>\n",
              "      <td>1</td>\n",
              "      <td>0</td>\n",
              "      <td>0</td>\n",
              "      <td>0</td>\n",
              "      <td>0</td>\n",
              "      <td>0</td>\n",
              "      <td>1</td>\n",
              "      <td>0</td>\n",
              "      <td>0</td>\n",
              "      <td>1</td>\n",
              "      <td>0</td>\n",
              "      <td>0</td>\n",
              "      <td>0</td>\n",
              "      <td>1</td>\n",
              "      <td>0</td>\n",
              "      <td>0</td>\n",
              "      <td>0</td>\n",
              "    </tr>\n",
              "    <tr>\n",
              "      <th>9</th>\n",
              "      <td>10</td>\n",
              "      <td>268</td>\n",
              "      <td>9</td>\n",
              "      <td>0</td>\n",
              "      <td>3</td>\n",
              "      <td>1</td>\n",
              "      <td>0</td>\n",
              "      <td>0</td>\n",
              "      <td>0</td>\n",
              "      <td>0</td>\n",
              "      <td>0</td>\n",
              "      <td>1</td>\n",
              "      <td>0</td>\n",
              "      <td>0</td>\n",
              "      <td>1</td>\n",
              "      <td>0</td>\n",
              "      <td>0</td>\n",
              "      <td>0</td>\n",
              "      <td>1</td>\n",
              "      <td>0</td>\n",
              "      <td>0</td>\n",
              "      <td>0</td>\n",
              "    </tr>\n",
              "  </tbody>\n",
              "</table>\n",
              "</div>"
            ],
            "text/plain": [
              "   age_building  ...  other_floor_type_Timber-Planck\n",
              "0             9  ...                               0\n",
              "1            15  ...                               0\n",
              "2            20  ...                               0\n",
              "3            20  ...                               0\n",
              "4            30  ...                               0\n",
              "5            18  ...                               0\n",
              "6            13  ...                               0\n",
              "7             8  ...                               0\n",
              "8            22  ...                               0\n",
              "9            10  ...                               0\n",
              "\n",
              "[10 rows x 22 columns]"
            ]
          },
          "metadata": {
            "tags": []
          },
          "execution_count": 80
        }
      ]
    },
    {
      "cell_type": "code",
      "metadata": {
        "id": "XfjgxmmwFUn0"
      },
      "source": [
        "#코드 통합으로 필요없어진 코드\n",
        "# land_surface_condition_dummies = pd.get_dummies(data2['land_surface_condition'])\n",
        "# land_surface_condition_dummies.head(10)\n",
        "# foundation_type_dummies = pd.get_dummies(data2['foundation_type'])\n",
        "# foundation_type_dummies.head(10)\n",
        "# ground_floor_type_dummies = pd.get_dummies(data2['ground_floor_type'])\n",
        "# ground_floor_type_dummies.head(10)\n",
        "# other_floor_type_dummies = pd.get_dummies(data2['other_floor_type'])\n",
        "# other_floor_type_dummies.head(10)"
      ],
      "execution_count": 81,
      "outputs": []
    },
    {
      "cell_type": "code",
      "metadata": {
        "id": "l24G47rXFlf7"
      },
      "source": [
        "#코드 통합으로 필요없어진 코드\n",
        "# insurance_data에 region_dummies 결합 및 기존 region 열 삭제\n",
        "# data2 = pd.concat([data2, land_surface_condition_dummies], axis = 1)\n",
        "# data2.drop(['land_surface_condition'], axis = 1, inplace = True)\n",
        "# data2 = pd.concat([data2, foundation_type_dummies], axis = 1)\n",
        "# data2.drop(['foundation_type'], axis = 1, inplace = True)\n",
        "# data2 = pd.concat([data2, ground_floor_type_dummies], axis = 1)\n",
        "# data2.drop(['ground_floor_type'], axis = 1, inplace = True)\n",
        "# data2 = pd.concat([data2, other_floor_type_dummies], axis = 1)\n",
        "# data2.drop(['other_floor_type'], axis = 1, inplace = True)\n",
        "# data2.head()"
      ],
      "execution_count": 82,
      "outputs": []
    },
    {
      "cell_type": "code",
      "metadata": {
        "id": "Mj0V07rG4JBQ"
      },
      "source": [
        "#데이터 전처리 끝"
      ],
      "execution_count": null,
      "outputs": []
    },
    {
      "cell_type": "code",
      "metadata": {
        "id": "E9QnbRPTC2DQ"
      },
      "source": [
        "#머신러닝 회귀 방법 이용 인공지능"
      ],
      "execution_count": null,
      "outputs": []
    },
    {
      "cell_type": "code",
      "metadata": {
        "id": "XFeyvj7yC2DQ"
      },
      "source": [
        "from sklearn.model_selection import train_test_split\n",
        "from sklearn.linear_model import LinearRegression\n",
        "\n",
        "y_target =data3['damage_grade']\n",
        "x_feature = data3.drop(['damage_grade'],axis=1,inplace=False)\n",
        "\n",
        "x_train, x_test, y_train, y_test= train_test_split(x_feature, y_target,test_size=0.3, random_state=0)\n",
        "\n",
        "lr_reg = LinearRegression()\n",
        "lr_reg.fit(x_train,y_train)\n",
        "pred = lr_reg.predict(x_test)"
      ],
      "execution_count": 83,
      "outputs": []
    },
    {
      "cell_type": "code",
      "metadata": {
        "colab": {
          "base_uri": "https://localhost:8080/"
        },
        "id": "FhHlLgnFC2DQ",
        "scrolled": true,
        "outputId": "01ba81c5-f195-4050-ecf0-3ac06db2ba10"
      },
      "source": [
        "from sklearn.metrics import mean_squared_error, mean_absolute_error\n",
        "# MSE, RMSE, MAE 계산\n",
        "\n",
        "def model_evaluate(y, pred):\n",
        "    MSE_val = mean_squared_error(y, pred)\n",
        "    RMSE_val = np.sqrt(MSE_val)\n",
        "    MAE_val = mean_absolute_error(y, pred)\n",
        "\n",
        "    print('MSE: {0:.3f}, RMSE: {1:.3F}, MAE:{2:.3F}'.format(MSE_val,RMSE_val, MAE_val))\n",
        "\n",
        "model_evaluate(y_test,pred)"
      ],
      "execution_count": 84,
      "outputs": [
        {
          "output_type": "stream",
          "text": [
            "MSE: 1.313, RMSE: 1.146, MAE:0.930\n"
          ],
          "name": "stdout"
        }
      ]
    },
    {
      "cell_type": "code",
      "metadata": {
        "id": "EDdApKOs4JBT"
      },
      "source": [
        "#머신러닝 회귀 방법 이용 인공지능 끝"
      ],
      "execution_count": null,
      "outputs": []
    },
    {
      "cell_type": "code",
      "metadata": {
        "id": "Qv_Zfl2f4JBT"
      },
      "source": [
        "#딥러닝 회귀 방법 이용 인공지능 시작"
      ],
      "execution_count": null,
      "outputs": []
    },
    {
      "cell_type": "code",
      "metadata": {
        "id": "GXS3hP4_D4ap"
      },
      "source": [
        "# 필요한 라이브러리 호출\n",
        "import numpy as np\n",
        "import pandas as pd\n",
        "seed = 7\n",
        "np.random.seed(seed)\n",
        "\n",
        "from tensorflow import keras\n",
        "import matplotlib.pyplot as plt\n",
        "%matplotlib inline\n",
        "import seaborn as sns"
      ],
      "execution_count": 85,
      "outputs": []
    },
    {
      "cell_type": "code",
      "metadata": {
        "colab": {
          "base_uri": "https://localhost:8080/",
          "height": 334
        },
        "id": "qlSm0gCyL3Ux",
        "outputId": "2aeaa0bc-3e63-473a-b3df-45863f847caa"
      },
      "source": [
        "data3.describe()"
      ],
      "execution_count": 86,
      "outputs": [
        {
          "output_type": "execute_result",
          "data": {
            "text/html": [
              "<div>\n",
              "<style scoped>\n",
              "    .dataframe tbody tr th:only-of-type {\n",
              "        vertical-align: middle;\n",
              "    }\n",
              "\n",
              "    .dataframe tbody tr th {\n",
              "        vertical-align: top;\n",
              "    }\n",
              "\n",
              "    .dataframe thead th {\n",
              "        text-align: right;\n",
              "    }\n",
              "</style>\n",
              "<table border=\"1\" class=\"dataframe\">\n",
              "  <thead>\n",
              "    <tr style=\"text-align: right;\">\n",
              "      <th></th>\n",
              "      <th>age_building</th>\n",
              "      <th>plinth_area_sq_ft</th>\n",
              "      <th>height_ft_pre_eq</th>\n",
              "      <th>position</th>\n",
              "      <th>damage_grade</th>\n",
              "      <th>land_surface_condition_Flat</th>\n",
              "      <th>land_surface_condition_Moderate slope</th>\n",
              "      <th>land_surface_condition_Steep slope</th>\n",
              "      <th>foundation_type_Bamboo/Timber</th>\n",
              "      <th>foundation_type_Cement-Stone/Brick</th>\n",
              "      <th>foundation_type_Mud mortar-Stone/Brick</th>\n",
              "      <th>foundation_type_Other</th>\n",
              "      <th>foundation_type_RC</th>\n",
              "      <th>ground_floor_type_Brick/Stone</th>\n",
              "      <th>ground_floor_type_Mud</th>\n",
              "      <th>ground_floor_type_Other</th>\n",
              "      <th>ground_floor_type_RC</th>\n",
              "      <th>ground_floor_type_Timber</th>\n",
              "      <th>other_floor_type_Not applicable</th>\n",
              "      <th>other_floor_type_RCC/RB/RBC</th>\n",
              "      <th>other_floor_type_TImber/Bamboo-Mud</th>\n",
              "      <th>other_floor_type_Timber-Planck</th>\n",
              "    </tr>\n",
              "  </thead>\n",
              "  <tbody>\n",
              "    <tr>\n",
              "      <th>count</th>\n",
              "      <td>762094.000000</td>\n",
              "      <td>762094.000000</td>\n",
              "      <td>762094.000000</td>\n",
              "      <td>762094.000000</td>\n",
              "      <td>762094.000000</td>\n",
              "      <td>762094.000000</td>\n",
              "      <td>762094.000000</td>\n",
              "      <td>762094.000000</td>\n",
              "      <td>762094.000000</td>\n",
              "      <td>762094.000000</td>\n",
              "      <td>762094.000000</td>\n",
              "      <td>762094.000000</td>\n",
              "      <td>762094.000000</td>\n",
              "      <td>762094.000000</td>\n",
              "      <td>762094.000000</td>\n",
              "      <td>762094.000000</td>\n",
              "      <td>762094.000000</td>\n",
              "      <td>762094.000000</td>\n",
              "      <td>762094.000000</td>\n",
              "      <td>762094.000000</td>\n",
              "      <td>762094.000000</td>\n",
              "      <td>762094.000000</td>\n",
              "    </tr>\n",
              "    <tr>\n",
              "      <th>mean</th>\n",
              "      <td>24.325031</td>\n",
              "      <td>406.673668</td>\n",
              "      <td>16.049424</td>\n",
              "      <td>0.245614</td>\n",
              "      <td>3.643607</td>\n",
              "      <td>0.828852</td>\n",
              "      <td>0.138618</td>\n",
              "      <td>0.032530</td>\n",
              "      <td>0.075413</td>\n",
              "      <td>0.051496</td>\n",
              "      <td>0.824970</td>\n",
              "      <td>0.005973</td>\n",
              "      <td>0.042147</td>\n",
              "      <td>0.086726</td>\n",
              "      <td>0.811193</td>\n",
              "      <td>0.001382</td>\n",
              "      <td>0.095984</td>\n",
              "      <td>0.004716</td>\n",
              "      <td>0.155914</td>\n",
              "      <td>0.042963</td>\n",
              "      <td>0.638907</td>\n",
              "      <td>0.162216</td>\n",
              "    </tr>\n",
              "    <tr>\n",
              "      <th>std</th>\n",
              "      <td>65.034555</td>\n",
              "      <td>226.780437</td>\n",
              "      <td>5.493900</td>\n",
              "      <td>0.515968</td>\n",
              "      <td>1.342606</td>\n",
              "      <td>0.376639</td>\n",
              "      <td>0.345548</td>\n",
              "      <td>0.177403</td>\n",
              "      <td>0.264057</td>\n",
              "      <td>0.221008</td>\n",
              "      <td>0.379993</td>\n",
              "      <td>0.077054</td>\n",
              "      <td>0.200925</td>\n",
              "      <td>0.281433</td>\n",
              "      <td>0.391356</td>\n",
              "      <td>0.037146</td>\n",
              "      <td>0.294570</td>\n",
              "      <td>0.068511</td>\n",
              "      <td>0.362774</td>\n",
              "      <td>0.202774</td>\n",
              "      <td>0.480318</td>\n",
              "      <td>0.368649</td>\n",
              "    </tr>\n",
              "    <tr>\n",
              "      <th>min</th>\n",
              "      <td>0.000000</td>\n",
              "      <td>70.000000</td>\n",
              "      <td>6.000000</td>\n",
              "      <td>0.000000</td>\n",
              "      <td>1.000000</td>\n",
              "      <td>0.000000</td>\n",
              "      <td>0.000000</td>\n",
              "      <td>0.000000</td>\n",
              "      <td>0.000000</td>\n",
              "      <td>0.000000</td>\n",
              "      <td>0.000000</td>\n",
              "      <td>0.000000</td>\n",
              "      <td>0.000000</td>\n",
              "      <td>0.000000</td>\n",
              "      <td>0.000000</td>\n",
              "      <td>0.000000</td>\n",
              "      <td>0.000000</td>\n",
              "      <td>0.000000</td>\n",
              "      <td>0.000000</td>\n",
              "      <td>0.000000</td>\n",
              "      <td>0.000000</td>\n",
              "      <td>0.000000</td>\n",
              "    </tr>\n",
              "    <tr>\n",
              "      <th>25%</th>\n",
              "      <td>9.000000</td>\n",
              "      <td>280.000000</td>\n",
              "      <td>12.000000</td>\n",
              "      <td>0.000000</td>\n",
              "      <td>3.000000</td>\n",
              "      <td>1.000000</td>\n",
              "      <td>0.000000</td>\n",
              "      <td>0.000000</td>\n",
              "      <td>0.000000</td>\n",
              "      <td>0.000000</td>\n",
              "      <td>1.000000</td>\n",
              "      <td>0.000000</td>\n",
              "      <td>0.000000</td>\n",
              "      <td>0.000000</td>\n",
              "      <td>1.000000</td>\n",
              "      <td>0.000000</td>\n",
              "      <td>0.000000</td>\n",
              "      <td>0.000000</td>\n",
              "      <td>0.000000</td>\n",
              "      <td>0.000000</td>\n",
              "      <td>0.000000</td>\n",
              "      <td>0.000000</td>\n",
              "    </tr>\n",
              "    <tr>\n",
              "      <th>50%</th>\n",
              "      <td>16.000000</td>\n",
              "      <td>358.000000</td>\n",
              "      <td>16.000000</td>\n",
              "      <td>0.000000</td>\n",
              "      <td>4.000000</td>\n",
              "      <td>1.000000</td>\n",
              "      <td>0.000000</td>\n",
              "      <td>0.000000</td>\n",
              "      <td>0.000000</td>\n",
              "      <td>0.000000</td>\n",
              "      <td>1.000000</td>\n",
              "      <td>0.000000</td>\n",
              "      <td>0.000000</td>\n",
              "      <td>0.000000</td>\n",
              "      <td>1.000000</td>\n",
              "      <td>0.000000</td>\n",
              "      <td>0.000000</td>\n",
              "      <td>0.000000</td>\n",
              "      <td>0.000000</td>\n",
              "      <td>0.000000</td>\n",
              "      <td>1.000000</td>\n",
              "      <td>0.000000</td>\n",
              "    </tr>\n",
              "    <tr>\n",
              "      <th>75%</th>\n",
              "      <td>27.000000</td>\n",
              "      <td>470.000000</td>\n",
              "      <td>18.000000</td>\n",
              "      <td>0.000000</td>\n",
              "      <td>5.000000</td>\n",
              "      <td>1.000000</td>\n",
              "      <td>0.000000</td>\n",
              "      <td>0.000000</td>\n",
              "      <td>0.000000</td>\n",
              "      <td>0.000000</td>\n",
              "      <td>1.000000</td>\n",
              "      <td>0.000000</td>\n",
              "      <td>0.000000</td>\n",
              "      <td>0.000000</td>\n",
              "      <td>1.000000</td>\n",
              "      <td>0.000000</td>\n",
              "      <td>0.000000</td>\n",
              "      <td>0.000000</td>\n",
              "      <td>0.000000</td>\n",
              "      <td>0.000000</td>\n",
              "      <td>1.000000</td>\n",
              "      <td>0.000000</td>\n",
              "    </tr>\n",
              "    <tr>\n",
              "      <th>max</th>\n",
              "      <td>999.000000</td>\n",
              "      <td>5000.000000</td>\n",
              "      <td>99.000000</td>\n",
              "      <td>3.000000</td>\n",
              "      <td>5.000000</td>\n",
              "      <td>1.000000</td>\n",
              "      <td>1.000000</td>\n",
              "      <td>1.000000</td>\n",
              "      <td>1.000000</td>\n",
              "      <td>1.000000</td>\n",
              "      <td>1.000000</td>\n",
              "      <td>1.000000</td>\n",
              "      <td>1.000000</td>\n",
              "      <td>1.000000</td>\n",
              "      <td>1.000000</td>\n",
              "      <td>1.000000</td>\n",
              "      <td>1.000000</td>\n",
              "      <td>1.000000</td>\n",
              "      <td>1.000000</td>\n",
              "      <td>1.000000</td>\n",
              "      <td>1.000000</td>\n",
              "      <td>1.000000</td>\n",
              "    </tr>\n",
              "  </tbody>\n",
              "</table>\n",
              "</div>"
            ],
            "text/plain": [
              "        age_building  ...  other_floor_type_Timber-Planck\n",
              "count  762094.000000  ...                   762094.000000\n",
              "mean       24.325031  ...                        0.162216\n",
              "std        65.034555  ...                        0.368649\n",
              "min         0.000000  ...                        0.000000\n",
              "25%         9.000000  ...                        0.000000\n",
              "50%        16.000000  ...                        0.000000\n",
              "75%        27.000000  ...                        0.000000\n",
              "max       999.000000  ...                        1.000000\n",
              "\n",
              "[8 rows x 22 columns]"
            ]
          },
          "metadata": {
            "tags": []
          },
          "execution_count": 86
        }
      ]
    },
    {
      "cell_type": "code",
      "metadata": {
        "id": "H849wQ1k4JBV",
        "colab": {
          "base_uri": "https://localhost:8080/"
        },
        "outputId": "ce009b2e-e016-491e-bd02-255c8716bc6b"
      },
      "source": [
        "data3.info()"
      ],
      "execution_count": 87,
      "outputs": [
        {
          "output_type": "stream",
          "text": [
            "<class 'pandas.core.frame.DataFrame'>\n",
            "Int64Index: 762094 entries, 0 to 762105\n",
            "Data columns (total 22 columns):\n",
            " #   Column                                  Non-Null Count   Dtype\n",
            "---  ------                                  --------------   -----\n",
            " 0   age_building                            762094 non-null  int64\n",
            " 1   plinth_area_sq_ft                       762094 non-null  int64\n",
            " 2   height_ft_pre_eq                        762094 non-null  int64\n",
            " 3   position                                762094 non-null  int64\n",
            " 4   damage_grade                            762094 non-null  int64\n",
            " 5   land_surface_condition_Flat             762094 non-null  uint8\n",
            " 6   land_surface_condition_Moderate slope   762094 non-null  uint8\n",
            " 7   land_surface_condition_Steep slope      762094 non-null  uint8\n",
            " 8   foundation_type_Bamboo/Timber           762094 non-null  uint8\n",
            " 9   foundation_type_Cement-Stone/Brick      762094 non-null  uint8\n",
            " 10  foundation_type_Mud mortar-Stone/Brick  762094 non-null  uint8\n",
            " 11  foundation_type_Other                   762094 non-null  uint8\n",
            " 12  foundation_type_RC                      762094 non-null  uint8\n",
            " 13  ground_floor_type_Brick/Stone           762094 non-null  uint8\n",
            " 14  ground_floor_type_Mud                   762094 non-null  uint8\n",
            " 15  ground_floor_type_Other                 762094 non-null  uint8\n",
            " 16  ground_floor_type_RC                    762094 non-null  uint8\n",
            " 17  ground_floor_type_Timber                762094 non-null  uint8\n",
            " 18  other_floor_type_Not applicable         762094 non-null  uint8\n",
            " 19  other_floor_type_RCC/RB/RBC             762094 non-null  uint8\n",
            " 20  other_floor_type_TImber/Bamboo-Mud      762094 non-null  uint8\n",
            " 21  other_floor_type_Timber-Planck          762094 non-null  uint8\n",
            "dtypes: int64(5), uint8(17)\n",
            "memory usage: 47.2 MB\n"
          ],
          "name": "stdout"
        }
      ]
    },
    {
      "cell_type": "code",
      "metadata": {
        "colab": {
          "base_uri": "https://localhost:8080/",
          "height": 989
        },
        "id": "15t2iLAhL8ir",
        "outputId": "81c2aeea-2286-4bad-f9dc-539c4c8f82e0"
      },
      "source": [
        "plt.figure(figsize=(15,15))\n",
        "p = sns.heatmap(data3.corr(),cmap=\"coolwarm\",annot=True, square =True)"
      ],
      "execution_count": 88,
      "outputs": [
        {
          "output_type": "display_data",
          "data": {
            "image/png": "[encoded data removed]",
            "text/plain": [
              "<Figure size 1080x1080 with 2 Axes>"
            ]
          },
          "metadata": {
            "tags": [],
            "needs_background": "light"
          }
        }
      ]
    },
    {
      "cell_type": "code",
      "metadata": {
        "id": "KefGAnnXMeez"
      },
      "source": [
        "x = data3.drop(['damage_grade'], axis=1)\n",
        "y = data3.iloc[:, 4]\n",
        "\n",
        "x = np.array(x).astype('float32')\n",
        "y = np.array(y).astype('float32')"
      ],
      "execution_count": 89,
      "outputs": []
    },
    {
      "cell_type": "code",
      "metadata": {
        "id": "LJKU8GQ0Msgy"
      },
      "source": [
        "from sklearn.preprocessing import StandardScaler\n",
        "\n",
        "scaler_x = StandardScaler()\n",
        "x_scale = scaler_x.fit_transform(x)\n",
        "\n",
        "scaler_y = StandardScaler()\n",
        "y_scale = scaler_y.fit_transform(y.reshape(-1,1))"
      ],
      "execution_count": 90,
      "outputs": []
    },
    {
      "cell_type": "code",
      "metadata": {
        "id": "Zb6Mfo-DMuFh"
      },
      "source": [
        "from sklearn.model_selection import train_test_split\n",
        "x_train, x_test, y_train, y_test = train_test_split(x_scale,y_scale,test_size = 0.2,random_state = 42)"
      ],
      "execution_count": 91,
      "outputs": []
    },
    {
      "cell_type": "code",
      "metadata": {
        "id": "Bq8v0W8MMwf6"
      },
      "source": [
        "from tensorflow.keras.layers import Dense, Activation, Dropout, BatchNormalization\n",
        "from tensorflow.keras.models import Sequential\n",
        "from tensorflow.keras.optimizers import Adam"
      ],
      "execution_count": 92,
      "outputs": []
    },
    {
      "cell_type": "code",
      "metadata": {
        "colab": {
          "base_uri": "https://localhost:8080/"
        },
        "id": "cF3UbrESMx8O",
        "outputId": "316a0dca-f548-4038-d9cc-9f294e6064b9"
      },
      "source": [
        "# 모델 정의\n",
        "model = Sequential()\n",
        "model.add(Dense(50,input_dim=21))\n",
        "model.add(Activation('relu'))\n",
        "\n",
        "model.add(Dense(180))\n",
        "model.add(Activation('relu'))\n",
        "model.add(Dropout(0.3))\n",
        "\n",
        "model.add(Dense(180))\n",
        "model.add(Activation('relu'))\n",
        "model.add(Dropout(0.3))\n",
        "\n",
        "model.add(Dense(50))\n",
        "model.add(Activation('linear'))\n",
        "\n",
        "model.add(Dense(1))\n",
        "\n",
        "# 모델 컴파일\n",
        "model.compile(loss='mse',optimizer='adam')\n",
        "\n",
        "# 모델 요약\n",
        "model.summary()"
      ],
      "execution_count": 93,
      "outputs": [
        {
          "output_type": "stream",
          "text": [
            "Model: \"sequential_1\"\n",
            "_________________________________________________________________\n",
            "Layer (type)                 Output Shape              Param #   \n",
            "=================================================================\n",
            "dense_5 (Dense)              (None, 50)                1100      \n",
            "_________________________________________________________________\n",
            "activation_4 (Activation)    (None, 50)                0         \n",
            "_________________________________________________________________\n",
            "dense_6 (Dense)              (None, 180)               9180      \n",
            "_________________________________________________________________\n",
            "activation_5 (Activation)    (None, 180)               0         \n",
            "_________________________________________________________________\n",
            "dropout_2 (Dropout)          (None, 180)               0         \n",
            "_________________________________________________________________\n",
            "dense_7 (Dense)              (None, 180)               32580     \n",
            "_________________________________________________________________\n",
            "activation_6 (Activation)    (None, 180)               0         \n",
            "_________________________________________________________________\n",
            "dropout_3 (Dropout)          (None, 180)               0         \n",
            "_________________________________________________________________\n",
            "dense_8 (Dense)              (None, 50)                9050      \n",
            "_________________________________________________________________\n",
            "activation_7 (Activation)    (None, 50)                0         \n",
            "_________________________________________________________________\n",
            "dense_9 (Dense)              (None, 1)                 51        \n",
            "=================================================================\n",
            "Total params: 51,961\n",
            "Trainable params: 51,961\n",
            "Non-trainable params: 0\n",
            "_________________________________________________________________\n"
          ],
          "name": "stdout"
        }
      ]
    },
    {
      "cell_type": "code",
      "metadata": {
        "colab": {
          "base_uri": "https://localhost:8080/",
          "height": 808
        },
        "id": "HF3GJCwsNQ3N",
        "outputId": "754acafc-d02b-448e-848b-6af53cebc91f"
      },
      "source": [
        "# 모델 학습\n",
        "hist = model.fit(x_train, y_train, epochs= 50, batch_size = 20, validation_split= 0.2)\n",
        "#에러가 뜬것 같지만 작동은 잘되고 제출을 위해 잠시 중단한것이므로 문제가 없음."
      ],
      "execution_count": 50,
      "outputs": [
        {
          "output_type": "stream",
          "text": [
            "Epoch 1/50\n",
            "2439/2439 [==============================] - 16s 6ms/step - loss: 0.7219 - val_loss: 0.7025\n",
            "Epoch 2/50\n",
            "2439/2439 [==============================] - 14s 6ms/step - loss: 0.7077 - val_loss: 0.7119\n",
            "Epoch 3/50\n",
            "2439/2439 [==============================] - 15s 6ms/step - loss: 0.7041 - val_loss: 0.7009\n",
            "Epoch 4/50\n",
            "2439/2439 [==============================] - 16s 7ms/step - loss: 0.7022 - val_loss: 0.7012\n",
            "Epoch 5/50\n",
            "2439/2439 [==============================] - 15s 6ms/step - loss: 0.7016 - val_loss: 0.7098\n",
            "Epoch 6/50\n",
            "2439/2439 [==============================] - 15s 6ms/step - loss: 0.6997 - val_loss: 0.7007\n",
            "Epoch 7/50\n",
            "2439/2439 [==============================] - 14s 6ms/step - loss: 0.6990 - val_loss: 0.7036\n",
            "Epoch 8/50\n",
            "2439/2439 [==============================] - 15s 6ms/step - loss: 0.6981 - val_loss: 0.6954\n",
            "Epoch 9/50\n",
            "2439/2439 [==============================] - 15s 6ms/step - loss: 0.6977 - val_loss: 0.6962\n",
            "Epoch 10/50\n",
            "2439/2439 [==============================] - 15s 6ms/step - loss: 0.6973 - val_loss: 0.6995\n",
            "Epoch 11/50\n",
            "2439/2439 [==============================] - 15s 6ms/step - loss: 0.6965 - val_loss: 0.6960\n",
            "Epoch 12/50\n",
            "2439/2439 [==============================] - 16s 7ms/step - loss: 0.6960 - val_loss: 0.6955\n",
            "Epoch 13/50\n",
            "1859/2439 [=====================>........] - ETA: 3s - loss: 0.6958"
          ],
          "name": "stdout"
        },
        {
          "output_type": "error",
          "ename": "KeyboardInterrupt",
          "evalue": "ignored",
          "traceback": [
            "\u001b[0;31m---------------------------------------------------------------------------\u001b[0m",
            "\u001b[0;31mKeyboardInterrupt\u001b[0m                         Traceback (most recent call last)",
            "\u001b[0;32m<ipython-input-50-e87589927f68>\u001b[0m in \u001b[0;36m<module>\u001b[0;34m()\u001b[0m\n\u001b[1;32m      1\u001b[0m \u001b[0;31m# 모델 학습\u001b[0m\u001b[0;34m\u001b[0m\u001b[0;34m\u001b[0m\u001b[0;34m\u001b[0m\u001b[0m\n\u001b[0;32m----> 2\u001b[0;31m \u001b[0mhist\u001b[0m \u001b[0;34m=\u001b[0m \u001b[0mmodel\u001b[0m\u001b[0;34m.\u001b[0m\u001b[0mfit\u001b[0m\u001b[0;34m(\u001b[0m\u001b[0mx_train\u001b[0m\u001b[0;34m,\u001b[0m \u001b[0my_train\u001b[0m\u001b[0;34m,\u001b[0m \u001b[0mepochs\u001b[0m\u001b[0;34m=\u001b[0m \u001b[0;36m50\u001b[0m\u001b[0;34m,\u001b[0m \u001b[0mbatch_size\u001b[0m \u001b[0;34m=\u001b[0m \u001b[0;36m200\u001b[0m\u001b[0;34m,\u001b[0m \u001b[0mvalidation_split\u001b[0m\u001b[0;34m=\u001b[0m \u001b[0;36m0.2\u001b[0m\u001b[0;34m)\u001b[0m\u001b[0;34m\u001b[0m\u001b[0;34m\u001b[0m\u001b[0m\n\u001b[0m",
            "\u001b[0;32m/usr/local/lib/python3.7/dist-packages/tensorflow/python/keras/engine/training.py\u001b[0m in \u001b[0;36mfit\u001b[0;34m(self, x, y, batch_size, epochs, verbose, callbacks, validation_split, validation_data, shuffle, class_weight, sample_weight, initial_epoch, steps_per_epoch, validation_steps, validation_batch_size, validation_freq, max_queue_size, workers, use_multiprocessing)\u001b[0m\n\u001b[1;32m   1181\u001b[0m                 _r=1):\n\u001b[1;32m   1182\u001b[0m               \u001b[0mcallbacks\u001b[0m\u001b[0;34m.\u001b[0m\u001b[0mon_train_batch_begin\u001b[0m\u001b[0;34m(\u001b[0m\u001b[0mstep\u001b[0m\u001b[0;34m)\u001b[0m\u001b[0;34m\u001b[0m\u001b[0;34m\u001b[0m\u001b[0m\n\u001b[0;32m-> 1183\u001b[0;31m               \u001b[0mtmp_logs\u001b[0m \u001b[0;34m=\u001b[0m \u001b[0mself\u001b[0m\u001b[0;34m.\u001b[0m\u001b[0mtrain_function\u001b[0m\u001b[0;34m(\u001b[0m\u001b[0miterator\u001b[0m\u001b[0;34m)\u001b[0m\u001b[0;34m\u001b[0m\u001b[0;34m\u001b[0m\u001b[0m\n\u001b[0m\u001b[1;32m   1184\u001b[0m               \u001b[0;32mif\u001b[0m \u001b[0mdata_handler\u001b[0m\u001b[0;34m.\u001b[0m\u001b[0mshould_sync\u001b[0m\u001b[0;34m:\u001b[0m\u001b[0;34m\u001b[0m\u001b[0;34m\u001b[0m\u001b[0m\n\u001b[1;32m   1185\u001b[0m                 \u001b[0mcontext\u001b[0m\u001b[0;34m.\u001b[0m\u001b[0masync_wait\u001b[0m\u001b[0;34m(\u001b[0m\u001b[0;34m)\u001b[0m\u001b[0;34m\u001b[0m\u001b[0;34m\u001b[0m\u001b[0m\n",
            "\u001b[0;32m/usr/local/lib/python3.7/dist-packages/tensorflow/python/eager/def_function.py\u001b[0m in \u001b[0;36m__call__\u001b[0;34m(self, *args, **kwds)\u001b[0m\n\u001b[1;32m    887\u001b[0m \u001b[0;34m\u001b[0m\u001b[0m\n\u001b[1;32m    888\u001b[0m       \u001b[0;32mwith\u001b[0m \u001b[0mOptionalXlaContext\u001b[0m\u001b[0;34m(\u001b[0m\u001b[0mself\u001b[0m\u001b[0;34m.\u001b[0m\u001b[0m_jit_compile\u001b[0m\u001b[0;34m)\u001b[0m\u001b[0;34m:\u001b[0m\u001b[0;34m\u001b[0m\u001b[0;34m\u001b[0m\u001b[0m\n\u001b[0;32m--> 889\u001b[0;31m         \u001b[0mresult\u001b[0m \u001b[0;34m=\u001b[0m \u001b[0mself\u001b[0m\u001b[0;34m.\u001b[0m\u001b[0m_call\u001b[0m\u001b[0;34m(\u001b[0m\u001b[0;34m*\u001b[0m\u001b[0margs\u001b[0m\u001b[0;34m,\u001b[0m \u001b[0;34m**\u001b[0m\u001b[0mkwds\u001b[0m\u001b[0;34m)\u001b[0m\u001b[0;34m\u001b[0m\u001b[0;34m\u001b[0m\u001b[0m\n\u001b[0m\u001b[1;32m    890\u001b[0m \u001b[0;34m\u001b[0m\u001b[0m\n\u001b[1;32m    891\u001b[0m       \u001b[0mnew_tracing_count\u001b[0m \u001b[0;34m=\u001b[0m \u001b[0mself\u001b[0m\u001b[0;34m.\u001b[0m\u001b[0mexperimental_get_tracing_count\u001b[0m\u001b[0;34m(\u001b[0m\u001b[0;34m)\u001b[0m\u001b[0;34m\u001b[0m\u001b[0;34m\u001b[0m\u001b[0m\n",
            "\u001b[0;32m/usr/local/lib/python3.7/dist-packages/tensorflow/python/eager/def_function.py\u001b[0m in \u001b[0;36m_call\u001b[0;34m(self, *args, **kwds)\u001b[0m\n\u001b[1;32m    915\u001b[0m       \u001b[0;31m# In this case we have created variables on the first call, so we run the\u001b[0m\u001b[0;34m\u001b[0m\u001b[0;34m\u001b[0m\u001b[0;34m\u001b[0m\u001b[0m\n\u001b[1;32m    916\u001b[0m       \u001b[0;31m# defunned version which is guaranteed to never create variables.\u001b[0m\u001b[0;34m\u001b[0m\u001b[0;34m\u001b[0m\u001b[0;34m\u001b[0m\u001b[0m\n\u001b[0;32m--> 917\u001b[0;31m       \u001b[0;32mreturn\u001b[0m \u001b[0mself\u001b[0m\u001b[0;34m.\u001b[0m\u001b[0m_stateless_fn\u001b[0m\u001b[0;34m(\u001b[0m\u001b[0;34m*\u001b[0m\u001b[0margs\u001b[0m\u001b[0;34m,\u001b[0m \u001b[0;34m**\u001b[0m\u001b[0mkwds\u001b[0m\u001b[0;34m)\u001b[0m  \u001b[0;31m# pylint: disable=not-callable\u001b[0m\u001b[0;34m\u001b[0m\u001b[0;34m\u001b[0m\u001b[0m\n\u001b[0m\u001b[1;32m    918\u001b[0m     \u001b[0;32melif\u001b[0m \u001b[0mself\u001b[0m\u001b[0;34m.\u001b[0m\u001b[0m_stateful_fn\u001b[0m \u001b[0;32mis\u001b[0m \u001b[0;32mnot\u001b[0m \u001b[0;32mNone\u001b[0m\u001b[0;34m:\u001b[0m\u001b[0;34m\u001b[0m\u001b[0;34m\u001b[0m\u001b[0m\n\u001b[1;32m    919\u001b[0m       \u001b[0;31m# Release the lock early so that multiple threads can perform the call\u001b[0m\u001b[0;34m\u001b[0m\u001b[0;34m\u001b[0m\u001b[0;34m\u001b[0m\u001b[0m\n",
            "\u001b[0;32m/usr/local/lib/python3.7/dist-packages/tensorflow/python/eager/function.py\u001b[0m in \u001b[0;36m__call__\u001b[0;34m(self, *args, **kwargs)\u001b[0m\n\u001b[1;32m   3022\u001b[0m        filtered_flat_args) = self._maybe_define_function(args, kwargs)\n\u001b[1;32m   3023\u001b[0m     return graph_function._call_flat(\n\u001b[0;32m-> 3024\u001b[0;31m         filtered_flat_args, captured_inputs=graph_function.captured_inputs)  # pylint: disable=protected-access\n\u001b[0m\u001b[1;32m   3025\u001b[0m \u001b[0;34m\u001b[0m\u001b[0m\n\u001b[1;32m   3026\u001b[0m   \u001b[0;34m@\u001b[0m\u001b[0mproperty\u001b[0m\u001b[0;34m\u001b[0m\u001b[0;34m\u001b[0m\u001b[0m\n",
            "\u001b[0;32m/usr/local/lib/python3.7/dist-packages/tensorflow/python/eager/function.py\u001b[0m in \u001b[0;36m_call_flat\u001b[0;34m(self, args, captured_inputs, cancellation_manager)\u001b[0m\n\u001b[1;32m   1959\u001b[0m       \u001b[0;31m# No tape is watching; skip to running the function.\u001b[0m\u001b[0;34m\u001b[0m\u001b[0;34m\u001b[0m\u001b[0;34m\u001b[0m\u001b[0m\n\u001b[1;32m   1960\u001b[0m       return self._build_call_outputs(self._inference_function.call(\n\u001b[0;32m-> 1961\u001b[0;31m           ctx, args, cancellation_manager=cancellation_manager))\n\u001b[0m\u001b[1;32m   1962\u001b[0m     forward_backward = self._select_forward_and_backward_functions(\n\u001b[1;32m   1963\u001b[0m         \u001b[0margs\u001b[0m\u001b[0;34m,\u001b[0m\u001b[0;34m\u001b[0m\u001b[0;34m\u001b[0m\u001b[0m\n",
            "\u001b[0;32m/usr/local/lib/python3.7/dist-packages/tensorflow/python/eager/function.py\u001b[0m in \u001b[0;36mcall\u001b[0;34m(self, ctx, args, cancellation_manager)\u001b[0m\n\u001b[1;32m    594\u001b[0m               \u001b[0minputs\u001b[0m\u001b[0;34m=\u001b[0m\u001b[0margs\u001b[0m\u001b[0;34m,\u001b[0m\u001b[0;34m\u001b[0m\u001b[0;34m\u001b[0m\u001b[0m\n\u001b[1;32m    595\u001b[0m               \u001b[0mattrs\u001b[0m\u001b[0;34m=\u001b[0m\u001b[0mattrs\u001b[0m\u001b[0;34m,\u001b[0m\u001b[0;34m\u001b[0m\u001b[0;34m\u001b[0m\u001b[0m\n\u001b[0;32m--> 596\u001b[0;31m               ctx=ctx)\n\u001b[0m\u001b[1;32m    597\u001b[0m         \u001b[0;32melse\u001b[0m\u001b[0;34m:\u001b[0m\u001b[0;34m\u001b[0m\u001b[0;34m\u001b[0m\u001b[0m\n\u001b[1;32m    598\u001b[0m           outputs = execute.execute_with_cancellation(\n",
            "\u001b[0;32m/usr/local/lib/python3.7/dist-packages/tensorflow/python/eager/execute.py\u001b[0m in \u001b[0;36mquick_execute\u001b[0;34m(op_name, num_outputs, inputs, attrs, ctx, name)\u001b[0m\n\u001b[1;32m     58\u001b[0m     \u001b[0mctx\u001b[0m\u001b[0;34m.\u001b[0m\u001b[0mensure_initialized\u001b[0m\u001b[0;34m(\u001b[0m\u001b[0;34m)\u001b[0m\u001b[0;34m\u001b[0m\u001b[0;34m\u001b[0m\u001b[0m\n\u001b[1;32m     59\u001b[0m     tensors = pywrap_tfe.TFE_Py_Execute(ctx._handle, device_name, op_name,\n\u001b[0;32m---> 60\u001b[0;31m                                         inputs, attrs, num_outputs)\n\u001b[0m\u001b[1;32m     61\u001b[0m   \u001b[0;32mexcept\u001b[0m \u001b[0mcore\u001b[0m\u001b[0;34m.\u001b[0m\u001b[0m_NotOkStatusException\u001b[0m \u001b[0;32mas\u001b[0m \u001b[0me\u001b[0m\u001b[0;34m:\u001b[0m\u001b[0;34m\u001b[0m\u001b[0;34m\u001b[0m\u001b[0m\n\u001b[1;32m     62\u001b[0m     \u001b[0;32mif\u001b[0m \u001b[0mname\u001b[0m \u001b[0;32mis\u001b[0m \u001b[0;32mnot\u001b[0m \u001b[0;32mNone\u001b[0m\u001b[0;34m:\u001b[0m\u001b[0;34m\u001b[0m\u001b[0;34m\u001b[0m\u001b[0m\n",
            "\u001b[0;31mKeyboardInterrupt\u001b[0m: "
          ]
        }
      ]
    },
    {
      "cell_type": "code",
      "metadata": {
        "id": "Uq4rBeNfNU7-"
      },
      "source": [
        "# 학습 결과 그래프 출력\n",
        "def modelplot(history, data, val_data):\n",
        "  plt.plot(history.history[data])\n",
        "  plt.plot(history.history[val_data])\n",
        "  plt.title('Model'+ data)\n",
        "  plt.ylabel(data)\n",
        "  plt.xlabel('epoch')\n",
        "  plt.legend(['train', 'test'])\n",
        "  plt.show()"
      ],
      "execution_count": null,
      "outputs": []
    },
    {
      "cell_type": "code",
      "metadata": {
        "id": "oJQniUQ8NV3u",
        "colab": {
          "base_uri": "https://localhost:8080/",
          "height": 295
        },
        "outputId": "f887b089-0134-490b-9acf-8011f4f27f7f"
      },
      "source": [
        "# 학습 데이터 손실, 테스트 데이터 손실 출력\n",
        "modelplot(hist, 'loss', 'val_loss')"
      ],
      "execution_count": null,
      "outputs": [
        {
          "output_type": "display_data",
          "data": {
            "image/png": "[encoded data removed]",
            "text/plain": [
              "<Figure size 432x288 with 1 Axes>"
            ]
          },
          "metadata": {
            "tags": [],
            "needs_background": "light"
          }
        }
      ]
    },
    {
      "cell_type": "code",
      "metadata": {
        "id": "8rcrt_QJNYLk",
        "colab": {
          "base_uri": "https://localhost:8080/"
        },
        "outputId": "f2b0bcba-a607-4e6c-bed6-262c4ac9bffd"
      },
      "source": [
        "# 테스트 데이터를 모델에 대입하여 RMSE, MSE, MAE 출력\n",
        "y_pred = model.predict(x_test)\n",
        "\n",
        "y_pred_orig = scaler_y.inverse_transform(y_pred)\n",
        "y_test_orig = scaler_y.inverse_transform(y_test)\n",
        "\n",
        "from sklearn.metrics import mean_squared_error, mean_absolute_error\n",
        "\n",
        "RMSE = float(format(np.sqrt(mean_squared_error(y_test_orig, y_pred_orig)),'.3f'))\n",
        "MSE = mean_squared_error(y_test_orig, y_pred_orig)\n",
        "MAE = mean_absolute_error(y_test_orig, y_pred_orig)\n",
        "\n",
        "print('RMSE =',RMSE, \n",
        "      '\\nMSE =',MSE, \n",
        "      '\\nMAE =',MAE)"
      ],
      "execution_count": null,
      "outputs": [
        {
          "output_type": "stream",
          "text": [
            "RMSE = 1.12 \n",
            "MSE = 1.2551687 \n",
            "MAE = 0.9157241\n"
          ],
          "name": "stdout"
        }
      ]
    },
    {
      "cell_type": "code",
      "metadata": {
        "id": "hRHawnOf20Zv",
        "outputId": "50720d9f-d941-4bd0-91ca-b50ecb862410",
        "colab": {
          "base_uri": "https://localhost:8080/"
        }
      },
      "source": [
        "# 모델 정의\n",
        "model = Sequential()\n",
        "model.add(Dense(50,input_dim=21))\n",
        "model.add(Activation('relu'))\n",
        "\n",
        "model.add(Dense(180))\n",
        "model.add(Activation('relu'))\n",
        "model.add(Dropout(0.3))\n",
        "\n",
        "model.add(Dense(180))\n",
        "model.add(Activation('relu'))\n",
        "model.add(Dropout(0.3))\n",
        "\n",
        "model.add(Dense(50))\n",
        "model.add(Activation('linear'))\n",
        "\n",
        "model.add(Dense(1))\n",
        "\n",
        "# 모델 컴파일\n",
        "model.compile(loss='mse',optimizer='adam')\n",
        "\n",
        "# 모델 요약\n",
        "model.summary()"
      ],
      "execution_count": 94,
      "outputs": [
        {
          "output_type": "stream",
          "text": [
            "Model: \"sequential_2\"\n",
            "_________________________________________________________________\n",
            "Layer (type)                 Output Shape              Param #   \n",
            "=================================================================\n",
            "dense_10 (Dense)             (None, 50)                1100      \n",
            "_________________________________________________________________\n",
            "activation_8 (Activation)    (None, 50)                0         \n",
            "_________________________________________________________________\n",
            "dense_11 (Dense)             (None, 180)               9180      \n",
            "_________________________________________________________________\n",
            "activation_9 (Activation)    (None, 180)               0         \n",
            "_________________________________________________________________\n",
            "dropout_4 (Dropout)          (None, 180)               0         \n",
            "_________________________________________________________________\n",
            "dense_12 (Dense)             (None, 180)               32580     \n",
            "_________________________________________________________________\n",
            "activation_10 (Activation)   (None, 180)               0         \n",
            "_________________________________________________________________\n",
            "dropout_5 (Dropout)          (None, 180)               0         \n",
            "_________________________________________________________________\n",
            "dense_13 (Dense)             (None, 50)                9050      \n",
            "_________________________________________________________________\n",
            "activation_11 (Activation)   (None, 50)                0         \n",
            "_________________________________________________________________\n",
            "dense_14 (Dense)             (None, 1)                 51        \n",
            "=================================================================\n",
            "Total params: 51,961\n",
            "Trainable params: 51,961\n",
            "Non-trainable params: 0\n",
            "_________________________________________________________________\n"
          ],
          "name": "stdout"
        }
      ]
    },
    {
      "cell_type": "code",
      "metadata": {
        "id": "iVxX9vxI22e6",
        "outputId": "7facaac6-2e56-47b1-9140-e1ed910299f0",
        "colab": {
          "base_uri": "https://localhost:8080/"
        }
      },
      "source": [
        "# 모델 학습\n",
        "hist = model.fit(x_train, y_train, epochs= 50, batch_size = 200, validation_split= 0.2)"
      ],
      "execution_count": 95,
      "outputs": [
        {
          "output_type": "stream",
          "text": [
            "Epoch 1/50\n",
            "2439/2439 [==============================] - 16s 6ms/step - loss: 0.7210 - val_loss: 0.7015\n",
            "Epoch 2/50\n",
            "2439/2439 [==============================] - 15s 6ms/step - loss: 0.7071 - val_loss: 0.7029\n",
            "Epoch 3/50\n",
            "2439/2439 [==============================] - 15s 6ms/step - loss: 0.7042 - val_loss: 0.6991\n",
            "Epoch 4/50\n",
            "2439/2439 [==============================] - 15s 6ms/step - loss: 0.7020 - val_loss: 0.7023\n",
            "Epoch 5/50\n",
            "2439/2439 [==============================] - 15s 6ms/step - loss: 0.7007 - val_loss: 0.7082\n",
            "Epoch 6/50\n",
            "2439/2439 [==============================] - 15s 6ms/step - loss: 0.6995 - val_loss: 0.7013\n",
            "Epoch 7/50\n",
            "2439/2439 [==============================] - 15s 6ms/step - loss: 0.6985 - val_loss: 0.7012\n",
            "Epoch 8/50\n",
            "2439/2439 [==============================] - 15s 6ms/step - loss: 0.6979 - val_loss: 0.6978\n",
            "Epoch 9/50\n",
            "2439/2439 [==============================] - 15s 6ms/step - loss: 0.6976 - val_loss: 0.7012\n",
            "Epoch 10/50\n",
            "2439/2439 [==============================] - 16s 6ms/step - loss: 0.6969 - val_loss: 0.6987\n",
            "Epoch 11/50\n",
            "2439/2439 [==============================] - 15s 6ms/step - loss: 0.6965 - val_loss: 0.6916\n",
            "Epoch 12/50\n",
            "2439/2439 [==============================] - 15s 6ms/step - loss: 0.6957 - val_loss: 0.6987\n",
            "Epoch 13/50\n",
            "2439/2439 [==============================] - 15s 6ms/step - loss: 0.6949 - val_loss: 0.6989\n",
            "Epoch 14/50\n",
            "2439/2439 [==============================] - 15s 6ms/step - loss: 0.6943 - val_loss: 0.6991\n",
            "Epoch 15/50\n",
            "2439/2439 [==============================] - 15s 6ms/step - loss: 0.6939 - val_loss: 0.7017\n",
            "Epoch 16/50\n",
            "2439/2439 [==============================] - 15s 6ms/step - loss: 0.6934 - val_loss: 0.6911\n",
            "Epoch 17/50\n",
            "2439/2439 [==============================] - 15s 6ms/step - loss: 0.6931 - val_loss: 0.6912\n",
            "Epoch 18/50\n",
            "2439/2439 [==============================] - 16s 6ms/step - loss: 0.6934 - val_loss: 0.6935\n",
            "Epoch 19/50\n",
            "2439/2439 [==============================] - 16s 6ms/step - loss: 0.6928 - val_loss: 0.6947\n",
            "Epoch 20/50\n",
            "2439/2439 [==============================] - 16s 6ms/step - loss: 0.6921 - val_loss: 0.7041\n",
            "Epoch 21/50\n",
            "2439/2439 [==============================] - 16s 6ms/step - loss: 0.6921 - val_loss: 0.6971\n",
            "Epoch 22/50\n",
            "2439/2439 [==============================] - 16s 6ms/step - loss: 0.6922 - val_loss: 0.6969\n",
            "Epoch 23/50\n",
            "2439/2439 [==============================] - 15s 6ms/step - loss: 0.6919 - val_loss: 0.7002\n",
            "Epoch 24/50\n",
            "2439/2439 [==============================] - 16s 7ms/step - loss: 0.6917 - val_loss: 0.6903\n",
            "Epoch 25/50\n",
            "2439/2439 [==============================] - 19s 8ms/step - loss: 0.6909 - val_loss: 0.6885\n",
            "Epoch 26/50\n",
            "2439/2439 [==============================] - 16s 7ms/step - loss: 0.6909 - val_loss: 0.6961\n",
            "Epoch 27/50\n",
            "2439/2439 [==============================] - 16s 7ms/step - loss: 0.6908 - val_loss: 0.6977\n",
            "Epoch 28/50\n",
            "2439/2439 [==============================] - 16s 6ms/step - loss: 0.6908 - val_loss: 0.6894\n",
            "Epoch 29/50\n",
            "2439/2439 [==============================] - 16s 7ms/step - loss: 0.6903 - val_loss: 0.6904\n",
            "Epoch 30/50\n",
            "2439/2439 [==============================] - 16s 7ms/step - loss: 0.6902 - val_loss: 0.6894\n",
            "Epoch 31/50\n",
            "2439/2439 [==============================] - 16s 6ms/step - loss: 0.6901 - val_loss: 0.6946\n",
            "Epoch 32/50\n",
            "2439/2439 [==============================] - 16s 7ms/step - loss: 0.6898 - val_loss: 0.6880\n",
            "Epoch 33/50\n",
            "2439/2439 [==============================] - 16s 6ms/step - loss: 0.6896 - val_loss: 0.6900\n",
            "Epoch 34/50\n",
            "2439/2439 [==============================] - 16s 6ms/step - loss: 0.6897 - val_loss: 0.6931\n",
            "Epoch 35/50\n",
            "2439/2439 [==============================] - 16s 7ms/step - loss: 0.6894 - val_loss: 0.7036\n",
            "Epoch 36/50\n",
            "2439/2439 [==============================] - 17s 7ms/step - loss: 0.6890 - val_loss: 0.6936\n",
            "Epoch 37/50\n",
            "2439/2439 [==============================] - 16s 7ms/step - loss: 0.6893 - val_loss: 0.6886\n",
            "Epoch 38/50\n",
            "2439/2439 [==============================] - 16s 7ms/step - loss: 0.6889 - val_loss: 0.6916\n",
            "Epoch 39/50\n",
            "2439/2439 [==============================] - 17s 7ms/step - loss: 0.6888 - val_loss: 0.6899\n",
            "Epoch 40/50\n",
            "2439/2439 [==============================] - 16s 7ms/step - loss: 0.6883 - val_loss: 0.6919\n",
            "Epoch 41/50\n",
            "2439/2439 [==============================] - 16s 7ms/step - loss: 0.6885 - val_loss: 0.6894\n",
            "Epoch 42/50\n",
            "2439/2439 [==============================] - 16s 7ms/step - loss: 0.6882 - val_loss: 0.6874\n",
            "Epoch 43/50\n",
            "2439/2439 [==============================] - 16s 7ms/step - loss: 0.6882 - val_loss: 0.6984\n",
            "Epoch 44/50\n",
            "2439/2439 [==============================] - 16s 7ms/step - loss: 0.6881 - val_loss: 0.6883\n",
            "Epoch 45/50\n",
            "2439/2439 [==============================] - 16s 6ms/step - loss: 0.6876 - val_loss: 0.6953\n",
            "Epoch 46/50\n",
            "2439/2439 [==============================] - 16s 6ms/step - loss: 0.6876 - val_loss: 0.6874\n",
            "Epoch 47/50\n",
            "2439/2439 [==============================] - 15s 6ms/step - loss: 0.6880 - val_loss: 0.6922\n",
            "Epoch 48/50\n",
            "2439/2439 [==============================] - 16s 7ms/step - loss: 0.6877 - val_loss: 0.6922\n",
            "Epoch 49/50\n",
            "2439/2439 [==============================] - 16s 6ms/step - loss: 0.6874 - val_loss: 0.6885\n",
            "Epoch 50/50\n",
            "2439/2439 [==============================] - 16s 7ms/step - loss: 0.6870 - val_loss: 0.6936\n"
          ],
          "name": "stdout"
        }
      ]
    },
    {
      "cell_type": "code",
      "metadata": {
        "id": "mG8c6nr823wZ"
      },
      "source": [
        "# 학습 결과 그래프 출력\n",
        "def modelplot(history, data, val_data):\n",
        "  plt.plot(history.history[data])\n",
        "  plt.plot(history.history[val_data])\n",
        "  plt.title('Model'+ data)\n",
        "  plt.ylabel(data)\n",
        "  plt.xlabel('epoch')\n",
        "  plt.legend(['train', 'test'])\n",
        "  plt.show()"
      ],
      "execution_count": 96,
      "outputs": []
    },
    {
      "cell_type": "code",
      "metadata": {
        "id": "VSLqu95526PB",
        "outputId": "1e274b7c-11d2-4e5b-ae4d-7f485394ab54",
        "colab": {
          "base_uri": "https://localhost:8080/",
          "height": 295
        }
      },
      "source": [
        "# 학습 데이터 손실, 테스트 데이터 손실 출력\n",
        "modelplot(hist, 'loss', 'val_loss')"
      ],
      "execution_count": 97,
      "outputs": [
        {
          "output_type": "display_data",
          "data": {
            "image/png": "[encoded data removed]",
            "text/plain": [
              "<Figure size 432x288 with 1 Axes>"
            ]
          },
          "metadata": {
            "tags": [],
            "needs_background": "light"
          }
        }
      ]
    },
    {
      "cell_type": "code",
      "metadata": {
        "id": "UJZegCcs27mR",
        "outputId": "0405bb3a-7a1b-46a1-ebc8-a17710279d3a",
        "colab": {
          "base_uri": "https://localhost:8080/"
        }
      },
      "source": [
        "# 테스트 데이터를 모델에 대입하여 RMSE, MSE, MAE 출력\n",
        "y_pred = model.predict(x_test)\n",
        "\n",
        "y_pred_orig = scaler_y.inverse_transform(y_pred)\n",
        "y_test_orig = scaler_y.inverse_transform(y_test)\n",
        "\n",
        "from sklearn.metrics import mean_squared_error, mean_absolute_error\n",
        "\n",
        "RMSE = float(format(np.sqrt(mean_squared_error(y_test_orig, y_pred_orig)),'.3f'))\n",
        "MSE = mean_squared_error(y_test_orig, y_pred_orig)\n",
        "MAE = mean_absolute_error(y_test_orig, y_pred_orig)\n",
        "\n",
        "print('RMSE =',RMSE, \n",
        "      '\\nMSE =',MSE, \n",
        "      '\\nMAE =',MAE)"
      ],
      "execution_count": 98,
      "outputs": [
        {
          "output_type": "stream",
          "text": [
            "RMSE = 1.119 \n",
            "MSE = 1.2515635 \n",
            "MAE = 0.9168156\n"
          ],
          "name": "stdout"
        }
      ]
    },
    {
      "cell_type": "markdown",
      "metadata": {
        "id": "fYC3tXLE4v94"
      },
      "source": [
        "## 6.머신러닝 모델과 비교\n",
        "- 머신러닝 모델로는 RandomForestRegressor를 사용\n",
        "- GridSearch(그리드서치)\n",
        "  - 관심 있는 매개변수들을 대상으로 가능한 모든 조합을 시도하여 최적의 매개변수를 찾는 방법\n",
        "  - 매개변수를 튜닝하여 일반화 성능을 개선해줌"
      ]
    },
    {
      "cell_type": "code",
      "metadata": {
        "id": "1E2tnwAgoiyV"
      },
      "source": [
        "from sklearn.model_selection import GridSearchCV\n",
        "from sklearn.ensemble import RandomForestRegressor\n",
        "\n",
        "# 파라미터 그리드 생성 \n",
        "param_grid = {\n",
        "    'bootstrap': [True],              # 학습셋 중 무작위로 중복 허용하여 데이터 선택\n",
        "    'max_depth': [4, 5, 6, 7],        # 트리 최대 깊이\n",
        "    'max_features': [2, 3, 4],        # 트리 학습에 사용할 최대 피처 수\n",
        "    'min_samples_leaf': [2, 3, 4],    # 최소 샘플 리프 수\n",
        "    'min_samples_split': [3, 4, 5],   # 최소 분할 샘플 수\n",
        "    'n_estimators': [10, 30, 50, 100] # 생성할 트리의 개수\n",
        "}\n",
        "\n",
        "# 베이스 모델 정의\n",
        "rf = RandomForestRegressor(criterion='mse')\n",
        "\n",
        "# 그리드 서치 모델 인스턴스화\n",
        "grid_search_rf = GridSearchCV(estimator = rf, param_grid = param_grid, \n",
        "                          cv = 5, n_jobs = -1, verbose = 4)"
      ],
      "execution_count": null,
      "outputs": []
    },
    {
      "cell_type": "code",
      "metadata": {
        "id": "8VP5CjaMoDSW",
        "colab": {
          "base_uri": "https://localhost:8080/"
        },
        "outputId": "efb28af3-4db5-4e58-8ec5-66dbec14dc6d"
      },
      "source": [
        "# 그리드 서치 모델 학습\n",
        "grid_search_rf.fit(x_train,y_train)\n",
        "\n",
        "# 최적 파라미터 출력\n",
        "grid_search_rf.best_params_"
      ],
      "execution_count": null,
      "outputs": [
        {
          "output_type": "stream",
          "text": [
            "Fitting 5 folds for each of 432 candidates, totalling 2160 fits\n"
          ],
          "name": "stdout"
        },
        {
          "output_type": "stream",
          "text": [
            "[Parallel(n_jobs=-1)]: Using backend LokyBackend with 2 concurrent workers.\n",
            "[Parallel(n_jobs=-1)]: Done  21 tasks      | elapsed:  1.7min\n",
            "[Parallel(n_jobs=-1)]: Done  94 tasks      | elapsed:  7.8min\n",
            "[Parallel(n_jobs=-1)]: Done 217 tasks      | elapsed: 19.5min\n"
          ],
          "name": "stderr"
        }
      ]
    },
    {
      "cell_type": "code",
      "metadata": {
        "id": "xICqC98joDK7"
      },
      "source": [
        "# 테스트 데이터를 모델에 대입하여 RMSE, MSE, MAE 출력\n",
        "y_pred = grid_search_rf.predict(x_test)\n",
        "\n",
        "y_pred_orig = scaler_y.inverse_transform(y_pred)\n",
        "y_test_orig = scaler_y.inverse_transform(y_test)\n",
        "\n",
        "RMSE = float(format(np.sqrt(mean_squared_error(y_test_orig, y_pred_orig)),'.3f'))\n",
        "MSE = mean_squared_error(y_test_orig, y_pred_orig)\n",
        "MAE = mean_absolute_error(y_test_orig, y_pred_orig)\n",
        "\n",
        "print('RMSE =',RMSE, \n",
        "      '\\nMSE =',MSE, \n",
        "      '\\nMAE =',MAE)"
      ],
      "execution_count": null,
      "outputs": []
    },
    {
      "cell_type": "code",
      "metadata": {
        "id": "Xdf1msv95cuD"
      },
      "source": [
        ""
      ],
      "execution_count": null,
      "outputs": []
    }
  ]
}